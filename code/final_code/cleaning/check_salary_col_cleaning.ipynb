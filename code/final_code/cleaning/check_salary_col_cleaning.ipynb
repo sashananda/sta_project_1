{
 "cells": [
  {
   "cell_type": "code",
   "execution_count": 1,
   "metadata": {
    "collapsed": true
   },
   "outputs": [],
   "source": [
    "import pandas as pd\n",
    "import numpy as np\n",
    "import math"
   ]
  },
  {
   "cell_type": "markdown",
   "metadata": {},
   "source": [
    "#### Fix CA salary column"
   ]
  },
  {
   "cell_type": "code",
   "execution_count": 4,
   "metadata": {
    "collapsed": true
   },
   "outputs": [],
   "source": [
    "df_ca = pd.read_csv('../../../data/clean_data/salaries_ca2.csv')\n",
    "df_ca = df_ca.drop('Unnamed: 0', axis=1)"
   ]
  },
  {
   "cell_type": "code",
   "execution_count": 23,
   "metadata": {
    "collapsed": false
   },
   "outputs": [],
   "source": [
    "df_ca_uncleaned = pd.read_csv('../../../data/raw_data/salaries_ca_info.csv')\n",
    "df_ca_uncleaned = df_ca_uncleaned.drop('Unnamed: 0', axis=1)"
   ]
  },
  {
   "cell_type": "code",
   "execution_count": 14,
   "metadata": {
    "collapsed": false
   },
   "outputs": [],
   "source": [
    "salaries = df_ca['salary']"
   ]
  },
  {
   "cell_type": "code",
   "execution_count": 27,
   "metadata": {
    "collapsed": true
   },
   "outputs": [],
   "source": [
    "def get_monthly_freq(position):\n",
    "    is_monthly = position.find(\"Month\")\n",
    "    if is_monthly != -1:\n",
    "        return True"
   ]
  },
  {
   "cell_type": "code",
   "execution_count": 28,
   "metadata": {
    "collapsed": true
   },
   "outputs": [],
   "source": [
    "df_ca_uncleaned['monthly_freq'] = df_ca_uncleaned['position'].map(get_monthly_freq)\n",
    "monthly_mask = (df_ca_uncleaned['monthly_freq'] == True)\n",
    "df_ca.loc[df_ca_uncleaned['monthly_freq'] == True, 'salary'] *= 12"
   ]
  },
  {
   "cell_type": "code",
   "execution_count": 30,
   "metadata": {
    "collapsed": false
   },
   "outputs": [
    {
     "name": "stdout",
     "output_type": "stream",
     "text": [
      "35\n",
      "49920\n",
      "39\n",
      "41600\n",
      "47\n",
      "43680\n",
      "49\n",
      "43680\n",
      "65\n",
      "49920\n",
      "67\n",
      "45500\n",
      "73\n",
      "45500\n",
      "74\n",
      "10000\n",
      "75\n",
      "29120\n",
      "79\n",
      "47840\n",
      "81\n",
      "50000\n",
      "87\n",
      "45000\n",
      "96\n",
      "30500\n",
      "105\n",
      "22000\n",
      "109\n",
      "50000\n",
      "111\n",
      "30000\n",
      "115\n",
      "40000\n",
      "118\n",
      "30000\n",
      "119\n",
      "47840\n",
      "128\n",
      "35360\n",
      "141\n",
      "39500\n",
      "155\n",
      "46000\n",
      "165\n",
      "45760\n",
      "174\n",
      "36000\n",
      "181\n",
      "45500\n",
      "182\n",
      "41600\n",
      "188\n",
      "44500\n",
      "189\n",
      "50000\n",
      "190\n",
      "49920\n",
      "200\n",
      "12000\n",
      "201\n",
      "46500\n",
      "202\n",
      "42000\n",
      "203\n",
      "18720\n",
      "205\n",
      "49920\n",
      "211\n",
      "45760\n",
      "213\n",
      "47840\n",
      "221\n",
      "11500\n",
      "222\n",
      "24000\n",
      "224\n",
      "125\n",
      "237\n",
      "41600\n",
      "238\n",
      "11064\n",
      "244\n",
      "50000\n",
      "246\n",
      "35500\n",
      "256\n",
      "24000\n",
      "288\n",
      "50000\n",
      "303\n",
      "45760\n",
      "338\n",
      "50000\n",
      "340\n",
      "47840\n",
      "342\n",
      "48000\n",
      "344\n",
      "39520\n",
      "347\n",
      "36000\n",
      "349\n",
      "30000\n",
      "359\n",
      "49920\n",
      "366\n",
      "36000\n",
      "371\n",
      "47000\n",
      "374\n",
      "49000\n",
      "376\n",
      "36000\n",
      "377\n",
      "43680\n",
      "378\n",
      "45760\n",
      "379\n",
      "48000\n",
      "380\n",
      "43680\n",
      "382\n",
      "48000\n",
      "383\n",
      "11028\n",
      "384\n",
      "45760\n",
      "391\n",
      "48000\n",
      "392\n",
      "39500\n",
      "393\n",
      "43680\n",
      "400\n",
      "47000\n"
     ]
    }
   ],
   "source": [
    "salary_mask = (df_ca['salary'] <= 50000)\n",
    "for i in range(len(df_ca['salary'])):\n",
    "    if salary_mask[i]:\n",
    "        print(i)\n",
    "        print(df_ca['salary'][i])"
   ]
  },
  {
   "cell_type": "code",
   "execution_count": 34,
   "metadata": {
    "collapsed": true
   },
   "outputs": [],
   "source": [
    "df_ca.to_csv('../../../data/clean_data/salaries_ca.csv')"
   ]
  },
  {
   "cell_type": "markdown",
   "metadata": {},
   "source": [
    "#### Check UK salary column"
   ]
  },
  {
   "cell_type": "code",
   "execution_count": 35,
   "metadata": {
    "collapsed": true
   },
   "outputs": [],
   "source": [
    "df_uk = pd.read_csv('../../../data/clean_data/salaries_uk3.csv')\n",
    "df_uk = df_uk.drop('Unnamed: 0', axis=1)"
   ]
  },
  {
   "cell_type": "code",
   "execution_count": 36,
   "metadata": {
    "collapsed": true
   },
   "outputs": [],
   "source": [
    "df_uk_uncleaned = pd.read_csv('../../../data/raw_data/salaries_uk_info.csv')\n",
    "df_uk_uncleaned = df_uk_uncleaned.drop('Unnamed: 0', axis=1)"
   ]
  },
  {
   "cell_type": "code",
   "execution_count": 37,
   "metadata": {
    "collapsed": false
   },
   "outputs": [
    {
     "name": "stdout",
     "output_type": "stream",
     "text": [
      "0\n",
      "35518.62\n",
      "15\n",
      "48780.9\n",
      "72\n",
      "47850.0\n",
      "85\n",
      "49590.0\n",
      "101\n",
      "40020.0\n",
      "125\n",
      "38280.0\n",
      "127\n",
      "48720.0\n",
      "131\n",
      "38280.0\n",
      "134\n",
      "31320.0\n",
      "140\n",
      "34800.0\n",
      "153\n",
      "41760.0\n",
      "167\n",
      "41760.0\n",
      "182\n",
      "31320.0\n",
      "183\n",
      "41760.0\n",
      "187\n",
      "20441.52\n",
      "188\n",
      "36540.0\n",
      "189\n",
      "33060.0\n",
      "198\n",
      "38280.0\n",
      "215\n",
      "0.0\n",
      "225\n",
      "26970.0\n",
      "236\n",
      "33060.0\n",
      "246\n",
      "41760.0\n",
      "249\n",
      "30450.0\n",
      "251\n",
      "48720.0\n",
      "252\n",
      "41760.0\n",
      "255\n",
      "48720.0\n",
      "258\n",
      "32190.0\n",
      "259\n",
      "20462.4\n",
      "264\n",
      "17400.0\n",
      "268\n",
      "31320.0\n",
      "269\n",
      "33060.0\n",
      "271\n",
      "43500.0\n",
      "290\n",
      "36540.0\n",
      "292\n",
      "30450.0\n",
      "298\n",
      "45240.0\n",
      "299\n",
      "35670.0\n",
      "316\n",
      "41760.0\n",
      "329\n",
      "41760.0\n",
      "335\n",
      "26970.0\n",
      "339\n",
      "46980.0\n",
      "344\n",
      "45240.0\n",
      "350\n",
      "48720.0\n",
      "368\n",
      "48720.0\n",
      "371\n",
      "40020.0\n",
      "377\n",
      "45240.0\n",
      "392\n",
      "20880.0\n",
      "398\n",
      "29580.0\n",
      "400\n",
      "33060.0\n",
      "403\n",
      "40020.0\n",
      "404\n",
      "40890.0\n",
      "406\n",
      "41760.0\n",
      "410\n",
      "31320.0\n",
      "417\n",
      "48720.0\n",
      "419\n",
      "41760.0\n",
      "433\n",
      "20796.48\n",
      "438\n",
      "46980.0\n",
      "455\n",
      "41760.0\n",
      "466\n",
      "43500.0\n",
      "472\n",
      "41760.0\n",
      "477\n",
      "31320.0\n",
      "479\n",
      "0.0\n",
      "481\n",
      "35670.0\n",
      "482\n",
      "20483.28\n",
      "489\n",
      "37410.0\n",
      "492\n",
      "34800.0\n",
      "495\n",
      "25334.4\n",
      "499\n",
      "19815.12\n",
      "501\n",
      "43430.4\n",
      "503\n",
      "0.0\n",
      "507\n",
      "0.0\n",
      "517\n",
      "34800.0\n",
      "518\n",
      "45240.0\n",
      "522\n",
      "48720.0\n",
      "528\n",
      "0.0\n",
      "530\n",
      "34800.0\n",
      "535\n",
      "34800.0\n",
      "549\n",
      "43430.4\n",
      "557\n",
      "48459.0\n",
      "562\n",
      "46894.74\n",
      "588\n",
      "34800.0\n",
      "630\n",
      "18270.0\n",
      "669\n",
      "46980.0\n",
      "670\n",
      "48720.0\n",
      "671\n",
      "20880.0\n",
      "674\n",
      "46980.0\n",
      "676\n",
      "43500.0\n",
      "677\n",
      "0.0\n",
      "678\n",
      "45240.0\n",
      "680\n",
      "45240.0\n",
      "683\n",
      "45240.0\n",
      "684\n",
      "45240.0\n",
      "691\n",
      "48720.0\n",
      "695\n",
      "41760.0\n",
      "696\n",
      "45240.0\n",
      "697\n",
      "20525.04\n",
      "700\n",
      "26970.0\n",
      "701\n",
      "32190.0\n",
      "707\n",
      "43500.0\n",
      "708\n",
      "36192.0\n",
      "715\n",
      "48720.0\n",
      "719\n",
      "48720.0\n",
      "736\n",
      "23490.0\n",
      "755\n",
      "43500.0\n",
      "758\n",
      "28710.0\n",
      "771\n",
      "35670.0\n",
      "775\n",
      "41760.0\n",
      "778\n",
      "33930.0\n",
      "780\n",
      "47850.0\n",
      "782\n",
      "48720.0\n",
      "789\n",
      "28953.6\n",
      "790\n",
      "20399.76\n",
      "809\n",
      "45240.0\n"
     ]
    }
   ],
   "source": [
    "salary_mask = (df_uk['salary'] <= 50000)\n",
    "for i in range(len(df_uk['salary'])):\n",
    "    if salary_mask[i]:\n",
    "        print(i)\n",
    "        print(df_uk['salary'][i])"
   ]
  },
  {
   "cell_type": "markdown",
   "metadata": {},
   "source": [
    "#### Fix US salary column"
   ]
  },
  {
   "cell_type": "code",
   "execution_count": 46,
   "metadata": {
    "collapsed": true
   },
   "outputs": [],
   "source": [
    "df_us = pd.read_csv('../../../data/clean_data/salaries_us2.csv')\n",
    "df_us = df_us.drop('Unnamed: 0', axis=1)"
   ]
  },
  {
   "cell_type": "code",
   "execution_count": 49,
   "metadata": {
    "collapsed": true
   },
   "outputs": [],
   "source": [
    "df_us_uncleaned = pd.read_csv('../../../data/raw_data/salaries_us_info.csv')\n",
    "df_us_uncleaned = df_us_uncleaned.drop('Unnamed: 0', axis=1)"
   ]
  },
  {
   "cell_type": "code",
   "execution_count": 53,
   "metadata": {
    "collapsed": true
   },
   "outputs": [],
   "source": [
    "df_us_uncleaned['monthly_freq'] = df_us_uncleaned['position'].map(get_monthly_freq)\n",
    "monthly_mask = (df_us_uncleaned['monthly_freq'] == True)\n",
    "df_us.loc[df_us_uncleaned['monthly_freq'] == True, 'salary'] *= 12"
   ]
  },
  {
   "cell_type": "code",
   "execution_count": 62,
   "metadata": {
    "collapsed": false
   },
   "outputs": [
    {
     "name": "stdout",
     "output_type": "stream",
     "text": [
      "1372\n",
      "15065.0\n",
      "1375\n",
      "15720.0\n",
      "1793\n",
      "0.0\n",
      "1998\n",
      "4967.5199999999995\n",
      "2144\n",
      "0.0\n",
      "2194\n",
      "8515.0\n",
      "2326\n",
      "11176.92\n",
      "2431\n",
      "12481.68\n",
      "2575\n",
      "0.0\n",
      "2652\n",
      "0.0\n",
      "2664\n",
      "15720.0\n",
      "2905\n",
      "0.0\n",
      "2961\n",
      "0.0\n",
      "2982\n",
      "0.0\n",
      "2983\n",
      "0.0\n",
      "3193\n",
      "0.0\n",
      "3308\n",
      "10343.76\n",
      "3322\n",
      "13755.0\n",
      "3374\n",
      "0.0\n",
      "3609\n",
      "94.32000000000001\n",
      "3780\n",
      "15720.0\n",
      "4050\n",
      "0.0\n",
      "4178\n",
      "15720.0\n",
      "5270\n",
      "0.0\n",
      "5498\n",
      "0.0\n",
      "5818\n",
      "15594.24\n",
      "5924\n",
      "214.84\n"
     ]
    }
   ],
   "source": [
    "salary_mask = (df_us['salary'] <= 20000)\n",
    "for i in range(len(df_us['salary'])):\n",
    "    if salary_mask[i]:\n",
    "        print(i)\n",
    "        print(df_us['salary'][i])"
   ]
  },
  {
   "cell_type": "code",
   "execution_count": 67,
   "metadata": {
    "collapsed": true
   },
   "outputs": [],
   "source": [
    "df_us.to_csv('../../../data/clean_data/salaries_us.csv')"
   ]
  },
  {
   "cell_type": "code",
   "execution_count": null,
   "metadata": {
    "collapsed": true
   },
   "outputs": [],
   "source": []
  }
 ],
 "metadata": {
  "kernelspec": {
   "display_name": "Python 3",
   "language": "python",
   "name": "python3"
  },
  "language_info": {
   "codemirror_mode": {
    "name": "ipython",
    "version": 3
   },
   "file_extension": ".py",
   "mimetype": "text/x-python",
   "name": "python",
   "nbconvert_exporter": "python",
   "pygments_lexer": "ipython3",
   "version": "3.6.8"
  }
 },
 "nbformat": 4,
 "nbformat_minor": 2
}
