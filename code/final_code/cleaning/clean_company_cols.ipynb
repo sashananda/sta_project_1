{
 "cells": [
  {
   "cell_type": "code",
   "execution_count": 340,
   "metadata": {
    "collapsed": false
   },
   "outputs": [],
   "source": [
    "import pandas as pd\n",
    "import math\n",
    "import numpy as np\n",
    "from sklearn.preprocessing import OneHotEncoder"
   ]
  },
  {
   "cell_type": "code",
   "execution_count": 341,
   "metadata": {
    "collapsed": true
   },
   "outputs": [],
   "source": [
    "job_desc_ca = pd.read_csv('../../../data/raw_data/elisa_position_ca.csv')\n",
    "job_desc_ca = job_desc_ca.drop(['Unnamed: 0', 'Sector', 'Position'], axis=1)\n",
    "job_desc_ca = job_desc_ca.replace(to_replace=['NF', 'Unknown', '-1', -1, 'Unknown / Non-Applicable'], value=float('nan'))\n",
    "job_desc_ca = job_desc_ca.dropna(subset=['Position_clean'])"
   ]
  },
  {
   "cell_type": "code",
   "execution_count": 342,
   "metadata": {
    "collapsed": true
   },
   "outputs": [],
   "source": [
    "job_desc_us = pd.read_csv('../../../data/raw_data/elisa_position_us.csv')\n",
    "job_desc_us = job_desc_us.drop(['Unnamed: 0', 'Position', 'Sector'], axis=1)\n",
    "job_desc_us = job_desc_us.replace(to_replace=['NF', 'Unknown', '-1', -1, 'Unknown / Non-Applicable'], value=float('nan'))\n",
    "job_desc_us = job_desc_us.dropna(subset=['Position_clean'])"
   ]
  },
  {
   "cell_type": "code",
   "execution_count": 363,
   "metadata": {
    "collapsed": true
   },
   "outputs": [],
   "source": [
    "job_desc_uk = pd.read_csv('../../../data/raw_data/elisa_position_uk.csv')\n",
    "job_desc_uk = job_desc_uk.drop(['Unnamed: 0', 'Sector', 'Position'], axis=1)\n",
    "job_desc_uk = job_desc_uk.replace(to_replace=['NF', 'Unknown', '-1', -1, 'Unknown / Non-Applicable'], value=float('nan'))\n",
    "job_desc_uk = job_desc_uk.dropna(subset=['Position_clean'])"
   ]
  },
  {
   "cell_type": "code",
   "execution_count": 344,
   "metadata": {
    "collapsed": false
   },
   "outputs": [],
   "source": [
    "job_desc_ca = job_desc_ca.rename({'Company': 'company', 'Industry': 'company_industry', \\\n",
    "                                  'Location': 'company_location', 'Rating': 'company_rating', \\\n",
    "                                  'Revenue': 'company_revenue', 'Size': 'company_size', \\\n",
    "                                  'Type': 'company_type', 'Year Founded': 'company_year_founded'}, axis=1)\n",
    "job_desc_us = job_desc_us.rename({'Company': 'company', 'Industry': 'company_industry', \\\n",
    "                                  'Location': 'company_location', 'Rating': 'company_rating', \\\n",
    "                                  'Revenue': 'company_revenue', 'Size': 'company_size', \\\n",
    "                                  'Type': 'company_type', 'Year Founded': 'company_year_founded'}, axis=1)\n",
    "job_desc_uk = job_desc_uk.rename({'Company': 'company', 'Industry': 'company_industry', \\\n",
    "                                  'Location': 'company_location', 'Rating': 'company_rating', \\\n",
    "                                  'Revenue': 'company_revenue', 'Size': 'company_size', \\\n",
    "                                  'Type': 'company_type', 'Year Founded': 'company_year_founded'}, axis=1)"
   ]
  },
  {
   "cell_type": "code",
   "execution_count": 345,
   "metadata": {
    "collapsed": true
   },
   "outputs": [],
   "source": [
    "company_info_ca = pd.read_csv('../../../data/raw_data/companies_ca_info.csv')\n",
    "company_info_ca = company_info_ca.drop(['Unnamed: 0', 'index'], axis=1)\n",
    "company_info_ca = company_info_ca.replace(to_replace=['NF', 'Unknown', '-1', -1, 'Unknown / Non-Applicable'], value=float('nan'))"
   ]
  },
  {
   "cell_type": "code",
   "execution_count": 346,
   "metadata": {
    "collapsed": true
   },
   "outputs": [],
   "source": [
    "company_info_us = pd.read_csv('../../../data/raw_data/companies_us_info.csv')\n",
    "company_info_us = company_info_us.drop(['Unnamed: 0', 'index'], axis=1)\n",
    "company_info_us = company_info_us.replace(to_replace=['NF', 'Unknown', '-1', -1, 'Unknown / Non-Applicable'], value=float('nan'))"
   ]
  },
  {
   "cell_type": "code",
   "execution_count": 347,
   "metadata": {
    "collapsed": true
   },
   "outputs": [],
   "source": [
    "company_info_uk = pd.read_csv('../../../data/raw_data/companies_uk_info.csv')\n",
    "company_info_uk = company_info_uk.drop(['Unnamed: 0'], axis=1)\n",
    "company_info_uk = company_info_uk.replace(to_replace=['NF', 'Unknown', '-1', -1, 'Unknown / Non-Applicable'], value=float('nan'))"
   ]
  },
  {
   "cell_type": "code",
   "execution_count": 348,
   "metadata": {
    "collapsed": true
   },
   "outputs": [],
   "source": [
    "def get_unique_vals(column_name):\n",
    "    unique_1 = job_desc_us[column_name].unique()\n",
    "    unique_1 = [x for x in unique_1 if str(x) != 'nan']\n",
    "    unique_2 = job_desc_ca[column_name].unique()\n",
    "    unique_2 = [x for x in unique_2 if str(x) != 'nan']\n",
    "    unique_3 = job_desc_uk[column_name].unique()\n",
    "    unique_3 = [x for x in unique_3 if str(x) != 'nan']\n",
    "    \n",
    "    unique_4 = company_info_us[column_name].unique()\n",
    "    unique_4 = [x for x in unique_4 if str(x) != 'nan']\n",
    "    unique_5 = company_info_ca[column_name].unique()\n",
    "    unique_5 = [x for x in unique_5 if str(x) != 'nan']\n",
    "    unique_6 = company_info_uk[column_name].unique()\n",
    "    unique_6 = [x for x in unique_6 if str(x) != 'nan']\n",
    "    \n",
    "    results = [unique_1, unique_2, unique_3, unique_4, unique_5, unique_6]\n",
    "    results_union = set().union(*results)\n",
    "    return (unique_1, unique_2, unique_3, unique_4, unique_5, unique_6, results_union)"
   ]
  },
  {
   "cell_type": "code",
   "execution_count": 349,
   "metadata": {
    "collapsed": true
   },
   "outputs": [],
   "source": [
    "def Diff(li1, li2):\n",
    "    return (list(list(set(li1)-set(li2)) + list(set(li2)-set(li1))))"
   ]
  },
  {
   "cell_type": "code",
   "execution_count": 350,
   "metadata": {
    "collapsed": true
   },
   "outputs": [],
   "source": [
    "def replace_col_with_categorical(df, col_name, cat):\n",
    "    df = df.drop(col_name, axis=1)\n",
    "    df[cat.columns] = cat\n",
    "    return df"
   ]
  },
  {
   "cell_type": "code",
   "execution_count": 351,
   "metadata": {
    "collapsed": false
   },
   "outputs": [],
   "source": [
    "def convert_to_categorical(df, column_name, unique_col_vals, unique_vals):\n",
    "    company = pd.get_dummies(df[column_name], prefix=column_name)\n",
    "    dif = Diff(unique_col_vals, unique_vals)\n",
    "    df = replace_col_with_categorical(df, column_name, company)\n",
    "    for col in dif:\n",
    "        df[col] = 0\n",
    "    return df"
   ]
  },
  {
   "cell_type": "code",
   "execution_count": 352,
   "metadata": {
    "collapsed": true
   },
   "outputs": [],
   "source": [
    "def convert_all_dfs_to_categorical(column_name):\n",
    "    unique_1, unique_2, unique_3, unique_4, unique_5, unique_6, results_union = get_unique_vals(column_name)\n",
    "    job_us = convert_to_categorical(job_desc_us, column_name, unique_1, results_union)\n",
    "    job_ca = convert_to_categorical(job_desc_ca, column_name, unique_2, results_union)\n",
    "    job_uk = convert_to_categorical(job_desc_uk, column_name, unique_3, results_union)\n",
    "\n",
    "    company_us = convert_to_categorical(company_info_us, column_name, unique_4, results_union)\n",
    "    company_ca = convert_to_categorical(company_info_ca, column_name, unique_5, results_union)\n",
    "    company_uk = convert_to_categorical(company_info_uk, column_name, unique_6, results_union)\n",
    "    return (job_us, job_ca, job_uk, company_us, company_ca, company_uk)"
   ]
  },
  {
   "cell_type": "markdown",
   "metadata": {},
   "source": [
    "### Type, Size, Industry -> convert to categorical"
   ]
  },
  {
   "cell_type": "code",
   "execution_count": 353,
   "metadata": {
    "collapsed": false
   },
   "outputs": [],
   "source": [
    "job_desc_us, job_desc_ca, job_desc_uk, company_info_us, company_info_ca, company_info_uk = convert_all_dfs_to_categorical('company_industry')\n",
    "job_desc_us, job_desc_ca, job_desc_uk, company_info_us, company_info_ca, company_info_uk = convert_all_dfs_to_categorical('company_revenue')\n",
    "job_desc_us, job_desc_ca, job_desc_uk, company_info_us, company_info_ca, company_info_uk = convert_all_dfs_to_categorical('company_size')\n",
    "job_desc_us, job_desc_ca, job_desc_uk, company_info_us, company_info_ca, company_info_uk = convert_all_dfs_to_categorical('company_type')"
   ]
  },
  {
   "cell_type": "markdown",
   "metadata": {},
   "source": [
    "### Clean Salary Estimate Column"
   ]
  },
  {
   "cell_type": "code",
   "execution_count": 356,
   "metadata": {
    "collapsed": true
   },
   "outputs": [],
   "source": [
    "def is_range(salary):\n",
    "    if type(salary) != float:\n",
    "        is_range = salary.find('-')\n",
    "        return is_range"
   ]
  },
  {
   "cell_type": "code",
   "execution_count": 357,
   "metadata": {
    "collapsed": false
   },
   "outputs": [],
   "source": [
    "def clean_salary(salary):\n",
    "    if type(salary) != float:\n",
    "        ran = is_range(salary)\n",
    "        salary = salary.replace(\"CA\", \"\")\n",
    "        salary = salary.replace(\"€\", \"\")\n",
    "        salary = salary.replace(\"₹\", \"\")\n",
    "        salary = salary.replace(\"$\", \"\")\n",
    "        salary = salary.replace(\"£\", \"\")\n",
    "        salary = salary.replace(\"₪\", \"\")\n",
    "        salary = salary.replace(\"K\", \"000\")\n",
    "        salary = salary.replace(\"k\", \"000\")\n",
    "        salary = salary.replace(\",\", \"\")\n",
    "        salary = salary.replace(\"(Glassdoor Est.)\", \"\")\n",
    "        salary = salary.replace(\"(Employer Est.)\", \"\")\n",
    "        is_hourly = salary.find(\"Per Hour\")\n",
    "        salary = salary.replace(\"Per Hour\", \"\")\n",
    "        if is_hourly != -1:\n",
    "            lower = int(salary[:ran].replace(\"-\", \"\"))\n",
    "            upper = int(salary[ran:])\n",
    "            salary = ((lower + upper) / 2) * 40 * 52\n",
    "        elif (ran != -1) and (is_hourly == -1):\n",
    "            lower = int(salary[:ran + 1].replace(\"-\", \"\"))\n",
    "            upper = int(salary[ran + 2:])\n",
    "            salary = (lower + upper) / 2\n",
    "        else:\n",
    "            try:\n",
    "                salary = int(salary)\n",
    "            except:\n",
    "                salary = float('nan')\n",
    "    return salary"
   ]
  },
  {
   "cell_type": "code",
   "execution_count": 358,
   "metadata": {
    "collapsed": true
   },
   "outputs": [],
   "source": [
    "def convert_usd_to_cad(usd):\n",
    "    try:\n",
    "        return usd * 1.31\n",
    "    except:\n",
    "        return float('nan')"
   ]
  },
  {
   "cell_type": "code",
   "execution_count": 359,
   "metadata": {
    "collapsed": true
   },
   "outputs": [],
   "source": [
    "def convert_pound_to_cad(pound):\n",
    "    try:\n",
    "        return pound * 1.74\n",
    "    except:\n",
    "        return float('nan')"
   ]
  },
  {
   "cell_type": "code",
   "execution_count": 360,
   "metadata": {
    "collapsed": false
   },
   "outputs": [],
   "source": [
    "job_desc_us['Glassdoor Salary Estimate'] = job_desc_us['Glassdoor Salary Estimate'].map(clean_salary).map(convert_usd_to_cad)\n",
    "job_desc_ca['Glassdoor Salary Estimate'] = job_desc_ca['Glassdoor Salary Estimate'].map(clean_salary)\n",
    "job_desc_uk['Glassdoor Salary Estimate'] = job_desc_ca['Glassdoor Salary Estimate'].map(clean_salary).map(convert_pound_to_cad)"
   ]
  },
  {
   "cell_type": "code",
   "execution_count": 365,
   "metadata": {
    "collapsed": true
   },
   "outputs": [],
   "source": [
    "# Write to files\n",
    "job_desc_us.to_csv('../../../data/clean_data/job_desc_us.csv')\n",
    "job_desc_ca.to_csv('../../../data/clean_data/job_desc_ca.csv')\n",
    "job_desc_uk.to_csv('../../../data/clean_data/job_desc_uk.csv')\n",
    "\n",
    "company_info_us.to_csv('../../../data/clean_data/company_info_us.csv')\n",
    "company_info_ca.to_csv('../../../data/clean_data/company_info_ca.csv')\n",
    "company_info_uk.to_csv('../../../data/clean_data/company_info_uk.csv')"
   ]
  }
 ],
 "metadata": {
  "kernelspec": {
   "display_name": "Python 3",
   "language": "python",
   "name": "python3"
  },
  "language_info": {
   "codemirror_mode": {
    "name": "ipython",
    "version": 3
   },
   "file_extension": ".py",
   "mimetype": "text/x-python",
   "name": "python",
   "nbconvert_exporter": "python",
   "pygments_lexer": "ipython3",
   "version": "3.6.8"
  }
 },
 "nbformat": 4,
 "nbformat_minor": 2
}
