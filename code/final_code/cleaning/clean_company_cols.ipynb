{
 "cells": [
  {
   "cell_type": "code",
   "execution_count": 343,
   "metadata": {
    "collapsed": true
   },
   "outputs": [],
   "source": [
    "import pandas as pd\n",
    "import math\n",
    "import numpy as np\n",
    "from sklearn.preprocessing import OneHotEncoder"
   ]
  },
  {
   "cell_type": "code",
   "execution_count": 344,
   "metadata": {
    "collapsed": true
   },
   "outputs": [],
   "source": [
    "job_desc_ca_all = pd.read_csv('../../../data/raw_data/jack_scrape_canada.csv')\n",
    "job_desc_ca_all = job_desc_ca_all.drop(['Unnamed: 0', 'Unnamed: 0.1', 'Unnamed: 0.1.1'], axis=1)\n",
    "\n",
    "job_desc_ca_jr = pd.read_csv('../../../data/raw_data/juniorCanadaPostings.csv')\n",
    "job_desc_ca_jr = job_desc_ca_jr.drop(['Unnamed: 0'], axis=1)\n",
    "\n",
    "job_desc_ca_sr = pd.read_csv('../../../data/raw_data/seniorCanadaPostings.csv')\n",
    "job_desc_ca_sr = job_desc_ca_sr.drop(['Unnamed: 0'], axis=1)\n",
    "\n",
    "# Merge all Canada job descriptions\n",
    "job_desc_ca = job_desc_ca_all.append(job_desc_ca_jr, sort=True)\n",
    "job_desc_ca = job_desc_ca.append(job_desc_ca_sr, sort=True)\n",
    "\n",
    "# Drop nans and duplicates\n",
    "job_desc_ca = job_desc_ca.dropna()\n",
    "job_desc_ca = job_desc_ca.drop_duplicates(subset=['Company', 'Position'])\n",
    "job_desc_ca = job_desc_ca.replace(to_replace=['NF', 'Unknown', '-1', -1, 'Unknown / Non-Applicable'], value=float('nan'))"
   ]
  },
  {
   "cell_type": "code",
   "execution_count": 345,
   "metadata": {
    "collapsed": true
   },
   "outputs": [],
   "source": [
    "job_desc_us = pd.read_csv('../../../data/raw_data/elisa_us_cleaned.csv')\n",
    "job_desc_us = job_desc_us.drop(['Unnamed: 0'], axis=1)\n",
    "job_desc_us = job_desc_us.replace(to_replace='NF', value=float('nan'))\n",
    "job_desc_us = job_desc_us.replace(to_replace=['NF', 'Unknown', '-1', -1, 'Unknown / Non-Applicable'], value=float('nan'))"
   ]
  },
  {
   "cell_type": "code",
   "execution_count": 346,
   "metadata": {
    "collapsed": true
   },
   "outputs": [],
   "source": [
    "job_desc_ca = job_desc_ca.rename({'Company': 'company', 'Position': 'position', 'Type': 'company_type',\n",
    "                                 'Size': 'company_size'}, axis=1)\n",
    "job_desc_us = job_desc_us.rename({'Company': 'company', 'Position': 'position', 'Type': 'company_type', \n",
    "                                 'Size': 'company_size'}, axis=1)"
   ]
  },
  {
   "cell_type": "code",
   "execution_count": 347,
   "metadata": {
    "collapsed": true
   },
   "outputs": [],
   "source": [
    "company_info_ca = pd.read_csv('../../../data/raw_data/companies_ca_info.csv')\n",
    "company_info_ca = company_info_ca.drop(['Unnamed: 0'], axis=1)\n",
    "company_info_ca = company_info_ca.replace(to_replace=['NF', 'Unknown', '-1', -1, 'Unknown / Non-Applicable'], value=float('nan'))"
   ]
  },
  {
   "cell_type": "code",
   "execution_count": 348,
   "metadata": {
    "collapsed": true
   },
   "outputs": [],
   "source": [
    "company_info_us = pd.read_csv('../../../data/raw_data/companies_us_info.csv')\n",
    "company_info_us = company_info_us.drop(['Unnamed: 0', 'index'], axis=1)\n",
    "company_info_us = company_info_us.replace(to_replace=['NF', 'Unknown', '-1', -1, 'Unknown / Non-Applicable'], value=float('nan'))"
   ]
  },
  {
   "cell_type": "code",
   "execution_count": 349,
   "metadata": {
    "collapsed": true
   },
   "outputs": [],
   "source": [
    "def get_unique_vals(column_name):\n",
    "    unique_1 = job_desc_us[column_name].unique()\n",
    "    unique_1 = [x for x in unique_1 if str(x) != 'nan']\n",
    "    unique_2 = job_desc_ca[column_name].unique()\n",
    "    unique_2 = [x for x in unique_2 if str(x) != 'nan']\n",
    "    unique_3 = company_info_us[column_name].unique()\n",
    "    unique_3 = [x for x in unique_3 if str(x) != 'nan']\n",
    "    unique_4 = company_info_ca[column_name].unique()\n",
    "    unique_4 = [x for x in unique_4 if str(x) != 'nan']\n",
    "    \n",
    "    results = [unique_1, unique_2, unique_3, unique_4]\n",
    "    results_union = set().union(*results)\n",
    "    return (unique_1, unique_2, unique_3, unique_4, results_union)"
   ]
  },
  {
   "cell_type": "code",
   "execution_count": 350,
   "metadata": {
    "collapsed": true
   },
   "outputs": [],
   "source": [
    "def Diff(li1, li2):\n",
    "    return (list(list(set(li1)-set(li2)) + list(set(li2)-set(li1))))"
   ]
  },
  {
   "cell_type": "code",
   "execution_count": 351,
   "metadata": {
    "collapsed": true
   },
   "outputs": [],
   "source": [
    "def replace_col_with_categorical(df, col_name, cat):\n",
    "    df = df.drop(col_name, axis=1)\n",
    "    df[cat.columns] = cat\n",
    "    return df"
   ]
  },
  {
   "cell_type": "code",
   "execution_count": 352,
   "metadata": {
    "collapsed": false
   },
   "outputs": [],
   "source": [
    "def convert_to_categorical(df, column_name, unique_col_vals, unique_vals):\n",
    "    company = pd.get_dummies(df[column_name], prefix=column_name)\n",
    "    dif = Diff(unique_col_vals, unique_vals)\n",
    "    df = replace_col_with_categorical(df, column_name, company)\n",
    "    for col in dif:\n",
    "        df[col] = 0\n",
    "    return df"
   ]
  },
  {
   "cell_type": "code",
   "execution_count": 353,
   "metadata": {
    "collapsed": true
   },
   "outputs": [],
   "source": [
    "def convert_all_dfs_to_categorical(column_name):\n",
    "    unique_1, unique_2, unique_3, unique_4, results_union = get_unique_vals(column_name)\n",
    "    job_us = convert_to_categorical(job_desc_us, column_name, unique_1, results_union)\n",
    "    job_ca = convert_to_categorical(job_desc_ca, column_name, unique_2, results_union)\n",
    "    company_us = convert_to_categorical(company_info_us, column_name, unique_3, results_union)\n",
    "    company_ca = convert_to_categorical(company_info_ca, column_name, unique_4, results_union)\n",
    "    return (job_us, job_ca, company_us, company_ca)"
   ]
  },
  {
   "cell_type": "markdown",
   "metadata": {},
   "source": [
    "### Type, Size, Industry -> convert to categorical"
   ]
  },
  {
   "cell_type": "code",
   "execution_count": 354,
   "metadata": {
    "collapsed": false
   },
   "outputs": [
    {
     "data": {
      "text/plain": [
       "array(['10000+ Employees', '501 to 1000 Employees', '1 to 50 Employees',\n",
       "       '201 to 500 Employees', nan, '5001 to 10000 Employees',\n",
       "       '1001 to 5000 Employees', '51 to 200 Employees'], dtype=object)"
      ]
     },
     "execution_count": 354,
     "metadata": {},
     "output_type": "execute_result"
    }
   ],
   "source": [
    "job_desc_us['company_size'].unique()"
   ]
  },
  {
   "cell_type": "code",
   "execution_count": 355,
   "metadata": {
    "collapsed": false
   },
   "outputs": [
    {
     "data": {
      "text/plain": [
       "array(['501 to 1000 Employees', '1001 to 5000 Employees',\n",
       "       '201 to 500 Employees', nan, '51 to 200 Employees',\n",
       "       '10000+ Employees', '1 to 50 Employees', '5001 to 10000 Employees'],\n",
       "      dtype=object)"
      ]
     },
     "execution_count": 355,
     "metadata": {},
     "output_type": "execute_result"
    }
   ],
   "source": [
    "job_desc_ca['company_size'].unique()"
   ]
  },
  {
   "cell_type": "code",
   "execution_count": 357,
   "metadata": {
    "collapsed": false
   },
   "outputs": [],
   "source": [
    "job_desc_us, job_desc_ca, company_info_us, company_info_ca = convert_all_dfs_to_categorical('company_size')"
   ]
  },
  {
   "cell_type": "code",
   "execution_count": 365,
   "metadata": {
    "collapsed": false
   },
   "outputs": [
    {
     "data": {
      "text/plain": [
       "Index(['company', 'Description', 'Glassdoor Salary Estimate', 'Industry',\n",
       "       'Location', 'position', 'Rating', 'Revenue', 'Sector', 'Year Founded',\n",
       "       'company_size_1 to 50 Employees', 'company_size_10000+ Employees',\n",
       "       'company_size_1001 to 5000 Employees',\n",
       "       'company_size_201 to 500 Employees',\n",
       "       'company_size_5001 to 10000 Employees',\n",
       "       'company_size_501 to 1000 Employees',\n",
       "       'company_size_51 to 200 Employees'],\n",
       "      dtype='object')"
      ]
     },
     "execution_count": 365,
     "metadata": {},
     "output_type": "execute_result"
    }
   ],
   "source": [
    "job_desc_ca.columns"
   ]
  },
  {
   "cell_type": "code",
   "execution_count": null,
   "metadata": {
    "collapsed": true
   },
   "outputs": [],
   "source": []
  }
 ],
 "metadata": {
  "kernelspec": {
   "display_name": "Python 3",
   "language": "python",
   "name": "python3"
  },
  "language_info": {
   "codemirror_mode": {
    "name": "ipython",
    "version": 3
   },
   "file_extension": ".py",
   "mimetype": "text/x-python",
   "name": "python",
   "nbconvert_exporter": "python",
   "pygments_lexer": "ipython3",
   "version": "3.6.8"
  }
 },
 "nbformat": 4,
 "nbformat_minor": 2
}
