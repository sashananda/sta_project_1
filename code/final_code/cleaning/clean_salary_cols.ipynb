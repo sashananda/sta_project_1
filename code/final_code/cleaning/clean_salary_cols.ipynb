{
 "cells": [
  {
   "cell_type": "code",
   "execution_count": 272,
   "metadata": {
    "collapsed": true
   },
   "outputs": [],
   "source": [
    "import pandas as pd\n",
    "import math"
   ]
  },
  {
   "cell_type": "code",
   "execution_count": 311,
   "metadata": {
    "collapsed": false
   },
   "outputs": [],
   "source": [
    "df_salaries_ca = pd.read_csv('../../../data/raw_data/salaries_ca_info.csv')\n",
    "df_salaries_ca = df_salaries_ca.drop(['Unnamed: 0'], axis=1)"
   ]
  },
  {
   "cell_type": "code",
   "execution_count": 312,
   "metadata": {
    "collapsed": true
   },
   "outputs": [],
   "source": [
    "df_salaries_us = pd.read_csv('../../../data/raw_data/salaries_us_info.csv')\n",
    "df_salaries_us = df_salaries_us.drop(['Unnamed: 0'], axis=1)"
   ]
  },
  {
   "cell_type": "code",
   "execution_count": 317,
   "metadata": {
    "collapsed": true
   },
   "outputs": [],
   "source": [
    "# Merge all Canada job descriptions\n",
    "job_desc_ca = job_desc_ca_all.append(job_desc_ca_jr, sort=True)\n",
    "job_desc_ca = job_desc_ca.append(job_desc_ca_sr, sort=True)\n",
    "\n",
    "# Drop nans and duplicates\n",
    "job_desc_ca = job_desc_ca.dropna()\n",
    "job_desc_ca = job_desc_ca.drop_duplicates(subset=['Company', 'Position'])"
   ]
  },
  {
   "cell_type": "code",
   "execution_count": 318,
   "metadata": {
    "collapsed": false
   },
   "outputs": [],
   "source": [
    "def get_salary_freq(salary):\n",
    "    freq = ''\n",
    "    is_hourly_1 = salary.find(\"/hr\")\n",
    "    is_hourly_2 = salary.find(\"hourly\")\n",
    "    is_monthly = salary.find(\"/mo\")\n",
    "    is_yearly = salary.find(\"/yr\")\n",
    "    if (is_hourly_1 != -1) or (is_hourly_2 != -1):\n",
    "        freq = 'hourly'\n",
    "    elif is_monthly != -1:\n",
    "        freq = 'monthly'\n",
    "    elif is_yearly != -1:\n",
    "        freq = 'yearly'\n",
    "    else:\n",
    "        freq = 'yearly'\n",
    "    return freq"
   ]
  },
  {
   "cell_type": "code",
   "execution_count": 319,
   "metadata": {
    "collapsed": false
   },
   "outputs": [],
   "source": [
    "def clean_salary(salary):\n",
    "    if type(salary) != float:\n",
    "        salary = salary.replace(\"CA\", \"\")\n",
    "        salary = salary.replace(\"€\", \"\")\n",
    "        salary = salary.replace(\"₹\", \"\")\n",
    "        salary = salary.replace(\"$\", \"\")\n",
    "        salary = salary.replace(\"£\", \"\")\n",
    "        salary = salary.replace(\"₪\", \"\")\n",
    "        salary = salary.replace(\"K\", \"000\")\n",
    "        salary = salary.replace(\",\", \"\")\n",
    "        is_range = salary.find(\"-\")\n",
    "        is_hourly_1 = salary.find(\"/hr\")\n",
    "        salary = salary.replace(\"/hr\", \"\")\n",
    "        is_hourly_2 = salary.find(\"hourly\")\n",
    "        salary = salary.replace(\"hourly\", \"\")\n",
    "        is_monthly = salary.find(\"/mo\")\n",
    "        salary = salary.replace(\"/mo\", \"\")\n",
    "        is_yearly = salary.find(\"/yr\")\n",
    "        salary = salary.replace(\"/yr\", \"\")\n",
    "        if is_range != -1:\n",
    "            salary = salary.replace(\"A\", \"\")\n",
    "            salary = salary.replace(\"R\", \"\")\n",
    "            lower = int(salary[:is_range].replace(\"-\", \"\"))\n",
    "            upper = int(salary[is_range + 1:])\n",
    "            salary = (lower + upper) / 2\n",
    "        if (is_hourly_1 != -1) or (is_hourly_2 != -1):\n",
    "            salary = int(salary) * 40 * 52\n",
    "        if (is_monthly != -1):\n",
    "            salary = int(salary) * 12\n",
    "        if (is_yearly != -1):\n",
    "            salary = int(salary)\n",
    "        else:\n",
    "            try:\n",
    "                salary = int(salary)\n",
    "            except:\n",
    "                salary = float('nan')\n",
    "    return salary"
   ]
  },
  {
   "cell_type": "code",
   "execution_count": 320,
   "metadata": {
    "collapsed": true
   },
   "outputs": [],
   "source": [
    "def convert_to_cad(usd):\n",
    "    try:\n",
    "        return usd * 1.31\n",
    "    except:\n",
    "        return float('nan')"
   ]
  },
  {
   "cell_type": "code",
   "execution_count": 321,
   "metadata": {
    "collapsed": false
   },
   "outputs": [],
   "source": [
    "def clean_additional_salary_info_column(df, column, hourly_mask, monthly_mask):\n",
    "    df[column] = df[column].map(clean_salary)\n",
    "    hourly_mask = (df['freq'] == 'hourly')\n",
    "    monthly_mask = (df['freq'] == 'monthly')\n",
    "    df[column][hourly_mask] *= 40 * 52\n",
    "    df[column][monthly_mask] *= 12"
   ]
  },
  {
   "cell_type": "code",
   "execution_count": 322,
   "metadata": {
    "collapsed": false
   },
   "outputs": [],
   "source": [
    "df_salaries_ca['freq'] = df_salaries_ca['salary'].map(get_salary_freq)\n",
    "df_salaries_ca['salary'] = df_salaries_ca['salary'].map(clean_salary)"
   ]
  },
  {
   "cell_type": "code",
   "execution_count": 323,
   "metadata": {
    "collapsed": false
   },
   "outputs": [
    {
     "name": "stderr",
     "output_type": "stream",
     "text": [
      "/Users/sashananda/anaconda/lib/python3.6/site-packages/ipykernel/__main__.py:5: SettingWithCopyWarning: \n",
      "A value is trying to be set on a copy of a slice from a DataFrame\n",
      "\n",
      "See the caveats in the documentation: http://pandas.pydata.org/pandas-docs/stable/indexing.html#indexing-view-versus-copy\n",
      "/Users/sashananda/anaconda/lib/python3.6/site-packages/ipykernel/__main__.py:6: SettingWithCopyWarning: \n",
      "A value is trying to be set on a copy of a slice from a DataFrame\n",
      "\n",
      "See the caveats in the documentation: http://pandas.pydata.org/pandas-docs/stable/indexing.html#indexing-view-versus-copy\n",
      "/Users/sashananda/anaconda/lib/python3.6/site-packages/ipykernel/__main__.py:5: SettingWithCopyWarning: \n",
      "A value is trying to be set on a copy of a slice from a DataFrame\n",
      "\n",
      "See the caveats in the documentation: http://pandas.pydata.org/pandas-docs/stable/indexing.html#indexing-view-versus-copy\n",
      "/Users/sashananda/anaconda/lib/python3.6/site-packages/ipykernel/__main__.py:6: SettingWithCopyWarning: \n",
      "A value is trying to be set on a copy of a slice from a DataFrame\n",
      "\n",
      "See the caveats in the documentation: http://pandas.pydata.org/pandas-docs/stable/indexing.html#indexing-view-versus-copy\n",
      "/Users/sashananda/anaconda/lib/python3.6/site-packages/ipykernel/__main__.py:5: SettingWithCopyWarning: \n",
      "A value is trying to be set on a copy of a slice from a DataFrame\n",
      "\n",
      "See the caveats in the documentation: http://pandas.pydata.org/pandas-docs/stable/indexing.html#indexing-view-versus-copy\n",
      "/Users/sashananda/anaconda/lib/python3.6/site-packages/ipykernel/__main__.py:6: SettingWithCopyWarning: \n",
      "A value is trying to be set on a copy of a slice from a DataFrame\n",
      "\n",
      "See the caveats in the documentation: http://pandas.pydata.org/pandas-docs/stable/indexing.html#indexing-view-versus-copy\n"
     ]
    }
   ],
   "source": [
    "hourly_mask = (df_salaries_ca['freq'] == 'hourly')\n",
    "monthly_mask = (df_salaries_ca['freq'] == 'monthly')\n",
    "clean_additional_salary_info_column(df_salaries_ca, 'lower_bound_salary', hourly_mask, monthly_mask)\n",
    "clean_additional_salary_info_column(df_salaries_ca, 'upper_bound_salary', hourly_mask, monthly_mask)\n",
    "clean_additional_salary_info_column(df_salaries_ca, 'base_pay', hourly_mask, monthly_mask)\n",
    "clean_additional_salary_info_column(df_salaries_ca, 'bonus_pay', hourly_mask, monthly_mask)\n",
    "df_salaries_ca['cash_bonus'] = df_salaries_ca['cash_bonus'].map(clean_salary)\n",
    "df_salaries_ca['stock_bonus'] = df_salaries_ca['stock_bonus'].map(clean_salary)"
   ]
  },
  {
   "cell_type": "code",
   "execution_count": 324,
   "metadata": {
    "collapsed": false
   },
   "outputs": [],
   "source": [
    "df_salaries_us['freq'] = df_salaries_us['salary'].map(get_salary_freq)\n",
    "df_salaries_us['salary'] = df_salaries_us['salary'].map(clean_salary).map(convert_to_cad)"
   ]
  },
  {
   "cell_type": "code",
   "execution_count": 325,
   "metadata": {
    "collapsed": false
   },
   "outputs": [
    {
     "name": "stderr",
     "output_type": "stream",
     "text": [
      "/Users/sashananda/anaconda/lib/python3.6/site-packages/ipykernel/__main__.py:5: SettingWithCopyWarning: \n",
      "A value is trying to be set on a copy of a slice from a DataFrame\n",
      "\n",
      "See the caveats in the documentation: http://pandas.pydata.org/pandas-docs/stable/indexing.html#indexing-view-versus-copy\n",
      "/Users/sashananda/anaconda/lib/python3.6/site-packages/ipykernel/__main__.py:6: SettingWithCopyWarning: \n",
      "A value is trying to be set on a copy of a slice from a DataFrame\n",
      "\n",
      "See the caveats in the documentation: http://pandas.pydata.org/pandas-docs/stable/indexing.html#indexing-view-versus-copy\n"
     ]
    }
   ],
   "source": [
    "hourly_mask = (df_salaries_us['freq'] == 'hourly')\n",
    "monthly_mask = (df_salaries_us['freq'] == 'monthly')\n",
    "clean_additional_salary_info_column(df_salaries_us, 'lower_bound_salary', hourly_mask, monthly_mask)\n",
    "df_salaries_us['lower_bound_salary'] = df_salaries_us['lower_bound_salary'].map(convert_to_cad)\n",
    "clean_additional_salary_info_column(df_salaries_us, 'upper_bound_salary', hourly_mask, monthly_mask)\n",
    "df_salaries_us['upper_bound_salary'] = df_salaries_us['upper_bound_salary'].map(convert_to_cad)\n",
    "\n",
    "clean_additional_salary_info_column(df_salaries_us, 'base_pay', hourly_mask, monthly_mask)\n",
    "df_salaries_us['base_pay'] = df_salaries_us['base_pay'].map(convert_to_cad)\n",
    "clean_additional_salary_info_column(df_salaries_us, 'bonus_pay', hourly_mask, monthly_mask)\n",
    "df_salaries_us['bonus_pay'] = df_salaries_us['bonus_pay'].map(convert_to_cad)\n",
    "\n",
    "df_salaries_us['cash_bonus'] = df_salaries_us['cash_bonus'].map(clean_salary).map(convert_to_cad)\n",
    "df_salaries_us['stock_bonus'] = df_salaries_us['stock_bonus'].map(clean_salary).map(convert_to_cad)"
   ]
  },
  {
   "cell_type": "code",
   "execution_count": null,
   "metadata": {
    "collapsed": true
   },
   "outputs": [],
   "source": []
  }
 ],
 "metadata": {
  "kernelspec": {
   "display_name": "Python 3",
   "language": "python",
   "name": "python3"
  },
  "language_info": {
   "codemirror_mode": {
    "name": "ipython",
    "version": 3
   },
   "file_extension": ".py",
   "mimetype": "text/x-python",
   "name": "python",
   "nbconvert_exporter": "python",
   "pygments_lexer": "ipython3",
   "version": "3.6.8"
  }
 },
 "nbformat": 4,
 "nbformat_minor": 2
}
