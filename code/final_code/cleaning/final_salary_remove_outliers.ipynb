{
 "cells": [
  {
   "cell_type": "code",
   "execution_count": 29,
   "metadata": {},
   "outputs": [],
   "source": [
    "import pandas as pd\n",
    "from scipy import stats\n",
    "import numpy as np"
   ]
  },
  {
   "cell_type": "markdown",
   "metadata": {},
   "source": [
    "# Salaries"
   ]
  },
  {
   "cell_type": "code",
   "execution_count": 90,
   "metadata": {},
   "outputs": [],
   "source": [
    "df_sal_ca = pd.read_csv('../../../data/clean_data/salaries_ca.csv')\n",
    "df_sal_uk = pd.read_csv('../../../data/clean_data/salaries_uk.csv')\n",
    "df_sal_us = pd.read_csv('../../../data/clean_data/salaries_us.csv')"
   ]
  },
  {
   "cell_type": "code",
   "execution_count": 91,
   "metadata": {},
   "outputs": [
    {
     "data": {
      "text/html": [
       "<div>\n",
       "<style scoped>\n",
       "    .dataframe tbody tr th:only-of-type {\n",
       "        vertical-align: middle;\n",
       "    }\n",
       "\n",
       "    .dataframe tbody tr th {\n",
       "        vertical-align: top;\n",
       "    }\n",
       "\n",
       "    .dataframe thead th {\n",
       "        text-align: right;\n",
       "    }\n",
       "</style>\n",
       "<table border=\"1\" class=\"dataframe\">\n",
       "  <thead>\n",
       "    <tr style=\"text-align: right;\">\n",
       "      <th></th>\n",
       "      <th>Unnamed: 0</th>\n",
       "      <th>company</th>\n",
       "      <th>salary</th>\n",
       "      <th>lower_bound_salary</th>\n",
       "      <th>upper_bound_salary</th>\n",
       "      <th>base_pay</th>\n",
       "      <th>bonus_pay</th>\n",
       "      <th>cash_bonus</th>\n",
       "      <th>stock_bonus</th>\n",
       "      <th>Position_clean</th>\n",
       "    </tr>\n",
       "  </thead>\n",
       "  <tbody>\n",
       "    <tr>\n",
       "      <th>0</th>\n",
       "      <td>0</td>\n",
       "      <td>Capital One</td>\n",
       "      <td>76883</td>\n",
       "      <td>73000</td>\n",
       "      <td>125000</td>\n",
       "      <td>76883.0</td>\n",
       "      <td>5885.0</td>\n",
       "      <td>5885.0</td>\n",
       "      <td>3272.0</td>\n",
       "      <td>Data Scientist</td>\n",
       "    </tr>\n",
       "    <tr>\n",
       "      <th>1</th>\n",
       "      <td>1</td>\n",
       "      <td>RBC</td>\n",
       "      <td>90000</td>\n",
       "      <td>55000</td>\n",
       "      <td>135000</td>\n",
       "      <td>90000.0</td>\n",
       "      <td>12589.0</td>\n",
       "      <td>11983.0</td>\n",
       "      <td>3147.0</td>\n",
       "      <td>Data Scientist</td>\n",
       "    </tr>\n",
       "    <tr>\n",
       "      <th>2</th>\n",
       "      <td>2</td>\n",
       "      <td>Scotiabank</td>\n",
       "      <td>96176</td>\n",
       "      <td>74000</td>\n",
       "      <td>103000</td>\n",
       "      <td>96176.0</td>\n",
       "      <td>10051.0</td>\n",
       "      <td>10051.0</td>\n",
       "      <td>3327.0</td>\n",
       "      <td>Data Scientist</td>\n",
       "    </tr>\n",
       "    <tr>\n",
       "      <th>3</th>\n",
       "      <td>3</td>\n",
       "      <td>TD</td>\n",
       "      <td>79473</td>\n",
       "      <td>50000</td>\n",
       "      <td>129000</td>\n",
       "      <td>79473.0</td>\n",
       "      <td>6062.0</td>\n",
       "      <td>6062.0</td>\n",
       "      <td>2393.0</td>\n",
       "      <td>Data Scientist</td>\n",
       "    </tr>\n",
       "    <tr>\n",
       "      <th>4</th>\n",
       "      <td>4</td>\n",
       "      <td>Banque Nationale du Canada/National Bank of Ca...</td>\n",
       "      <td>74945</td>\n",
       "      <td>71000</td>\n",
       "      <td>90000</td>\n",
       "      <td>74945.0</td>\n",
       "      <td>5045.0</td>\n",
       "      <td>5045.0</td>\n",
       "      <td>1536.0</td>\n",
       "      <td>Data Scientist</td>\n",
       "    </tr>\n",
       "  </tbody>\n",
       "</table>\n",
       "</div>"
      ],
      "text/plain": [
       "   Unnamed: 0                                            company  salary  \\\n",
       "0           0                                        Capital One   76883   \n",
       "1           1                                                RBC   90000   \n",
       "2           2                                         Scotiabank   96176   \n",
       "3           3                                                 TD   79473   \n",
       "4           4  Banque Nationale du Canada/National Bank of Ca...   74945   \n",
       "\n",
       "   lower_bound_salary  upper_bound_salary  base_pay  bonus_pay  cash_bonus  \\\n",
       "0               73000              125000   76883.0     5885.0      5885.0   \n",
       "1               55000              135000   90000.0    12589.0     11983.0   \n",
       "2               74000              103000   96176.0    10051.0     10051.0   \n",
       "3               50000              129000   79473.0     6062.0      6062.0   \n",
       "4               71000               90000   74945.0     5045.0      5045.0   \n",
       "\n",
       "   stock_bonus  Position_clean  \n",
       "0       3272.0  Data Scientist  \n",
       "1       3147.0  Data Scientist  \n",
       "2       3327.0  Data Scientist  \n",
       "3       2393.0  Data Scientist  \n",
       "4       1536.0  Data Scientist  "
      ]
     },
     "execution_count": 91,
     "metadata": {},
     "output_type": "execute_result"
    }
   ],
   "source": [
    "df_sal_ca.head()"
   ]
  },
  {
   "cell_type": "code",
   "execution_count": 92,
   "metadata": {},
   "outputs": [
    {
     "data": {
      "text/html": [
       "<div>\n",
       "<style scoped>\n",
       "    .dataframe tbody tr th:only-of-type {\n",
       "        vertical-align: middle;\n",
       "    }\n",
       "\n",
       "    .dataframe tbody tr th {\n",
       "        vertical-align: top;\n",
       "    }\n",
       "\n",
       "    .dataframe thead th {\n",
       "        text-align: right;\n",
       "    }\n",
       "</style>\n",
       "<table border=\"1\" class=\"dataframe\">\n",
       "  <thead>\n",
       "    <tr style=\"text-align: right;\">\n",
       "      <th></th>\n",
       "      <th>Unnamed: 0</th>\n",
       "      <th>company</th>\n",
       "      <th>salary</th>\n",
       "      <th>lower_bound_salary</th>\n",
       "      <th>upper_bound_salary</th>\n",
       "      <th>base_pay</th>\n",
       "      <th>bonus_pay</th>\n",
       "      <th>cash_bonus</th>\n",
       "      <th>stock_bonus</th>\n",
       "      <th>Position_clean</th>\n",
       "    </tr>\n",
       "  </thead>\n",
       "  <tbody>\n",
       "    <tr>\n",
       "      <th>0</th>\n",
       "      <td>0</td>\n",
       "      <td>First Derivatives</td>\n",
       "      <td>35518.62</td>\n",
       "      <td>33060.0</td>\n",
       "      <td>40020.0</td>\n",
       "      <td>35518.62</td>\n",
       "      <td>NaN</td>\n",
       "      <td>NaN</td>\n",
       "      <td>NaN</td>\n",
       "      <td>Data Scientist</td>\n",
       "    </tr>\n",
       "    <tr>\n",
       "      <th>1</th>\n",
       "      <td>1</td>\n",
       "      <td>Deliveroo</td>\n",
       "      <td>110952.84</td>\n",
       "      <td>66120.0</td>\n",
       "      <td>226200.0</td>\n",
       "      <td>110952.84</td>\n",
       "      <td>NaN</td>\n",
       "      <td>NaN</td>\n",
       "      <td>NaN</td>\n",
       "      <td>Data Scientist</td>\n",
       "    </tr>\n",
       "    <tr>\n",
       "      <th>2</th>\n",
       "      <td>2</td>\n",
       "      <td>Barclays</td>\n",
       "      <td>92635.86</td>\n",
       "      <td>69600.0</td>\n",
       "      <td>133980.0</td>\n",
       "      <td>92635.86</td>\n",
       "      <td>5569.74</td>\n",
       "      <td>5569.74</td>\n",
       "      <td>NaN</td>\n",
       "      <td>Data Scientist</td>\n",
       "    </tr>\n",
       "    <tr>\n",
       "      <th>3</th>\n",
       "      <td>3</td>\n",
       "      <td>Lloyds Banking Group</td>\n",
       "      <td>103016.70</td>\n",
       "      <td>34800.0</td>\n",
       "      <td>182700.0</td>\n",
       "      <td>103016.70</td>\n",
       "      <td>13907.82</td>\n",
       "      <td>13907.82</td>\n",
       "      <td>5258.28</td>\n",
       "      <td>Data Scientist</td>\n",
       "    </tr>\n",
       "    <tr>\n",
       "      <th>4</th>\n",
       "      <td>4</td>\n",
       "      <td>THG</td>\n",
       "      <td>72545.82</td>\n",
       "      <td>60900.0</td>\n",
       "      <td>88740.0</td>\n",
       "      <td>72545.82</td>\n",
       "      <td>6270.96</td>\n",
       "      <td>6270.96</td>\n",
       "      <td>NaN</td>\n",
       "      <td>Data Scientist</td>\n",
       "    </tr>\n",
       "  </tbody>\n",
       "</table>\n",
       "</div>"
      ],
      "text/plain": [
       "   Unnamed: 0               company     salary  lower_bound_salary  \\\n",
       "0           0     First Derivatives   35518.62             33060.0   \n",
       "1           1             Deliveroo  110952.84             66120.0   \n",
       "2           2              Barclays   92635.86             69600.0   \n",
       "3           3  Lloyds Banking Group  103016.70             34800.0   \n",
       "4           4                   THG   72545.82             60900.0   \n",
       "\n",
       "   upper_bound_salary   base_pay  bonus_pay  cash_bonus  stock_bonus  \\\n",
       "0             40020.0   35518.62        NaN         NaN          NaN   \n",
       "1            226200.0  110952.84        NaN         NaN          NaN   \n",
       "2            133980.0   92635.86    5569.74     5569.74          NaN   \n",
       "3            182700.0  103016.70   13907.82    13907.82      5258.28   \n",
       "4             88740.0   72545.82    6270.96     6270.96          NaN   \n",
       "\n",
       "   Position_clean  \n",
       "0  Data Scientist  \n",
       "1  Data Scientist  \n",
       "2  Data Scientist  \n",
       "3  Data Scientist  \n",
       "4  Data Scientist  "
      ]
     },
     "execution_count": 92,
     "metadata": {},
     "output_type": "execute_result"
    }
   ],
   "source": [
    "df_sal_uk.head()"
   ]
  },
  {
   "cell_type": "code",
   "execution_count": 93,
   "metadata": {},
   "outputs": [
    {
     "data": {
      "text/html": [
       "<div>\n",
       "<style scoped>\n",
       "    .dataframe tbody tr th:only-of-type {\n",
       "        vertical-align: middle;\n",
       "    }\n",
       "\n",
       "    .dataframe tbody tr th {\n",
       "        vertical-align: top;\n",
       "    }\n",
       "\n",
       "    .dataframe thead th {\n",
       "        text-align: right;\n",
       "    }\n",
       "</style>\n",
       "<table border=\"1\" class=\"dataframe\">\n",
       "  <thead>\n",
       "    <tr style=\"text-align: right;\">\n",
       "      <th></th>\n",
       "      <th>Unnamed: 0</th>\n",
       "      <th>company</th>\n",
       "      <th>salary</th>\n",
       "      <th>lower_bound_salary</th>\n",
       "      <th>upper_bound_salary</th>\n",
       "      <th>base_pay</th>\n",
       "      <th>bonus_pay</th>\n",
       "      <th>cash_bonus</th>\n",
       "      <th>stock_bonus</th>\n",
       "      <th>Position_clean</th>\n",
       "    </tr>\n",
       "  </thead>\n",
       "  <tbody>\n",
       "    <tr>\n",
       "      <th>0</th>\n",
       "      <td>0</td>\n",
       "      <td>Ascendum Solutions</td>\n",
       "      <td>120294.68</td>\n",
       "      <td>120520.0</td>\n",
       "      <td>120520.0</td>\n",
       "      <td>120294.68</td>\n",
       "      <td>NaN</td>\n",
       "      <td>NaN</td>\n",
       "      <td>NaN</td>\n",
       "      <td>Data Scientist</td>\n",
       "    </tr>\n",
       "    <tr>\n",
       "      <th>1</th>\n",
       "      <td>1</td>\n",
       "      <td>Facebook</td>\n",
       "      <td>198153.22</td>\n",
       "      <td>131000.0</td>\n",
       "      <td>286890.0</td>\n",
       "      <td>198153.22</td>\n",
       "      <td>19650.00</td>\n",
       "      <td>19650.00</td>\n",
       "      <td>33267.45</td>\n",
       "      <td>Data Scientist</td>\n",
       "    </tr>\n",
       "    <tr>\n",
       "      <th>2</th>\n",
       "      <td>2</td>\n",
       "      <td>Expedia Group</td>\n",
       "      <td>158744.49</td>\n",
       "      <td>145410.0</td>\n",
       "      <td>187330.0</td>\n",
       "      <td>158744.49</td>\n",
       "      <td>43235.24</td>\n",
       "      <td>43235.24</td>\n",
       "      <td>24943.71</td>\n",
       "      <td>Data Scientist</td>\n",
       "    </tr>\n",
       "    <tr>\n",
       "      <th>3</th>\n",
       "      <td>3</td>\n",
       "      <td>Quora, Inc.</td>\n",
       "      <td>155663.37</td>\n",
       "      <td>144100.0</td>\n",
       "      <td>183400.0</td>\n",
       "      <td>155663.37</td>\n",
       "      <td>NaN</td>\n",
       "      <td>NaN</td>\n",
       "      <td>NaN</td>\n",
       "      <td>Data Scientist</td>\n",
       "    </tr>\n",
       "    <tr>\n",
       "      <th>4</th>\n",
       "      <td>4</td>\n",
       "      <td>Oracle</td>\n",
       "      <td>183544.10</td>\n",
       "      <td>34060.0</td>\n",
       "      <td>251520.0</td>\n",
       "      <td>183544.10</td>\n",
       "      <td>20290.59</td>\n",
       "      <td>20290.59</td>\n",
       "      <td>15097.75</td>\n",
       "      <td>Data Scientist</td>\n",
       "    </tr>\n",
       "  </tbody>\n",
       "</table>\n",
       "</div>"
      ],
      "text/plain": [
       "   Unnamed: 0             company     salary  lower_bound_salary  \\\n",
       "0           0  Ascendum Solutions  120294.68            120520.0   \n",
       "1           1            Facebook  198153.22            131000.0   \n",
       "2           2       Expedia Group  158744.49            145410.0   \n",
       "3           3         Quora, Inc.  155663.37            144100.0   \n",
       "4           4              Oracle  183544.10             34060.0   \n",
       "\n",
       "   upper_bound_salary   base_pay  bonus_pay  cash_bonus  stock_bonus  \\\n",
       "0            120520.0  120294.68        NaN         NaN          NaN   \n",
       "1            286890.0  198153.22   19650.00    19650.00     33267.45   \n",
       "2            187330.0  158744.49   43235.24    43235.24     24943.71   \n",
       "3            183400.0  155663.37        NaN         NaN          NaN   \n",
       "4            251520.0  183544.10   20290.59    20290.59     15097.75   \n",
       "\n",
       "   Position_clean  \n",
       "0  Data Scientist  \n",
       "1  Data Scientist  \n",
       "2  Data Scientist  \n",
       "3  Data Scientist  \n",
       "4  Data Scientist  "
      ]
     },
     "execution_count": 93,
     "metadata": {},
     "output_type": "execute_result"
    }
   ],
   "source": [
    "df_sal_us.head()"
   ]
  },
  {
   "cell_type": "code",
   "execution_count": 94,
   "metadata": {},
   "outputs": [
    {
     "data": {
      "text/plain": [
       "Unnamed: 0              0\n",
       "company                 1\n",
       "salary                  0\n",
       "lower_bound_salary      0\n",
       "upper_bound_salary      0\n",
       "base_pay              130\n",
       "bonus_pay             136\n",
       "cash_bonus            316\n",
       "stock_bonus           366\n",
       "Position_clean          0\n",
       "dtype: int64"
      ]
     },
     "execution_count": 94,
     "metadata": {},
     "output_type": "execute_result"
    }
   ],
   "source": [
    "df_sal_ca.isnull().sum()"
   ]
  },
  {
   "cell_type": "code",
   "execution_count": 95,
   "metadata": {},
   "outputs": [],
   "source": [
    "df_sal_ca = df_sal_ca[df_sal_ca['company'].notna()]"
   ]
  },
  {
   "cell_type": "code",
   "execution_count": 96,
   "metadata": {},
   "outputs": [
    {
     "data": {
      "text/plain": [
       "Unnamed: 0              0\n",
       "company                 0\n",
       "salary                  0\n",
       "lower_bound_salary      1\n",
       "upper_bound_salary      1\n",
       "base_pay              104\n",
       "bonus_pay             138\n",
       "cash_bonus            616\n",
       "stock_bonus           765\n",
       "Position_clean          0\n",
       "dtype: int64"
      ]
     },
     "execution_count": 96,
     "metadata": {},
     "output_type": "execute_result"
    }
   ],
   "source": [
    "df_sal_uk.isnull().sum()"
   ]
  },
  {
   "cell_type": "code",
   "execution_count": 97,
   "metadata": {},
   "outputs": [
    {
     "data": {
      "text/plain": [
       "Unnamed: 0               0\n",
       "company                  1\n",
       "salary                   0\n",
       "lower_bound_salary       5\n",
       "upper_bound_salary       5\n",
       "base_pay              1160\n",
       "bonus_pay             1642\n",
       "cash_bonus            5505\n",
       "stock_bonus           6392\n",
       "Position_clean           0\n",
       "dtype: int64"
      ]
     },
     "execution_count": 97,
     "metadata": {},
     "output_type": "execute_result"
    }
   ],
   "source": [
    "df_sal_us.isnull().sum()"
   ]
  },
  {
   "cell_type": "code",
   "execution_count": 98,
   "metadata": {},
   "outputs": [],
   "source": [
    "df_sal_us = df_sal_us[df_sal_us['company'].notna()]"
   ]
  },
  {
   "cell_type": "code",
   "execution_count": 99,
   "metadata": {},
   "outputs": [
    {
     "data": {
      "text/plain": [
       "Unnamed: 0               199.665000\n",
       "salary                 82184.137500\n",
       "lower_bound_salary     69712.550000\n",
       "upper_bound_salary     80527.807500\n",
       "base_pay              582308.081181\n",
       "bonus_pay             586741.403774\n",
       "cash_bonus              9397.494118\n",
       "stock_bonus            14867.942857\n",
       "dtype: float64"
      ]
     },
     "execution_count": 99,
     "metadata": {},
     "output_type": "execute_result"
    }
   ],
   "source": [
    "df_sal_ca.mean()"
   ]
  },
  {
   "cell_type": "code",
   "execution_count": 100,
   "metadata": {},
   "outputs": [
    {
     "data": {
      "text/plain": [
       "Unnamed: 0              3479.203909\n",
       "salary                144923.403804\n",
       "lower_bound_salary    131430.725890\n",
       "upper_bound_salary    152185.277614\n",
       "base_pay              149113.010653\n",
       "bonus_pay             133220.366986\n",
       "cash_bonus             20139.621278\n",
       "stock_bonus            36957.235669\n",
       "dtype: float64"
      ]
     },
     "execution_count": 100,
     "metadata": {},
     "output_type": "execute_result"
    }
   ],
   "source": [
    "df_sal_us.mean()"
   ]
  },
  {
   "cell_type": "code",
   "execution_count": 101,
   "metadata": {},
   "outputs": [
    {
     "data": {
      "text/plain": [
       "Unnamed: 0              404.500000\n",
       "salary                85835.680074\n",
       "lower_bound_salary    78234.675797\n",
       "upper_bound_salary    92050.830705\n",
       "base_pay              84885.278924\n",
       "bonus_pay             79110.689821\n",
       "cash_bonus            10797.175361\n",
       "stock_bonus           14824.606667\n",
       "dtype: float64"
      ]
     },
     "execution_count": 101,
     "metadata": {},
     "output_type": "execute_result"
    }
   ],
   "source": [
    "df_sal_uk.mean()"
   ]
  },
  {
   "cell_type": "markdown",
   "metadata": {},
   "source": [
    "#### Salary"
   ]
  },
  {
   "cell_type": "code",
   "execution_count": 104,
   "metadata": {},
   "outputs": [
    {
     "data": {
      "image/png": "[encoded data removed]",
      "text/plain": [
       "<Figure size 432x288 with 1 Axes>"
      ]
     },
     "metadata": {
      "needs_background": "light"
     },
     "output_type": "display_data"
    }
   ],
   "source": [
    "hist = df_sal_ca['salary'].hist(bins=50)"
   ]
  },
  {
   "cell_type": "code",
   "execution_count": 105,
   "metadata": {},
   "outputs": [
    {
     "data": {
      "image/png": "[encoded data removed]",
      "text/plain": [
       "<Figure size 432x288 with 1 Axes>"
      ]
     },
     "metadata": {
      "needs_background": "light"
     },
     "output_type": "display_data"
    }
   ],
   "source": [
    "hist = df_sal_ca.boxplot(column = 'salary')"
   ]
  },
  {
   "cell_type": "code",
   "execution_count": 109,
   "metadata": {},
   "outputs": [
    {
     "data": {
      "image/png": "[encoded data removed]",
      "text/plain": [
       "<Figure size 432x288 with 1 Axes>"
      ]
     },
     "metadata": {
      "needs_background": "light"
     },
     "output_type": "display_data"
    }
   ],
   "source": [
    "#Removing outliers\n",
    "df_sal_ca_2 = df_sal_ca[df_sal_ca['salary']>20000]\n",
    "df_sal_ca_2 = df_sal_ca_2[df_sal_ca_2['salary']<200000]\n",
    "hist = df_sal_ca_2['salary'].hist(bins=30)"
   ]
  },
  {
   "cell_type": "code",
   "execution_count": 110,
   "metadata": {},
   "outputs": [
    {
     "data": {
      "image/png": "[encoded data removed]",
      "text/plain": [
       "<Figure size 432x288 with 1 Axes>"
      ]
     },
     "metadata": {
      "needs_background": "light"
     },
     "output_type": "display_data"
    }
   ],
   "source": [
    "hist = df_sal_us['salary'].hist(bins=100)"
   ]
  },
  {
   "cell_type": "code",
   "execution_count": 111,
   "metadata": {},
   "outputs": [
    {
     "data": {
      "image/png": "[encoded data removed]",
      "text/plain": [
       "<Figure size 432x288 with 1 Axes>"
      ]
     },
     "metadata": {
      "needs_background": "light"
     },
     "output_type": "display_data"
    }
   ],
   "source": [
    "hist = df_sal_us.boxplot(column = 'salary')"
   ]
  },
  {
   "cell_type": "code",
   "execution_count": 112,
   "metadata": {},
   "outputs": [
    {
     "data": {
      "image/png": "[encoded data removed]",
      "text/plain": [
       "<Figure size 432x288 with 1 Axes>"
      ]
     },
     "metadata": {
      "needs_background": "light"
     },
     "output_type": "display_data"
    }
   ],
   "source": [
    "df_sal_us_2 = df_sal_us[df_sal_us['salary']>10000]\n",
    "df_sal_us_2 = df_sal_us_2[df_sal_us_2['salary']<300000]\n",
    "hist = df_sal_us_2['salary'].hist(bins=30)"
   ]
  },
  {
   "cell_type": "code",
   "execution_count": 113,
   "metadata": {},
   "outputs": [
    {
     "data": {
      "image/png": "[encoded data removed]",
      "text/plain": [
       "<Figure size 432x288 with 1 Axes>"
      ]
     },
     "metadata": {
      "needs_background": "light"
     },
     "output_type": "display_data"
    }
   ],
   "source": [
    "hist = df_sal_uk['salary'].hist(bins=10)"
   ]
  },
  {
   "cell_type": "code",
   "execution_count": 114,
   "metadata": {},
   "outputs": [
    {
     "data": {
      "image/png": "[encoded data removed]",
      "text/plain": [
       "<Figure size 432x288 with 1 Axes>"
      ]
     },
     "metadata": {
      "needs_background": "light"
     },
     "output_type": "display_data"
    }
   ],
   "source": [
    "hist = df_sal_uk.boxplot(column = 'salary')"
   ]
  },
  {
   "cell_type": "code",
   "execution_count": 116,
   "metadata": {},
   "outputs": [
    {
     "data": {
      "image/png": "[encoded data removed]",
      "text/plain": [
       "<Figure size 432x288 with 1 Axes>"
      ]
     },
     "metadata": {
      "needs_background": "light"
     },
     "output_type": "display_data"
    }
   ],
   "source": [
    "df_sal_uk_2 = df_sal_uk[df_sal_uk['salary']>10000]\n",
    "df_sal_uk_2 = df_sal_uk_2[df_sal_uk_2['salary']<175000]\n",
    "hist = df_sal_uk_2['salary'].hist(bins=30)"
   ]
  },
  {
   "cell_type": "code",
   "execution_count": 117,
   "metadata": {},
   "outputs": [],
   "source": [
    "canada_list = ['CA']*df_sal_ca_2.shape[0]\n",
    "us_list = ['US']*df_sal_us_2.shape[0]\n",
    "uk_list = ['UK']*df_sal_uk_2.shape[0]\n",
    "\n",
    "df_sal_ca_2['Country'] = canada_list\n",
    "df_sal_us_2['Country'] = us_list\n",
    "df_sal_uk_2['Country'] = uk_list"
   ]
  },
  {
   "cell_type": "code",
   "execution_count": 118,
   "metadata": {},
   "outputs": [],
   "source": [
    "allData = pd.concat([df_sal_ca_2,df_sal_us_2,df_sal_uk_2])"
   ]
  },
  {
   "cell_type": "code",
   "execution_count": 119,
   "metadata": {},
   "outputs": [],
   "source": [
    "ds_df = allData[allData['Position_clean'] == 'Data Scientist']\n",
    "dsi_df = allData[allData['Position_clean'] == 'Data Scientist Intern']\n",
    "sds_df = allData[allData['Position_clean'] == 'Senior Data Scientist']\n",
    "lds_df = allData[allData['Position_clean'] == 'Lead Data Scientist']\n",
    "jds_df = allData[allData['Position_clean'] == 'Junior Data Scientist']"
   ]
  },
  {
   "cell_type": "code",
   "execution_count": 120,
   "metadata": {},
   "outputs": [
    {
     "data": {
      "image/png": "[encoded data removed]",
      "text/plain": [
       "<Figure size 432x288 with 1 Axes>"
      ]
     },
     "metadata": {
      "needs_background": "light"
     },
     "output_type": "display_data"
    }
   ],
   "source": [
    "hist = ds_df['salary'].hist(bins=30)"
   ]
  },
  {
   "cell_type": "code",
   "execution_count": 121,
   "metadata": {},
   "outputs": [
    {
     "data": {
      "image/png": "[encoded data removed]",
      "text/plain": [
       "<Figure size 432x288 with 1 Axes>"
      ]
     },
     "metadata": {
      "needs_background": "light"
     },
     "output_type": "display_data"
    }
   ],
   "source": [
    "hist = ds_df.boxplot(column = 'salary')"
   ]
  },
  {
   "cell_type": "code",
   "execution_count": 122,
   "metadata": {},
   "outputs": [
    {
     "data": {
      "image/png": "[encoded data removed]",
      "text/plain": [
       "<Figure size 432x288 with 1 Axes>"
      ]
     },
     "metadata": {
      "needs_background": "light"
     },
     "output_type": "display_data"
    }
   ],
   "source": [
    "ds_df_2 = ds_df[ds_df['salary']>20000]\n",
    "ds_df_2 = ds_df_2[ds_df_2['salary']<240000]\n",
    "hist = ds_df_2['salary'].hist(bins=30)"
   ]
  },
  {
   "cell_type": "code",
   "execution_count": 123,
   "metadata": {},
   "outputs": [
    {
     "data": {
      "image/png": "[encoded data removed]",
      "text/plain": [
       "<Figure size 432x288 with 1 Axes>"
      ]
     },
     "metadata": {
      "needs_background": "light"
     },
     "output_type": "display_data"
    }
   ],
   "source": [
    "hist = dsi_df['salary'].hist(bins=30)"
   ]
  },
  {
   "cell_type": "code",
   "execution_count": 124,
   "metadata": {},
   "outputs": [
    {
     "data": {
      "image/png": "[encoded data removed]",
      "text/plain": [
       "<Figure size 432x288 with 1 Axes>"
      ]
     },
     "metadata": {
      "needs_background": "light"
     },
     "output_type": "display_data"
    }
   ],
   "source": [
    "hist = dsi_df.boxplot(column = 'salary')"
   ]
  },
  {
   "cell_type": "code",
   "execution_count": 125,
   "metadata": {},
   "outputs": [
    {
     "data": {
      "image/png": "[encoded data removed]",
      "text/plain": [
       "<Figure size 432x288 with 1 Axes>"
      ]
     },
     "metadata": {
      "needs_background": "light"
     },
     "output_type": "display_data"
    }
   ],
   "source": [
    "dsi_df_2 = dsi_df[dsi_df['salary']<160000]\n",
    "hist = dsi_df_2['salary'].hist(bins=25)"
   ]
  },
  {
   "cell_type": "code",
   "execution_count": 126,
   "metadata": {},
   "outputs": [
    {
     "data": {
      "image/png": "[encoded data removed]",
      "text/plain": [
       "<Figure size 432x288 with 1 Axes>"
      ]
     },
     "metadata": {
      "needs_background": "light"
     },
     "output_type": "display_data"
    }
   ],
   "source": [
    "hist = sds_df['salary'].hist(bins=30)"
   ]
  },
  {
   "cell_type": "code",
   "execution_count": 127,
   "metadata": {},
   "outputs": [
    {
     "data": {
      "image/png": "[encoded data removed]",
      "text/plain": [
       "<Figure size 432x288 with 1 Axes>"
      ]
     },
     "metadata": {
      "needs_background": "light"
     },
     "output_type": "display_data"
    }
   ],
   "source": [
    "hist = sds_df.boxplot(column = 'salary')"
   ]
  },
  {
   "cell_type": "code",
   "execution_count": 128,
   "metadata": {},
   "outputs": [
    {
     "data": {
      "image/png": "[encoded data removed]",
      "text/plain": [
       "<Figure size 432x288 with 1 Axes>"
      ]
     },
     "metadata": {
      "needs_background": "light"
     },
     "output_type": "display_data"
    }
   ],
   "source": [
    "sds_df_2 = sds_df[sds_df['salary']>55000]\n",
    "sds_df_2 = sds_df_2[sds_df_2['salary']<275000]\n",
    "hist = sds_df_2['salary'].hist(bins=30)"
   ]
  },
  {
   "cell_type": "code",
   "execution_count": 129,
   "metadata": {},
   "outputs": [
    {
     "data": {
      "image/png": "[encoded data removed]",
      "text/plain": [
       "<Figure size 432x288 with 1 Axes>"
      ]
     },
     "metadata": {
      "needs_background": "light"
     },
     "output_type": "display_data"
    }
   ],
   "source": [
    "hist = lds_df['salary'].hist(bins=30)"
   ]
  },
  {
   "cell_type": "code",
   "execution_count": 130,
   "metadata": {},
   "outputs": [
    {
     "data": {
      "image/png": "[encoded data removed]",
      "text/plain": [
       "<Figure size 432x288 with 1 Axes>"
      ]
     },
     "metadata": {
      "needs_background": "light"
     },
     "output_type": "display_data"
    }
   ],
   "source": [
    "hist = lds_df.boxplot(column = 'salary')"
   ]
  },
  {
   "cell_type": "code",
   "execution_count": 79,
   "metadata": {},
   "outputs": [
    {
     "data": {
      "image/png": "[encoded data removed]",
      "text/plain": [
       "<Figure size 432x288 with 1 Axes>"
      ]
     },
     "metadata": {
      "needs_background": "light"
     },
     "output_type": "display_data"
    }
   ],
   "source": [
    "#lds_df_2 = lds_df[lds_df['salary']>75000]\n",
    "#hist = lds_df_2['salary'].hist(bins=30)"
   ]
  },
  {
   "cell_type": "code",
   "execution_count": 131,
   "metadata": {},
   "outputs": [
    {
     "data": {
      "image/png": "[encoded data removed]",
      "text/plain": [
       "<Figure size 432x288 with 1 Axes>"
      ]
     },
     "metadata": {
      "needs_background": "light"
     },
     "output_type": "display_data"
    }
   ],
   "source": [
    "hist = jds_df['salary'].hist(bins=30)"
   ]
  },
  {
   "cell_type": "code",
   "execution_count": 132,
   "metadata": {},
   "outputs": [
    {
     "data": {
      "image/png": "[encoded data removed]",
      "text/plain": [
       "<Figure size 432x288 with 1 Axes>"
      ]
     },
     "metadata": {
      "needs_background": "light"
     },
     "output_type": "display_data"
    }
   ],
   "source": [
    "hist = jds_df.boxplot(column = 'salary')"
   ]
  },
  {
   "cell_type": "code",
   "execution_count": 133,
   "metadata": {},
   "outputs": [
    {
     "data": {
      "image/png": "[encoded data removed]",
      "text/plain": [
       "<Figure size 432x288 with 1 Axes>"
      ]
     },
     "metadata": {
      "needs_background": "light"
     },
     "output_type": "display_data"
    }
   ],
   "source": [
    "jds_df_2 = jds_df[jds_df['salary']<180000]\n",
    "hist = jds_df_2['salary'].hist(bins=30)"
   ]
  },
  {
   "cell_type": "code",
   "execution_count": 134,
   "metadata": {},
   "outputs": [],
   "source": [
    "allData_2 = pd.concat([ds_df_2,sds_df_2,dsi_df_2,lds_df_2,jds_df_2])"
   ]
  },
  {
   "cell_type": "code",
   "execution_count": 135,
   "metadata": {},
   "outputs": [],
   "source": [
    "allData_2.to_csv('../../../data/clean_data/salaries_all.csv')"
   ]
  },
  {
   "cell_type": "code",
   "execution_count": 137,
   "metadata": {},
   "outputs": [],
   "source": [
    "ca_df = allData[allData['Country'] == 'CA']\n",
    "us_df = allData[allData['Country'] == 'US']\n",
    "uk_df = allData[allData['Country'] == 'UK']"
   ]
  },
  {
   "cell_type": "code",
   "execution_count": 138,
   "metadata": {},
   "outputs": [],
   "source": [
    "ca_df.to_csv('../../../data/clean_data/salaries_ca_finished.csv')\n",
    "us_df.to_csv('../../../data/clean_data/salaries_us_finished.csv')\n",
    "uk_df.to_csv('../../../data/clean_data/salaries_uk_finished.csv')"
   ]
  },
  {
   "cell_type": "code",
   "execution_count": 139,
   "metadata": {},
   "outputs": [
    {
     "data": {
      "image/png": "[encoded data removed]",
      "text/plain": [
       "<Figure size 432x288 with 1 Axes>"
      ]
     },
     "metadata": {
      "needs_background": "light"
     },
     "output_type": "display_data"
    }
   ],
   "source": [
    "hist = allData_2['salary'].hist(bins=30)"
   ]
  },
  {
   "cell_type": "markdown",
   "metadata": {},
   "source": [
    "# Job Descriptions"
   ]
  },
  {
   "cell_type": "code",
   "execution_count": 140,
   "metadata": {},
   "outputs": [],
   "source": [
    "df_des_ca = pd.read_csv('../../../data/clean_data/job_desc_ca.csv')\n",
    "df_des_uk = pd.read_csv('../../../data/clean_data/job_desc_uk.csv')\n",
    "df_des_us = pd.read_csv('../../../data/clean_data/job_desc_us.csv')"
   ]
  },
  {
   "cell_type": "code",
   "execution_count": 141,
   "metadata": {},
   "outputs": [
    {
     "data": {
      "text/html": [
       "<div>\n",
       "<style scoped>\n",
       "    .dataframe tbody tr th:only-of-type {\n",
       "        vertical-align: middle;\n",
       "    }\n",
       "\n",
       "    .dataframe tbody tr th {\n",
       "        vertical-align: top;\n",
       "    }\n",
       "\n",
       "    .dataframe thead th {\n",
       "        text-align: right;\n",
       "    }\n",
       "</style>\n",
       "<table border=\"1\" class=\"dataframe\">\n",
       "  <thead>\n",
       "    <tr style=\"text-align: right;\">\n",
       "      <th></th>\n",
       "      <th>Unnamed: 0</th>\n",
       "      <th>company</th>\n",
       "      <th>Description</th>\n",
       "      <th>Glassdoor Salary Estimate</th>\n",
       "      <th>company_location</th>\n",
       "      <th>company_rating</th>\n",
       "      <th>company_year_founded</th>\n",
       "      <th>Position_clean</th>\n",
       "      <th>company_industry_Advertising &amp; Marketing</th>\n",
       "      <th>company_industry_Aerospace &amp; Defense</th>\n",
       "      <th>...</th>\n",
       "      <th>company_type_Contract</th>\n",
       "      <th>company_type_Government</th>\n",
       "      <th>company_type_Hospital</th>\n",
       "      <th>company_type_Nonprofit Organization</th>\n",
       "      <th>company_type_Private Practice / Firm</th>\n",
       "      <th>company_type_Subsidiary or Business Segment</th>\n",
       "      <th>School / School District</th>\n",
       "      <th>Other Organization</th>\n",
       "      <th>Self-employed</th>\n",
       "      <th>Franchise</th>\n",
       "    </tr>\n",
       "  </thead>\n",
       "  <tbody>\n",
       "    <tr>\n",
       "      <th>0</th>\n",
       "      <td>0</td>\n",
       "      <td>AlayaCare</td>\n",
       "      <td>Do you believe that recent advancements in AI ...</td>\n",
       "      <td>NaN</td>\n",
       "      <td>Montreal</td>\n",
       "      <td>4.4</td>\n",
       "      <td>2014.0</td>\n",
       "      <td>Data Scientist</td>\n",
       "      <td>0</td>\n",
       "      <td>0</td>\n",
       "      <td>...</td>\n",
       "      <td>0</td>\n",
       "      <td>0</td>\n",
       "      <td>0</td>\n",
       "      <td>0</td>\n",
       "      <td>0</td>\n",
       "      <td>0</td>\n",
       "      <td>0</td>\n",
       "      <td>0</td>\n",
       "      <td>0</td>\n",
       "      <td>0</td>\n",
       "    </tr>\n",
       "    <tr>\n",
       "      <th>1</th>\n",
       "      <td>3</td>\n",
       "      <td>Points International</td>\n",
       "      <td>Company Description\\r\\r\\r\\r\\r\\r\\r\\r\\r\\r\\r\\r\\r\\...</td>\n",
       "      <td>NaN</td>\n",
       "      <td>Toronto</td>\n",
       "      <td>3.6</td>\n",
       "      <td>2001.0</td>\n",
       "      <td>Data Scientist</td>\n",
       "      <td>0</td>\n",
       "      <td>0</td>\n",
       "      <td>...</td>\n",
       "      <td>0</td>\n",
       "      <td>0</td>\n",
       "      <td>0</td>\n",
       "      <td>0</td>\n",
       "      <td>0</td>\n",
       "      <td>0</td>\n",
       "      <td>0</td>\n",
       "      <td>0</td>\n",
       "      <td>0</td>\n",
       "      <td>0</td>\n",
       "    </tr>\n",
       "    <tr>\n",
       "      <th>2</th>\n",
       "      <td>4</td>\n",
       "      <td>Spin Master Ltd</td>\n",
       "      <td>Are you looking to further your career with an...</td>\n",
       "      <td>NaN</td>\n",
       "      <td>Toronto</td>\n",
       "      <td>3.0</td>\n",
       "      <td>1994.0</td>\n",
       "      <td>Lead Data Scientist</td>\n",
       "      <td>0</td>\n",
       "      <td>0</td>\n",
       "      <td>...</td>\n",
       "      <td>0</td>\n",
       "      <td>0</td>\n",
       "      <td>0</td>\n",
       "      <td>0</td>\n",
       "      <td>0</td>\n",
       "      <td>0</td>\n",
       "      <td>0</td>\n",
       "      <td>0</td>\n",
       "      <td>0</td>\n",
       "      <td>0</td>\n",
       "    </tr>\n",
       "    <tr>\n",
       "      <th>3</th>\n",
       "      <td>8</td>\n",
       "      <td>Medlior Health Outcomes Research Ltd.</td>\n",
       "      <td>About Us\\r\\r\\r\\r\\r\\r\\r\\r\\r\\r\\r\\r\\r\\r\\nWe are c...</td>\n",
       "      <td>NaN</td>\n",
       "      <td>Calgary</td>\n",
       "      <td>NaN</td>\n",
       "      <td>NaN</td>\n",
       "      <td>Data Scientist</td>\n",
       "      <td>0</td>\n",
       "      <td>0</td>\n",
       "      <td>...</td>\n",
       "      <td>0</td>\n",
       "      <td>0</td>\n",
       "      <td>0</td>\n",
       "      <td>0</td>\n",
       "      <td>0</td>\n",
       "      <td>0</td>\n",
       "      <td>0</td>\n",
       "      <td>0</td>\n",
       "      <td>0</td>\n",
       "      <td>0</td>\n",
       "    </tr>\n",
       "    <tr>\n",
       "      <th>4</th>\n",
       "      <td>10</td>\n",
       "      <td>Guavus</td>\n",
       "      <td>Guavus, a Thales company, is seeking a Data Sc...</td>\n",
       "      <td>NaN</td>\n",
       "      <td>Montreal</td>\n",
       "      <td>2.8</td>\n",
       "      <td>2006.0</td>\n",
       "      <td>Data Scientist Intern</td>\n",
       "      <td>0</td>\n",
       "      <td>0</td>\n",
       "      <td>...</td>\n",
       "      <td>0</td>\n",
       "      <td>0</td>\n",
       "      <td>0</td>\n",
       "      <td>0</td>\n",
       "      <td>0</td>\n",
       "      <td>1</td>\n",
       "      <td>0</td>\n",
       "      <td>0</td>\n",
       "      <td>0</td>\n",
       "      <td>0</td>\n",
       "    </tr>\n",
       "  </tbody>\n",
       "</table>\n",
       "<p>5 rows × 166 columns</p>\n",
       "</div>"
      ],
      "text/plain": [
       "   Unnamed: 0                                company  \\\n",
       "0           0                              AlayaCare   \n",
       "1           3                   Points International   \n",
       "2           4                        Spin Master Ltd   \n",
       "3           8  Medlior Health Outcomes Research Ltd.   \n",
       "4          10                                 Guavus   \n",
       "\n",
       "                                         Description  \\\n",
       "0  Do you believe that recent advancements in AI ...   \n",
       "1  Company Description\\r\\r\\r\\r\\r\\r\\r\\r\\r\\r\\r\\r\\r\\...   \n",
       "2  Are you looking to further your career with an...   \n",
       "3  About Us\\r\\r\\r\\r\\r\\r\\r\\r\\r\\r\\r\\r\\r\\r\\nWe are c...   \n",
       "4  Guavus, a Thales company, is seeking a Data Sc...   \n",
       "\n",
       "   Glassdoor Salary Estimate company_location  company_rating  \\\n",
       "0                        NaN         Montreal             4.4   \n",
       "1                        NaN          Toronto             3.6   \n",
       "2                        NaN          Toronto             3.0   \n",
       "3                        NaN          Calgary             NaN   \n",
       "4                        NaN         Montreal             2.8   \n",
       "\n",
       "   company_year_founded         Position_clean  \\\n",
       "0                2014.0         Data Scientist   \n",
       "1                2001.0         Data Scientist   \n",
       "2                1994.0    Lead Data Scientist   \n",
       "3                   NaN         Data Scientist   \n",
       "4                2006.0  Data Scientist Intern   \n",
       "\n",
       "   company_industry_Advertising & Marketing  \\\n",
       "0                                         0   \n",
       "1                                         0   \n",
       "2                                         0   \n",
       "3                                         0   \n",
       "4                                         0   \n",
       "\n",
       "   company_industry_Aerospace & Defense    ...      company_type_Contract  \\\n",
       "0                                     0    ...                          0   \n",
       "1                                     0    ...                          0   \n",
       "2                                     0    ...                          0   \n",
       "3                                     0    ...                          0   \n",
       "4                                     0    ...                          0   \n",
       "\n",
       "   company_type_Government  company_type_Hospital  \\\n",
       "0                        0                      0   \n",
       "1                        0                      0   \n",
       "2                        0                      0   \n",
       "3                        0                      0   \n",
       "4                        0                      0   \n",
       "\n",
       "   company_type_Nonprofit Organization  company_type_Private Practice / Firm  \\\n",
       "0                                    0                                     0   \n",
       "1                                    0                                     0   \n",
       "2                                    0                                     0   \n",
       "3                                    0                                     0   \n",
       "4                                    0                                     0   \n",
       "\n",
       "   company_type_Subsidiary or Business Segment  School / School District  \\\n",
       "0                                            0                         0   \n",
       "1                                            0                         0   \n",
       "2                                            0                         0   \n",
       "3                                            0                         0   \n",
       "4                                            1                         0   \n",
       "\n",
       "   Other Organization  Self-employed  Franchise  \n",
       "0                   0              0          0  \n",
       "1                   0              0          0  \n",
       "2                   0              0          0  \n",
       "3                   0              0          0  \n",
       "4                   0              0          0  \n",
       "\n",
       "[5 rows x 166 columns]"
      ]
     },
     "execution_count": 141,
     "metadata": {},
     "output_type": "execute_result"
    }
   ],
   "source": [
    "df_des_ca.head()"
   ]
  },
  {
   "cell_type": "code",
   "execution_count": 142,
   "metadata": {},
   "outputs": [
    {
     "data": {
      "text/plain": [
       "Unnamed: 0                                                    0\n",
       "company                                                       0\n",
       "Description                                                   0\n",
       "Glassdoor Salary Estimate                                   277\n",
       "company_location                                              0\n",
       "company_rating                                               47\n",
       "company_year_founded                                        110\n",
       "Position_clean                                                0\n",
       "company_industry_Advertising & Marketing                      0\n",
       "company_industry_Aerospace & Defense                          0\n",
       "company_industry_Banks & Credit Unions                        0\n",
       "company_industry_Biotech & Pharmaceuticals                    0\n",
       "company_industry_Bus Transportation Services                  0\n",
       "company_industry_Cable, Internet & Telephone Providers        0\n",
       "company_industry_Colleges & Universities                      0\n",
       "company_industry_Commercial Equipment Rental                  0\n",
       "company_industry_Computer Hardware & Software                 0\n",
       "company_industry_Consulting                                   0\n",
       "company_industry_Consumer Product Rental                      0\n",
       "company_industry_Consumer Products Manufacturing              0\n",
       "company_industry_Department, Clothing, & Shoe Stores          0\n",
       "company_industry_Education Training Services                  0\n",
       "company_industry_Energy                                       0\n",
       "company_industry_Enterprise Software & Network Solutions      0\n",
       "company_industry_Fast-Food & Quick-Service Restaurants        0\n",
       "company_industry_Federal Agencies                             0\n",
       "company_industry_Financial Analytics & Research               0\n",
       "company_industry_Food & Beverage Manufacturing                0\n",
       "company_industry_Health Care Services & Hospitals             0\n",
       "company_industry_Health, Beauty, & Fitness                    0\n",
       "                                                           ... \n",
       "company_revenue_$10 to $25 million (USD)                      0\n",
       "company_revenue_$10+ billion (USD)                            0\n",
       "company_revenue_$100 to $500 million (USD)                    0\n",
       "company_revenue_$2 to $5 billion (USD)                        0\n",
       "company_revenue_$25 to $50 million (USD)                      0\n",
       "company_revenue_$5 to $10 billion (USD)                       0\n",
       "company_revenue_$5 to $10 million (USD)                       0\n",
       "company_revenue_$50 to $100 million (USD)                     0\n",
       "company_revenue_$500 million to $1 billion (USD)              0\n",
       "company_revenue_Less than $1 million (USD)                    0\n",
       "company_size_1 to 50 Employees                                0\n",
       "company_size_10000+ Employees                                 0\n",
       "company_size_1001 to 5000 Employees                           0\n",
       "company_size_201 to 500 Employees                             0\n",
       "company_size_5001 to 10000 Employees                          0\n",
       "company_size_501 to 1000 Employees                            0\n",
       "company_size_51 to 200 Employees                              0\n",
       "company_type_College / University                             0\n",
       "company_type_Company - Private                                0\n",
       "company_type_Company - Public                                 0\n",
       "company_type_Contract                                         0\n",
       "company_type_Government                                       0\n",
       "company_type_Hospital                                         0\n",
       "company_type_Nonprofit Organization                           0\n",
       "company_type_Private Practice / Firm                          0\n",
       "company_type_Subsidiary or Business Segment                   0\n",
       "School / School District                                      0\n",
       "Other Organization                                            0\n",
       "Self-employed                                                 0\n",
       "Franchise                                                     0\n",
       "Length: 166, dtype: int64"
      ]
     },
     "execution_count": 142,
     "metadata": {},
     "output_type": "execute_result"
    }
   ],
   "source": [
    "df_des_ca.isnull().sum()"
   ]
  },
  {
   "cell_type": "code",
   "execution_count": 143,
   "metadata": {},
   "outputs": [
    {
     "data": {
      "text/plain": [
       "Unnamed: 0                                                     0\n",
       "Description                                                    0\n",
       "company                                                        0\n",
       "company_location                                               0\n",
       "Glassdoor Salary Estimate                                    411\n",
       "company_rating                                                96\n",
       "company_year_founded                                         233\n",
       "Position_clean                                                 0\n",
       "company_industry_Accounting                                    0\n",
       "company_industry_Advertising & Marketing                       0\n",
       "company_industry_Aerospace & Defense                           0\n",
       "company_industry_Architectural & Engineering Services          0\n",
       "company_industry_Banks & Credit Unions                         0\n",
       "company_industry_Beauty & Personal Accessories Stores          0\n",
       "company_industry_Biotech & Pharmaceuticals                     0\n",
       "company_industry_Brokerage Services                            0\n",
       "company_industry_Building & Personnel Services                 0\n",
       "company_industry_Cable, Internet & Telephone Providers         0\n",
       "company_industry_Casual Restaurants                            0\n",
       "company_industry_Chemical Manufacturing                        0\n",
       "company_industry_Colleges & Universities                       0\n",
       "company_industry_Computer Hardware & Software                  0\n",
       "company_industry_Construction                                  0\n",
       "company_industry_Consulting                                    0\n",
       "company_industry_Consumer Electronics & Appliances Stores      0\n",
       "company_industry_Consumer Products Manufacturing               0\n",
       "company_industry_Cruise Ships                                  0\n",
       "company_industry_Department, Clothing, & Shoe Stores           0\n",
       "company_industry_Education Training Services                   0\n",
       "company_industry_Electrical & Electronic Manufacturing         0\n",
       "                                                            ... \n",
       "company_revenue_$10 to $25 million (USD)                       0\n",
       "company_revenue_$10+ billion (USD)                             0\n",
       "company_revenue_$100 to $500 million (USD)                     0\n",
       "company_revenue_$2 to $5 billion (USD)                         0\n",
       "company_revenue_$25 to $50 million (USD)                       0\n",
       "company_revenue_$5 to $10 billion (USD)                        0\n",
       "company_revenue_$5 to $10 million (USD)                        0\n",
       "company_revenue_$50 to $100 million (USD)                      0\n",
       "company_revenue_$500 million to $1 billion (USD)               0\n",
       "company_revenue_Less than $1 million (USD)                     0\n",
       "company_size_1 to 50 Employees                                 0\n",
       "company_size_10000+ Employees                                  0\n",
       "company_size_1001 to 5000 Employees                            0\n",
       "company_size_201 to 500 Employees                              0\n",
       "company_size_5001 to 10000 Employees                           0\n",
       "company_size_501 to 1000 Employees                             0\n",
       "company_size_51 to 200 Employees                               0\n",
       "company_type_College / University                              0\n",
       "company_type_Company - Private                                 0\n",
       "company_type_Company - Public                                  0\n",
       "company_type_Contract                                          0\n",
       "company_type_Government                                        0\n",
       "company_type_Nonprofit Organization                            0\n",
       "company_type_Other Organization                                0\n",
       "company_type_Private Practice / Firm                           0\n",
       "company_type_Subsidiary or Business Segment                    0\n",
       "School / School District                                       0\n",
       "Franchise                                                      0\n",
       "Self-employed                                                  0\n",
       "Hospital                                                       0\n",
       "Length: 166, dtype: int64"
      ]
     },
     "execution_count": 143,
     "metadata": {},
     "output_type": "execute_result"
    }
   ],
   "source": [
    "df_des_us.isnull().sum()"
   ]
  },
  {
   "cell_type": "code",
   "execution_count": 144,
   "metadata": {},
   "outputs": [
    {
     "data": {
      "text/plain": [
       "Unnamed: 0                                                    0\n",
       "company                                                       0\n",
       "Description                                                   0\n",
       "Glassdoor Salary Estimate                                   627\n",
       "company_location                                              0\n",
       "company_rating                                               82\n",
       "company_year_founded                                        155\n",
       "Position_clean                                                0\n",
       "company_industry_Accounting                                   0\n",
       "company_industry_Advertising & Marketing                      0\n",
       "company_industry_Aerospace & Defense                          0\n",
       "company_industry_Airlines                                     0\n",
       "company_industry_Architectural & Engineering Services         0\n",
       "company_industry_Banks & Credit Unions                        0\n",
       "company_industry_Biotech & Pharmaceuticals                    0\n",
       "company_industry_Brokerage Services                           0\n",
       "company_industry_Cable, Internet & Telephone Providers        0\n",
       "company_industry_Colleges & Universities                      0\n",
       "company_industry_Commercial Printing                          0\n",
       "company_industry_Computer Hardware & Software                 0\n",
       "company_industry_Construction                                 0\n",
       "company_industry_Consulting                                   0\n",
       "company_industry_Department, Clothing, & Shoe Stores          0\n",
       "company_industry_Drug & Health Stores                         0\n",
       "company_industry_Electrical & Electronic Manufacturing        0\n",
       "company_industry_Enterprise Software & Network Solutions      0\n",
       "company_industry_Federal Agencies                             0\n",
       "company_industry_Financial Transaction Processing             0\n",
       "company_industry_Food & Beverage Stores                       0\n",
       "company_industry_Gambling                                     0\n",
       "                                                           ... \n",
       "company_revenue_$10 to $25 million (USD)                      0\n",
       "company_revenue_$10+ billion (USD)                            0\n",
       "company_revenue_$100 to $500 million (USD)                    0\n",
       "company_revenue_$2 to $5 billion (USD)                        0\n",
       "company_revenue_$25 to $50 million (USD)                      0\n",
       "company_revenue_$5 to $10 billion (USD)                       0\n",
       "company_revenue_$5 to $10 million (USD)                       0\n",
       "company_revenue_$50 to $100 million (USD)                     0\n",
       "company_revenue_$500 million to $1 billion (USD)              0\n",
       "company_revenue_Less than $1 million (USD)                    0\n",
       "company_size_1 to 50 Employees                                0\n",
       "company_size_10000+ Employees                                 0\n",
       "company_size_1001 to 5000 Employees                           0\n",
       "company_size_201 to 500 Employees                             0\n",
       "company_size_5001 to 10000 Employees                          0\n",
       "company_size_501 to 1000 Employees                            0\n",
       "company_size_51 to 200 Employees                              0\n",
       "company_type_College / University                             0\n",
       "company_type_Company - Private                                0\n",
       "company_type_Company - Public                                 0\n",
       "company_type_Government                                       0\n",
       "company_type_Nonprofit Organization                           0\n",
       "company_type_Subsidiary or Business Segment                   0\n",
       "Contract                                                      0\n",
       "School / School District                                      0\n",
       "Private Practice / Firm                                       0\n",
       "Hospital                                                      0\n",
       "Self-employed                                                 0\n",
       "Other Organization                                            0\n",
       "Franchise                                                     0\n",
       "Length: 166, dtype: int64"
      ]
     },
     "execution_count": 144,
     "metadata": {},
     "output_type": "execute_result"
    }
   ],
   "source": [
    "df_des_uk.isnull().sum() #Need to add OneHot"
   ]
  },
  {
   "cell_type": "code",
   "execution_count": 145,
   "metadata": {},
   "outputs": [
    {
     "data": {
      "text/plain": [
       "Unnamed: 0                                                   557.541516\n",
       "Glassdoor Salary Estimate                                           NaN\n",
       "company_rating                                                 3.763478\n",
       "company_year_founded                                        1982.113772\n",
       "company_industry_Advertising & Marketing                       0.018051\n",
       "company_industry_Aerospace & Defense                           0.003610\n",
       "company_industry_Banks & Credit Unions                         0.018051\n",
       "company_industry_Biotech & Pharmaceuticals                     0.021661\n",
       "company_industry_Bus Transportation Services                   0.003610\n",
       "company_industry_Cable, Internet & Telephone Providers         0.010830\n",
       "company_industry_Colleges & Universities                       0.007220\n",
       "company_industry_Commercial Equipment Rental                   0.003610\n",
       "company_industry_Computer Hardware & Software                  0.075812\n",
       "company_industry_Consulting                                    0.043321\n",
       "company_industry_Consumer Product Rental                       0.003610\n",
       "company_industry_Consumer Products Manufacturing               0.010830\n",
       "company_industry_Department, Clothing, & Shoe Stores           0.010830\n",
       "company_industry_Education Training Services                   0.010830\n",
       "company_industry_Energy                                        0.028881\n",
       "company_industry_Enterprise Software & Network Solutions       0.111913\n",
       "company_industry_Fast-Food & Quick-Service Restaurants         0.003610\n",
       "company_industry_Federal Agencies                              0.007220\n",
       "company_industry_Financial Analytics & Research                0.003610\n",
       "company_industry_Food & Beverage Manufacturing                 0.003610\n",
       "company_industry_Health Care Services & Hospitals              0.003610\n",
       "company_industry_Health, Beauty, & Fitness                     0.007220\n",
       "company_industry_IT Services                                   0.018051\n",
       "company_industry_Insurance Agencies & Brokerages               0.007220\n",
       "company_industry_Insurance Carriers                            0.021661\n",
       "company_industry_Internet                                      0.057762\n",
       "                                                               ...     \n",
       "company_revenue_$10 to $25 million (USD)                       0.025271\n",
       "company_revenue_$10+ billion (USD)                             0.140794\n",
       "company_revenue_$100 to $500 million (USD)                     0.093863\n",
       "company_revenue_$2 to $5 billion (USD)                         0.043321\n",
       "company_revenue_$25 to $50 million (USD)                       0.064982\n",
       "company_revenue_$5 to $10 billion (USD)                        0.061372\n",
       "company_revenue_$5 to $10 million (USD)                        0.010830\n",
       "company_revenue_$50 to $100 million (USD)                      0.032491\n",
       "company_revenue_$500 million to $1 billion (USD)               0.025271\n",
       "company_revenue_Less than $1 million (USD)                     0.115523\n",
       "company_size_1 to 50 Employees                                 0.115523\n",
       "company_size_10000+ Employees                                  0.241877\n",
       "company_size_1001 to 5000 Employees                            0.166065\n",
       "company_size_201 to 500 Employees                              0.126354\n",
       "company_size_5001 to 10000 Employees                           0.032491\n",
       "company_size_501 to 1000 Employees                             0.039711\n",
       "company_size_51 to 200 Employees                               0.126354\n",
       "company_type_College / University                              0.010830\n",
       "company_type_Company - Private                                 0.429603\n",
       "company_type_Company - Public                                  0.357401\n",
       "company_type_Contract                                          0.003610\n",
       "company_type_Government                                        0.007220\n",
       "company_type_Hospital                                          0.003610\n",
       "company_type_Nonprofit Organization                            0.010830\n",
       "company_type_Private Practice / Firm                           0.003610\n",
       "company_type_Subsidiary or Business Segment                    0.032491\n",
       "School / School District                                       0.000000\n",
       "Other Organization                                             0.000000\n",
       "Self-employed                                                  0.000000\n",
       "Franchise                                                      0.000000\n",
       "Length: 162, dtype: float64"
      ]
     },
     "execution_count": 145,
     "metadata": {},
     "output_type": "execute_result"
    }
   ],
   "source": [
    "df_des_ca.mean()"
   ]
  },
  {
   "cell_type": "code",
   "execution_count": 146,
   "metadata": {},
   "outputs": [
    {
     "data": {
      "text/plain": [
       "Unnamed: 0                                                     1625.802016\n",
       "Glassdoor Salary Estimate                                    158616.996728\n",
       "company_rating                                                    3.877494\n",
       "company_year_founded                                           1979.074394\n",
       "company_industry_Accounting                                       0.009359\n",
       "company_industry_Advertising & Marketing                          0.034557\n",
       "company_industry_Aerospace & Defense                              0.055436\n",
       "company_industry_Architectural & Engineering Services             0.004320\n",
       "company_industry_Banks & Credit Unions                            0.014399\n",
       "company_industry_Beauty & Personal Accessories Stores             0.000720\n",
       "company_industry_Biotech & Pharmaceuticals                        0.059035\n",
       "company_industry_Brokerage Services                               0.002880\n",
       "company_industry_Building & Personnel Services                    0.001440\n",
       "company_industry_Cable, Internet & Telephone Providers            0.002880\n",
       "company_industry_Casual Restaurants                               0.000720\n",
       "company_industry_Chemical Manufacturing                           0.002880\n",
       "company_industry_Colleges & Universities                          0.007919\n",
       "company_industry_Computer Hardware & Software                     0.074154\n",
       "company_industry_Construction                                     0.001440\n",
       "company_industry_Consulting                                       0.072714\n",
       "company_industry_Consumer Electronics & Appliances Stores         0.000720\n",
       "company_industry_Consumer Products Manufacturing                  0.008639\n",
       "company_industry_Cruise Ships                                     0.000720\n",
       "company_industry_Department, Clothing, & Shoe Stores              0.011519\n",
       "company_industry_Education Training Services                      0.002160\n",
       "company_industry_Electrical & Electronic Manufacturing            0.009359\n",
       "company_industry_Energy                                           0.011519\n",
       "company_industry_Enterprise Software & Network Solutions          0.064795\n",
       "company_industry_Federal Agencies                                 0.025918\n",
       "company_industry_Financial Analytics & Research                   0.002880\n",
       "                                                                 ...      \n",
       "company_revenue_$10 to $25 million (USD)                          0.041757\n",
       "company_revenue_$10+ billion (USD)                                0.194384\n",
       "company_revenue_$100 to $500 million (USD)                        0.092153\n",
       "company_revenue_$2 to $5 billion (USD)                            0.041037\n",
       "company_revenue_$25 to $50 million (USD)                          0.043197\n",
       "company_revenue_$5 to $10 billion (USD)                           0.042477\n",
       "company_revenue_$5 to $10 million (USD)                           0.021598\n",
       "company_revenue_$50 to $100 million (USD)                         0.035997\n",
       "company_revenue_$500 million to $1 billion (USD)                  0.035997\n",
       "company_revenue_Less than $1 million (USD)                        0.091433\n",
       "company_size_1 to 50 Employees                                    0.113751\n",
       "company_size_10000+ Employees                                     0.263499\n",
       "company_size_1001 to 5000 Employees                               0.163427\n",
       "company_size_201 to 500 Employees                                 0.120950\n",
       "company_size_5001 to 10000 Employees                              0.069834\n",
       "company_size_501 to 1000 Employees                                0.069114\n",
       "company_size_51 to 200 Employees                                  0.141109\n",
       "company_type_College / University                                 0.008639\n",
       "company_type_Company - Private                                    0.517639\n",
       "company_type_Company - Public                                     0.316055\n",
       "company_type_Contract                                             0.005040\n",
       "company_type_Government                                           0.010799\n",
       "company_type_Nonprofit Organization                               0.046076\n",
       "company_type_Other Organization                                   0.002160\n",
       "company_type_Private Practice / Firm                              0.004320\n",
       "company_type_Subsidiary or Business Segment                       0.038877\n",
       "School / School District                                          0.000000\n",
       "Franchise                                                         0.000000\n",
       "Self-employed                                                     0.000000\n",
       "Hospital                                                          0.000000\n",
       "Length: 162, dtype: float64"
      ]
     },
     "execution_count": 146,
     "metadata": {},
     "output_type": "execute_result"
    }
   ],
   "source": [
    "df_des_us.mean()"
   ]
  },
  {
   "cell_type": "code",
   "execution_count": 45,
   "metadata": {},
   "outputs": [
    {
     "data": {
      "text/plain": [
       "Unnamed: 0                    509.312600\n",
       "Glassdoor Salary Estimate            NaN\n",
       "Rating                          4.021468\n",
       "Year Founded                 1984.057203\n",
       "dtype: float64"
      ]
     },
     "execution_count": 45,
     "metadata": {},
     "output_type": "execute_result"
    }
   ],
   "source": [
    "df_des_uk.mean()"
   ]
  },
  {
   "cell_type": "markdown",
   "metadata": {},
   "source": [
    "#### Rating"
   ]
  },
  {
   "cell_type": "markdown",
   "metadata": {},
   "source": [
    "hist = df_des_ca['company_rating'].hist(bins=15)"
   ]
  },
  {
   "cell_type": "code",
   "execution_count": 50,
   "metadata": {},
   "outputs": [
    {
     "data": {
      "image/png": "[encoded data removed]",
      "text/plain": [
       "<Figure size 432x288 with 1 Axes>"
      ]
     },
     "metadata": {
      "needs_background": "light"
     },
     "output_type": "display_data"
    }
   ],
   "source": [
    "hist = df_des_ca['company_year_founded'].hist(bins=10)"
   ]
  },
  {
   "cell_type": "code",
   "execution_count": 51,
   "metadata": {},
   "outputs": [
    {
     "data": {
      "image/png": "[encoded data removed]",
      "text/plain": [
       "<Figure size 432x288 with 1 Axes>"
      ]
     },
     "metadata": {
      "needs_background": "light"
     },
     "output_type": "display_data"
    }
   ],
   "source": [
    "hist = df_des_us['company_rating'].hist(bins=15)"
   ]
  },
  {
   "cell_type": "markdown",
   "metadata": {},
   "source": []
  },
  {
   "cell_type": "code",
   "execution_count": 89,
   "metadata": {},
   "outputs": [
    {
     "data": {
      "text/html": [
       "<div>\n",
       "<style scoped>\n",
       "    .dataframe tbody tr th:only-of-type {\n",
       "        vertical-align: middle;\n",
       "    }\n",
       "\n",
       "    .dataframe tbody tr th {\n",
       "        vertical-align: top;\n",
       "    }\n",
       "\n",
       "    .dataframe thead th {\n",
       "        text-align: right;\n",
       "    }\n",
       "</style>\n",
       "<table border=\"1\" class=\"dataframe\">\n",
       "  <thead>\n",
       "    <tr style=\"text-align: right;\">\n",
       "      <th></th>\n",
       "      <th>Unnamed: 0</th>\n",
       "      <th>salary</th>\n",
       "      <th>lower_bound_salary</th>\n",
       "      <th>upper_bound_salary</th>\n",
       "      <th>base_pay</th>\n",
       "      <th>bonus_pay</th>\n",
       "      <th>cash_bonus</th>\n",
       "      <th>stock_bonus</th>\n",
       "    </tr>\n",
       "  </thead>\n",
       "  <tbody>\n",
       "    <tr>\n",
       "      <th>Unnamed: 0</th>\n",
       "      <td>1.000000</td>\n",
       "      <td>0.335479</td>\n",
       "      <td>0.407248</td>\n",
       "      <td>0.238398</td>\n",
       "      <td>-0.011271</td>\n",
       "      <td>-0.007648</td>\n",
       "      <td>0.148284</td>\n",
       "      <td>0.095246</td>\n",
       "    </tr>\n",
       "    <tr>\n",
       "      <th>salary</th>\n",
       "      <td>0.335479</td>\n",
       "      <td>1.000000</td>\n",
       "      <td>0.963644</td>\n",
       "      <td>0.932063</td>\n",
       "      <td>0.014291</td>\n",
       "      <td>0.009998</td>\n",
       "      <td>0.297306</td>\n",
       "      <td>0.143989</td>\n",
       "    </tr>\n",
       "    <tr>\n",
       "      <th>lower_bound_salary</th>\n",
       "      <td>0.407248</td>\n",
       "      <td>0.963644</td>\n",
       "      <td>1.000000</td>\n",
       "      <td>0.872613</td>\n",
       "      <td>0.014692</td>\n",
       "      <td>0.013913</td>\n",
       "      <td>0.278458</td>\n",
       "      <td>0.125275</td>\n",
       "    </tr>\n",
       "    <tr>\n",
       "      <th>upper_bound_salary</th>\n",
       "      <td>0.238398</td>\n",
       "      <td>0.932063</td>\n",
       "      <td>0.872613</td>\n",
       "      <td>1.000000</td>\n",
       "      <td>0.011857</td>\n",
       "      <td>0.004707</td>\n",
       "      <td>0.234539</td>\n",
       "      <td>0.079406</td>\n",
       "    </tr>\n",
       "    <tr>\n",
       "      <th>base_pay</th>\n",
       "      <td>-0.011271</td>\n",
       "      <td>0.014291</td>\n",
       "      <td>0.014692</td>\n",
       "      <td>0.011857</td>\n",
       "      <td>1.000000</td>\n",
       "      <td>0.999082</td>\n",
       "      <td>0.194902</td>\n",
       "      <td>0.075215</td>\n",
       "    </tr>\n",
       "    <tr>\n",
       "      <th>bonus_pay</th>\n",
       "      <td>-0.007648</td>\n",
       "      <td>0.009998</td>\n",
       "      <td>0.013913</td>\n",
       "      <td>0.004707</td>\n",
       "      <td>0.999082</td>\n",
       "      <td>1.000000</td>\n",
       "      <td>0.097946</td>\n",
       "      <td>0.015457</td>\n",
       "    </tr>\n",
       "    <tr>\n",
       "      <th>cash_bonus</th>\n",
       "      <td>0.148284</td>\n",
       "      <td>0.297306</td>\n",
       "      <td>0.278458</td>\n",
       "      <td>0.234539</td>\n",
       "      <td>0.194902</td>\n",
       "      <td>0.097946</td>\n",
       "      <td>1.000000</td>\n",
       "      <td>0.097200</td>\n",
       "    </tr>\n",
       "    <tr>\n",
       "      <th>stock_bonus</th>\n",
       "      <td>0.095246</td>\n",
       "      <td>0.143989</td>\n",
       "      <td>0.125275</td>\n",
       "      <td>0.079406</td>\n",
       "      <td>0.075215</td>\n",
       "      <td>0.015457</td>\n",
       "      <td>0.097200</td>\n",
       "      <td>1.000000</td>\n",
       "    </tr>\n",
       "  </tbody>\n",
       "</table>\n",
       "</div>"
      ],
      "text/plain": [
       "                    Unnamed: 0    salary  lower_bound_salary  \\\n",
       "Unnamed: 0            1.000000  0.335479            0.407248   \n",
       "salary                0.335479  1.000000            0.963644   \n",
       "lower_bound_salary    0.407248  0.963644            1.000000   \n",
       "upper_bound_salary    0.238398  0.932063            0.872613   \n",
       "base_pay             -0.011271  0.014291            0.014692   \n",
       "bonus_pay            -0.007648  0.009998            0.013913   \n",
       "cash_bonus            0.148284  0.297306            0.278458   \n",
       "stock_bonus           0.095246  0.143989            0.125275   \n",
       "\n",
       "                    upper_bound_salary  base_pay  bonus_pay  cash_bonus  \\\n",
       "Unnamed: 0                    0.238398 -0.011271  -0.007648    0.148284   \n",
       "salary                        0.932063  0.014291   0.009998    0.297306   \n",
       "lower_bound_salary            0.872613  0.014692   0.013913    0.278458   \n",
       "upper_bound_salary            1.000000  0.011857   0.004707    0.234539   \n",
       "base_pay                      0.011857  1.000000   0.999082    0.194902   \n",
       "bonus_pay                     0.004707  0.999082   1.000000    0.097946   \n",
       "cash_bonus                    0.234539  0.194902   0.097946    1.000000   \n",
       "stock_bonus                   0.079406  0.075215   0.015457    0.097200   \n",
       "\n",
       "                    stock_bonus  \n",
       "Unnamed: 0             0.095246  \n",
       "salary                 0.143989  \n",
       "lower_bound_salary     0.125275  \n",
       "upper_bound_salary     0.079406  \n",
       "base_pay               0.075215  \n",
       "bonus_pay              0.015457  \n",
       "cash_bonus             0.097200  \n",
       "stock_bonus            1.000000  "
      ]
     },
     "execution_count": 89,
     "metadata": {},
     "output_type": "execute_result"
    }
   ],
   "source": [
    "allData_2.corr()"
   ]
  },
  {
   "cell_type": "code",
   "execution_count": null,
   "metadata": {},
   "outputs": [],
   "source": []
  }
 ],
 "metadata": {
  "kernelspec": {
   "display_name": "Python 3",
   "language": "python",
   "name": "python3"
  },
  "language_info": {
   "codemirror_mode": {
    "name": "ipython",
    "version": 3
   },
   "file_extension": ".py",
   "mimetype": "text/x-python",
   "name": "python",
   "nbconvert_exporter": "python",
   "pygments_lexer": "ipython3",
   "version": "3.5.6"
  }
 },
 "nbformat": 4,
 "nbformat_minor": 4
}
