{
 "cells": [
  {
   "cell_type": "code",
   "execution_count": 1,
   "metadata": {},
   "outputs": [],
   "source": [
    "import pandas as pd\n",
    "import numpy as np\n",
    "import math\n",
    "import matplotlib.pyplot as plt"
   ]
  },
  {
   "cell_type": "code",
   "execution_count": 2,
   "metadata": {},
   "outputs": [],
   "source": [
    "df = pd.read_csv(r'..\\..\\..\\data\\clean_data\\salaries_and_descriptions.csv',encoding='utf-8')"
   ]
  },
  {
   "cell_type": "code",
   "execution_count": 3,
   "metadata": {},
   "outputs": [
    {
     "data": {
      "text/html": [
       "<div>\n",
       "<style scoped>\n",
       "    .dataframe tbody tr th:only-of-type {\n",
       "        vertical-align: middle;\n",
       "    }\n",
       "\n",
       "    .dataframe tbody tr th {\n",
       "        vertical-align: top;\n",
       "    }\n",
       "\n",
       "    .dataframe thead th {\n",
       "        text-align: right;\n",
       "    }\n",
       "</style>\n",
       "<table border=\"1\" class=\"dataframe\">\n",
       "  <thead>\n",
       "    <tr style=\"text-align: right;\">\n",
       "      <th></th>\n",
       "      <th>Unnamed: 0</th>\n",
       "      <th>Country</th>\n",
       "      <th>Description</th>\n",
       "      <th>Glassdoor Salary Estimate</th>\n",
       "      <th>Position_clean</th>\n",
       "      <th>Unnamed: 0.1</th>\n",
       "      <th>base_pay</th>\n",
       "      <th>bonus_pay</th>\n",
       "      <th>cash_bonus</th>\n",
       "      <th>company</th>\n",
       "      <th>...</th>\n",
       "      <th>company_type_Company - Private</th>\n",
       "      <th>company_type_Company - Public</th>\n",
       "      <th>company_type_Government</th>\n",
       "      <th>company_type_Nonprofit Organization</th>\n",
       "      <th>company_type_Subsidiary or Business Segment</th>\n",
       "      <th>company_year_founded</th>\n",
       "      <th>lower_bound_salary</th>\n",
       "      <th>salary</th>\n",
       "      <th>stock_bonus</th>\n",
       "      <th>upper_bound_salary</th>\n",
       "    </tr>\n",
       "  </thead>\n",
       "  <tbody>\n",
       "    <tr>\n",
       "      <th>0</th>\n",
       "      <td>0</td>\n",
       "      <td>US</td>\n",
       "      <td>Facebook's mission is to give people the power...</td>\n",
       "      <td>193225.0</td>\n",
       "      <td>Data Scientist</td>\n",
       "      <td>1</td>\n",
       "      <td>198153.22</td>\n",
       "      <td>19650.0</td>\n",
       "      <td>19650.0</td>\n",
       "      <td>Facebook</td>\n",
       "      <td>...</td>\n",
       "      <td>0</td>\n",
       "      <td>1</td>\n",
       "      <td>0</td>\n",
       "      <td>0</td>\n",
       "      <td>0</td>\n",
       "      <td>2004.0</td>\n",
       "      <td>131000.0</td>\n",
       "      <td>198153.22</td>\n",
       "      <td>33267.45</td>\n",
       "      <td>286890.0</td>\n",
       "    </tr>\n",
       "    <tr>\n",
       "      <th>1</th>\n",
       "      <td>1</td>\n",
       "      <td>US</td>\n",
       "      <td>Facebook's mission is to give people the power...</td>\n",
       "      <td>193225.0</td>\n",
       "      <td>Data Scientist</td>\n",
       "      <td>1</td>\n",
       "      <td>198153.22</td>\n",
       "      <td>19650.0</td>\n",
       "      <td>19650.0</td>\n",
       "      <td>Facebook</td>\n",
       "      <td>...</td>\n",
       "      <td>0</td>\n",
       "      <td>1</td>\n",
       "      <td>0</td>\n",
       "      <td>0</td>\n",
       "      <td>0</td>\n",
       "      <td>2004.0</td>\n",
       "      <td>131000.0</td>\n",
       "      <td>198153.22</td>\n",
       "      <td>33267.45</td>\n",
       "      <td>286890.0</td>\n",
       "    </tr>\n",
       "    <tr>\n",
       "      <th>2</th>\n",
       "      <td>2</td>\n",
       "      <td>US</td>\n",
       "      <td>Facebook's mission is to give people the power...</td>\n",
       "      <td>184055.0</td>\n",
       "      <td>Data Scientist</td>\n",
       "      <td>1</td>\n",
       "      <td>198153.22</td>\n",
       "      <td>19650.0</td>\n",
       "      <td>19650.0</td>\n",
       "      <td>Facebook</td>\n",
       "      <td>...</td>\n",
       "      <td>0</td>\n",
       "      <td>1</td>\n",
       "      <td>0</td>\n",
       "      <td>0</td>\n",
       "      <td>0</td>\n",
       "      <td>2004.0</td>\n",
       "      <td>131000.0</td>\n",
       "      <td>198153.22</td>\n",
       "      <td>33267.45</td>\n",
       "      <td>286890.0</td>\n",
       "    </tr>\n",
       "    <tr>\n",
       "      <th>3</th>\n",
       "      <td>3</td>\n",
       "      <td>US</td>\n",
       "      <td>Facebook's mission is to give people the power...</td>\n",
       "      <td>184055.0</td>\n",
       "      <td>Data Scientist</td>\n",
       "      <td>1</td>\n",
       "      <td>198153.22</td>\n",
       "      <td>19650.0</td>\n",
       "      <td>19650.0</td>\n",
       "      <td>Facebook</td>\n",
       "      <td>...</td>\n",
       "      <td>0</td>\n",
       "      <td>1</td>\n",
       "      <td>0</td>\n",
       "      <td>0</td>\n",
       "      <td>0</td>\n",
       "      <td>2004.0</td>\n",
       "      <td>131000.0</td>\n",
       "      <td>198153.22</td>\n",
       "      <td>33267.45</td>\n",
       "      <td>286890.0</td>\n",
       "    </tr>\n",
       "    <tr>\n",
       "      <th>4</th>\n",
       "      <td>4</td>\n",
       "      <td>US</td>\n",
       "      <td>Facebook's mission is to give people the power...</td>\n",
       "      <td>184055.0</td>\n",
       "      <td>Data Scientist</td>\n",
       "      <td>1</td>\n",
       "      <td>198153.22</td>\n",
       "      <td>19650.0</td>\n",
       "      <td>19650.0</td>\n",
       "      <td>Facebook</td>\n",
       "      <td>...</td>\n",
       "      <td>0</td>\n",
       "      <td>1</td>\n",
       "      <td>0</td>\n",
       "      <td>0</td>\n",
       "      <td>0</td>\n",
       "      <td>2004.0</td>\n",
       "      <td>131000.0</td>\n",
       "      <td>198153.22</td>\n",
       "      <td>33267.45</td>\n",
       "      <td>286890.0</td>\n",
       "    </tr>\n",
       "  </tbody>\n",
       "</table>\n",
       "<p>5 rows × 86 columns</p>\n",
       "</div>"
      ],
      "text/plain": [
       "   Unnamed: 0 Country                                        Description  \\\n",
       "0           0      US  Facebook's mission is to give people the power...   \n",
       "1           1      US  Facebook's mission is to give people the power...   \n",
       "2           2      US  Facebook's mission is to give people the power...   \n",
       "3           3      US  Facebook's mission is to give people the power...   \n",
       "4           4      US  Facebook's mission is to give people the power...   \n",
       "\n",
       "   Glassdoor Salary Estimate  Position_clean  Unnamed: 0.1   base_pay  \\\n",
       "0                   193225.0  Data Scientist             1  198153.22   \n",
       "1                   193225.0  Data Scientist             1  198153.22   \n",
       "2                   184055.0  Data Scientist             1  198153.22   \n",
       "3                   184055.0  Data Scientist             1  198153.22   \n",
       "4                   184055.0  Data Scientist             1  198153.22   \n",
       "\n",
       "   bonus_pay  cash_bonus   company         ...          \\\n",
       "0    19650.0     19650.0  Facebook         ...           \n",
       "1    19650.0     19650.0  Facebook         ...           \n",
       "2    19650.0     19650.0  Facebook         ...           \n",
       "3    19650.0     19650.0  Facebook         ...           \n",
       "4    19650.0     19650.0  Facebook         ...           \n",
       "\n",
       "   company_type_Company - Private  company_type_Company - Public  \\\n",
       "0                               0                              1   \n",
       "1                               0                              1   \n",
       "2                               0                              1   \n",
       "3                               0                              1   \n",
       "4                               0                              1   \n",
       "\n",
       "   company_type_Government  company_type_Nonprofit Organization  \\\n",
       "0                        0                                    0   \n",
       "1                        0                                    0   \n",
       "2                        0                                    0   \n",
       "3                        0                                    0   \n",
       "4                        0                                    0   \n",
       "\n",
       "   company_type_Subsidiary or Business Segment  company_year_founded  \\\n",
       "0                                            0                2004.0   \n",
       "1                                            0                2004.0   \n",
       "2                                            0                2004.0   \n",
       "3                                            0                2004.0   \n",
       "4                                            0                2004.0   \n",
       "\n",
       "   lower_bound_salary     salary  stock_bonus  upper_bound_salary  \n",
       "0            131000.0  198153.22     33267.45            286890.0  \n",
       "1            131000.0  198153.22     33267.45            286890.0  \n",
       "2            131000.0  198153.22     33267.45            286890.0  \n",
       "3            131000.0  198153.22     33267.45            286890.0  \n",
       "4            131000.0  198153.22     33267.45            286890.0  \n",
       "\n",
       "[5 rows x 86 columns]"
      ]
     },
     "execution_count": 3,
     "metadata": {},
     "output_type": "execute_result"
    }
   ],
   "source": [
    "df.head()"
   ]
  },
  {
   "cell_type": "code",
   "execution_count": 4,
   "metadata": {},
   "outputs": [
    {
     "data": {
      "text/plain": [
       "array(['Data Scientist', 'Data Scientist Intern', 'Senior Data Scientist',\n",
       "       'Lead Data Scientist', 'Junior Data Scientist'], dtype=object)"
      ]
     },
     "execution_count": 4,
     "metadata": {},
     "output_type": "execute_result"
    }
   ],
   "source": [
    "df['Position_clean'].unique()"
   ]
  },
  {
   "cell_type": "code",
   "execution_count": 5,
   "metadata": {},
   "outputs": [],
   "source": [
    "df_ds = df[df['Position_clean'] == 'Data Scientist']\n",
    "df_dsi = df[df['Position_clean'] == 'Data Scientist Intern']\n",
    "df_sds = df[df['Position_clean'] == 'Senior Data Scientist']\n",
    "df_lds = df[df['Position_clean'] == 'Lead Data Scientist']\n",
    "df_jds = df[df['Position_clean'] == 'Junior Data Scientist']"
   ]
  },
  {
   "cell_type": "code",
   "execution_count": 21,
   "metadata": {},
   "outputs": [
    {
     "data": {
      "image/png": "[encoded data removed]",
      "text/plain": [
       "<Figure size 432x288 with 1 Axes>"
      ]
     },
     "metadata": {
      "needs_background": "light"
     },
     "output_type": "display_data"
    }
   ],
   "source": [
    "y1 = df_dsi.shape[0]\n",
    "y2 = df_jds.shape[0]\n",
    "y3 = df_ds.shape[0]\n",
    "y4 = df_sds.shape[0]\n",
    "y5 = df_lds.shape[0]\n",
    "\n",
    "y = [y1,y2,y3,y4,y5]\n",
    "\n",
    "x = [1,2,3,4,5]\n",
    "labels = ['Intern','Junior','Normal','Senior','Lead']\n",
    "\n",
    "plt.bar(x,y)\n",
    "plt.xticks(x,labels)\n",
    "plt.ylabel(\"Number of Jobs\",fontsize = 14)\n",
    "plt.xlabel(\"Position\",fontsize = 14)\n",
    "plt.title(\"Position Distribution\",fontsize = 18)\n",
    "plt.savefig(\"../../../figures/exploratory_figures/Position_Distribution.pdf\",bbox_inches = \"tight\")\n",
    "plt.show()"
   ]
  },
  {
   "cell_type": "code",
   "execution_count": 8,
   "metadata": {},
   "outputs": [],
   "source": [
    "ds_mean_sal = df_ds['salary'].mean()\n",
    "dsi_mean_sal = df_dsi['salary'].mean()\n",
    "sds_mean_sal = df_sds['salary'].mean()\n",
    "lds_mean_sal = df_lds['salary'].mean()\n",
    "jds_mean_sal = df_jds['salary'].mean()"
   ]
  },
  {
   "cell_type": "code",
   "execution_count": 23,
   "metadata": {},
   "outputs": [
    {
     "data": {
      "image/png": "[encoded data removed]",
      "text/plain": [
       "<Figure size 432x288 with 1 Axes>"
      ]
     },
     "metadata": {
      "needs_background": "light"
     },
     "output_type": "display_data"
    }
   ],
   "source": [
    "y = [dsi_mean_sal,jds_mean_sal,ds_mean_sal,sds_mean_sal,lds_mean_sal]\n",
    "x = [1,2,3,4,5]\n",
    "labels = ['Intern','Junior','Normal','Senior','Lead']\n",
    "\n",
    "plt.bar(x,y)\n",
    "plt.xticks(x,labels)\n",
    "plt.ylabel(\"Mean Salary ($)\",fontsize = 14)\n",
    "plt.xlabel(\"Position\",fontsize = 14)\n",
    "plt.title(\"Position Mean Salaries ($)\",fontsize = 18)\n",
    "plt.savefig(\"../../../figures/exploratory_figures/Position_Mean_Salaries.pdf\",bbox_inches = \"tight\")\n",
    "plt.show()"
   ]
  },
  {
   "cell_type": "code",
   "execution_count": 24,
   "metadata": {},
   "outputs": [],
   "source": [
    "ds_sals = df_ds['salary'].tolist()\n",
    "dsi_sals = df_dsi['salary'].tolist()\n",
    "sds_sals = df_sds['salary'].tolist()\n",
    "lds_sals = df_lds['salary'].tolist()\n",
    "jds_sals = df_jds['salary'].tolist()"
   ]
  },
  {
   "cell_type": "code",
   "execution_count": 25,
   "metadata": {},
   "outputs": [],
   "source": [
    "x1 = [1 for i in range(len(dsi_sals))]\n",
    "x2 = [2 for i in range(len(jds_sals))]\n",
    "x3 = [3 for i in range(len(ds_sals))]\n",
    "x4 = [4 for i in range(len(sds_sals))]\n",
    "x5 = [5 for i in range(len(lds_sals))]\n",
    "\n",
    "x = x1 + x2 + x3 + x4 + x5"
   ]
  },
  {
   "cell_type": "code",
   "execution_count": 26,
   "metadata": {},
   "outputs": [],
   "source": [
    "sals = dsi_sals + jds_sals + ds_sals + sds_sals + lds_sals "
   ]
  },
  {
   "cell_type": "code",
   "execution_count": 27,
   "metadata": {},
   "outputs": [
    {
     "data": {
      "image/png": "[encoded data removed]",
      "text/plain": [
       "<Figure size 432x288 with 1 Axes>"
      ]
     },
     "metadata": {
      "needs_background": "light"
     },
     "output_type": "display_data"
    }
   ],
   "source": [
    "plt.scatter(x,sals)\n",
    "plt.ylabel(\"Salary ($)\",fontsize = 14)\n",
    "plt.xlabel(\"Position\",fontsize = 14)\n",
    "plt.title(\"Position Salaries ($)\",fontsize = 18)\n",
    "plt.savefig(\"../../../figures/exploratory_figures/Position_Salaries.pdf\",bbox_inches = \"tight\")\n",
    "plt.show()"
   ]
  },
  {
   "cell_type": "markdown",
   "metadata": {},
   "source": [
    "# Splitting by Country"
   ]
  },
  {
   "cell_type": "code",
   "execution_count": 28,
   "metadata": {},
   "outputs": [],
   "source": [
    "df_ca = df[df['Country'] == 'CA']\n",
    "df_us = df[df['Country'] == 'US']\n",
    "df_uk = df[df['Country'] == 'UK']"
   ]
  },
  {
   "cell_type": "code",
   "execution_count": 29,
   "metadata": {},
   "outputs": [],
   "source": [
    "ca_dsi_mean = df_ca[df_ca['Position_clean'] == 'Data Scientist Intern']['salary'].mean()\n",
    "ca_jds_mean = df_ca[df_ca['Position_clean'] == 'Junior Data Scientist']['salary'].mean()\n",
    "ca_ds_mean = df_ca[df_ca['Position_clean'] == 'Data Scientist']['salary'].mean()\n",
    "ca_sds_mean = df_ca[df_ca['Position_clean'] == 'Senior Data Scientist']['salary'].mean()\n",
    "ca_lds_mean = df_ca[df_ca['Position_clean'] == 'Lead Data Scientist']['salary'].mean()\n",
    "\n",
    "us_dsi_mean = df_us[df_us['Position_clean'] == 'Data Scientist Intern']['salary'].mean()\n",
    "us_jds_mean = df_us[df_us['Position_clean'] == 'Junior Data Scientist']['salary'].mean()\n",
    "us_ds_mean = df_us[df_us['Position_clean'] == 'Data Scientist']['salary'].mean()\n",
    "us_sds_mean = df_us[df_us['Position_clean'] == 'Senior Data Scientist']['salary'].mean()\n",
    "us_lds_mean = df_us[df_us['Position_clean'] == 'Lead Data Scientist']['salary'].mean()\n",
    "\n",
    "uk_dsi_mean = df_uk[df_uk['Position_clean'] == 'Data Scientist Intern']['salary'].mean()\n",
    "uk_jds_mean = df_uk[df_uk['Position_clean'] == 'Junior Data Scientist']['salary'].mean()\n",
    "uk_ds_mean = df_uk[df_uk['Position_clean'] == 'Data Scientist']['salary'].mean()\n",
    "uk_sds_mean = df_uk[df_uk['Position_clean'] == 'Senior Data Scientist']['salary'].mean()\n",
    "uk_lds_mean = df_uk[df_uk['Position_clean'] == 'Lead Data Scientist']['salary'].mean()"
   ]
  },
  {
   "cell_type": "code",
   "execution_count": 30,
   "metadata": {},
   "outputs": [
    {
     "data": {
      "image/png": "[encoded data removed]",
      "text/plain": [
       "<Figure size 432x288 with 1 Axes>"
      ]
     },
     "metadata": {
      "needs_background": "light"
     },
     "output_type": "display_data"
    }
   ],
   "source": [
    "y = [[ca_dsi_mean,ca_jds_mean,ca_ds_mean,ca_sds_mean,ca_lds_mean],\n",
    "     [us_dsi_mean,us_jds_mean,us_ds_mean,us_sds_mean,us_lds_mean],\n",
    "     [uk_dsi_mean,uk_jds_mean,uk_ds_mean,uk_sds_mean,uk_lds_mean]]\n",
    "\n",
    "x = [[0.75,1.75,2.75,3.75,4.75],[1,2,3,4,5],[1.25,2.25,3.25,4.25,5.25]]\n",
    "\n",
    "labels = ['Intern','Junior','Normal','Senior','Lead']\n",
    "colors = ['red','blue','green']\n",
    "\n",
    "for i in range(3):\n",
    "    plt.bar(x[i],y[i],width=0.25,color = colors[i])\n",
    "plt.xticks(x[1],labels)\n",
    "plt.ylabel(\"Mean Salary ($)\",fontsize=14)\n",
    "plt.xlabel(\"Position\",fontsize=14)\n",
    "plt.title(\"Position Mean Salaries ($) By Country\",fontsize = 18)\n",
    "\n",
    "colors = {'CA':'red', 'US':'blue','UK':'green'}         \n",
    "labels = list(colors.keys())\n",
    "handles = [plt.Rectangle((0,0),1,1, color=colors[label]) for label in labels]\n",
    "plt.legend(handles, labels)\n",
    "\n",
    "plt.savefig(\"../../../figures/exploratory_figures/Position_Mean_Salaries_Country.pdf\",bbox_inches = \"tight\")\n",
    "plt.show()"
   ]
  },
  {
   "cell_type": "code",
   "execution_count": 31,
   "metadata": {},
   "outputs": [],
   "source": [
    "ca_dsi_list = df_ca[df_ca['Position_clean'] == 'Data Scientist Intern']['salary'].tolist()\n",
    "ca_jds_list = df_ca[df_ca['Position_clean'] == 'Junior Data Scientist']['salary'].tolist()\n",
    "ca_ds_list = df_ca[df_ca['Position_clean'] == 'Data Scientist']['salary'].tolist()\n",
    "ca_sds_list = df_ca[df_ca['Position_clean'] == 'Senior Data Scientist']['salary'].tolist()\n",
    "ca_lds_list = df_ca[df_ca['Position_clean'] == 'Lead Data Scientist']['salary'].tolist()\n",
    "\n",
    "us_dsi_list = df_us[df_us['Position_clean'] == 'Data Scientist Intern']['salary'].tolist()\n",
    "us_jds_list = df_us[df_us['Position_clean'] == 'Junior Data Scientist']['salary'].tolist()\n",
    "us_ds_list = df_us[df_us['Position_clean'] == 'Data Scientist']['salary'].tolist()\n",
    "us_sds_list = df_us[df_us['Position_clean'] == 'Senior Data Scientist']['salary'].tolist()\n",
    "us_lds_list = df_us[df_us['Position_clean'] == 'Lead Data Scientist']['salary'].tolist()\n",
    "\n",
    "uk_dsi_list = df_uk[df_uk['Position_clean'] == 'Data Scientist Intern']['salary'].tolist()\n",
    "uk_jds_list = df_uk[df_uk['Position_clean'] == 'Junior Data Scientist']['salary'].tolist()\n",
    "uk_ds_list = df_uk[df_uk['Position_clean'] == 'Data Scientist']['salary'].tolist()\n",
    "uk_sds_list = df_uk[df_uk['Position_clean'] == 'Senior Data Scientist']['salary'].tolist()\n",
    "uk_lds_list = df_uk[df_uk['Position_clean'] == 'Lead Data Scientist']['salary'].tolist()\n",
    "\n",
    "sals = [[ca_dsi_list,ca_jds_list,ca_ds_list,ca_sds_list,ca_lds_list],\n",
    "        [us_dsi_list,us_jds_list,us_ds_list,us_sds_list,us_lds_list],\n",
    "        [uk_dsi_list,uk_jds_list,uk_ds_list,uk_sds_list,uk_lds_list]]"
   ]
  },
  {
   "cell_type": "code",
   "execution_count": 32,
   "metadata": {},
   "outputs": [],
   "source": [
    "x = []\n",
    "\n",
    "count = 0\n",
    "for i in [-0.25,0,0.25]:\n",
    "\n",
    "    x1 = [1+i for j in range(len(sals[count][0]))]\n",
    "    x2 = [2+i for j in range(len(sals[count][1]))]\n",
    "    x3 = [3+i for j in range(len(sals[count][2]))]\n",
    "    x4 = [4+i for j in range(len(sals[count][3]))]\n",
    "    x5 = [5+i for j in range(len(sals[count][4]))]\n",
    "\n",
    "    x_temp = [x1,x2,x3,x4,x5]\n",
    "    \n",
    "    x.append(x_temp)\n",
    "    count+=1"
   ]
  },
  {
   "cell_type": "code",
   "execution_count": 35,
   "metadata": {},
   "outputs": [
    {
     "data": {
      "image/png": "[encoded data removed]",
      "text/plain": [
       "<Figure size 432x288 with 1 Axes>"
      ]
     },
     "metadata": {
      "needs_background": "light"
     },
     "output_type": "display_data"
    }
   ],
   "source": [
    "colors = ['red','blue','green']\n",
    "\n",
    "for i in range(len(sals)):\n",
    "    for j in range(len(sals[0])):\n",
    "        plt.scatter(x[i][j],sals[i][j],color = colors[i])\n",
    "        \n",
    "plt.ylabel(\"Salary ($)\",fontsize=14)\n",
    "plt.xlabel(\"Position\",fontsize=14)\n",
    "plt.title(\"Position Salaries ($) By Country\",fontsize=18)\n",
    "colors = {'CA':'red', 'US':'blue','UK':'green'}         \n",
    "labels = list(colors.keys())\n",
    "handles = [plt.Rectangle((0,0),1,1, color=colors[label]) for label in labels]\n",
    "plt.legend(handles, labels)\n",
    "\n",
    "plt.savefig(\"../../../figures/exploratory_figures/Position_Salaries_Country.pdf\",bbox_inches = \"tight\")\n",
    "plt.show()"
   ]
  },
  {
   "cell_type": "markdown",
   "metadata": {},
   "source": [
    "# Correlation Analysis"
   ]
  },
  {
   "cell_type": "code",
   "execution_count": 95,
   "metadata": {},
   "outputs": [],
   "source": [
    "def position_map(pos_hierarchy,df):\n",
    "    pos_mapping = {'Data Scientist Intern':pos_hierarchy[0],\n",
    "               'Junior Data Scientist':pos_hierarchy[1],\n",
    "               'Data Scientist':pos_hierarchy[2],\n",
    "               'Senior Data Scientist':pos_hierarchy[3],\n",
    "               'Lead Data Scientist':pos_hierarchy[4]}\n",
    "    \n",
    "    df_mapped = df.replace({'Position_clean':pos_mapping})[['salary','Position_clean']]\n",
    "    return df_mapped"
   ]
  },
  {
   "cell_type": "code",
   "execution_count": 96,
   "metadata": {},
   "outputs": [
    {
     "data": {
      "text/html": [
       "<div>\n",
       "<style scoped>\n",
       "    .dataframe tbody tr th:only-of-type {\n",
       "        vertical-align: middle;\n",
       "    }\n",
       "\n",
       "    .dataframe tbody tr th {\n",
       "        vertical-align: top;\n",
       "    }\n",
       "\n",
       "    .dataframe thead th {\n",
       "        text-align: right;\n",
       "    }\n",
       "</style>\n",
       "<table border=\"1\" class=\"dataframe\">\n",
       "  <thead>\n",
       "    <tr style=\"text-align: right;\">\n",
       "      <th></th>\n",
       "      <th>salary</th>\n",
       "      <th>Position_clean</th>\n",
       "    </tr>\n",
       "  </thead>\n",
       "  <tbody>\n",
       "    <tr>\n",
       "      <th>salary</th>\n",
       "      <td>1.000000</td>\n",
       "      <td>0.434659</td>\n",
       "    </tr>\n",
       "    <tr>\n",
       "      <th>Position_clean</th>\n",
       "      <td>0.434659</td>\n",
       "      <td>1.000000</td>\n",
       "    </tr>\n",
       "  </tbody>\n",
       "</table>\n",
       "</div>"
      ],
      "text/plain": [
       "                  salary  Position_clean\n",
       "salary          1.000000        0.434659\n",
       "Position_clean  0.434659        1.000000"
      ]
     },
     "execution_count": 96,
     "metadata": {},
     "output_type": "execute_result"
    }
   ],
   "source": [
    "pos_ranks = [1,2,3,4,5]\n",
    "mapped_df = position_map(pos_ranks,df)\n",
    "mapped_df.corr()"
   ]
  },
  {
   "cell_type": "code",
   "execution_count": 97,
   "metadata": {},
   "outputs": [
    {
     "data": {
      "text/html": [
       "<div>\n",
       "<style scoped>\n",
       "    .dataframe tbody tr th:only-of-type {\n",
       "        vertical-align: middle;\n",
       "    }\n",
       "\n",
       "    .dataframe tbody tr th {\n",
       "        vertical-align: top;\n",
       "    }\n",
       "\n",
       "    .dataframe thead th {\n",
       "        text-align: right;\n",
       "    }\n",
       "</style>\n",
       "<table border=\"1\" class=\"dataframe\">\n",
       "  <thead>\n",
       "    <tr style=\"text-align: right;\">\n",
       "      <th></th>\n",
       "      <th>salary</th>\n",
       "      <th>Position_clean</th>\n",
       "    </tr>\n",
       "  </thead>\n",
       "  <tbody>\n",
       "    <tr>\n",
       "      <th>salary</th>\n",
       "      <td>1.000000</td>\n",
       "      <td>0.432615</td>\n",
       "    </tr>\n",
       "    <tr>\n",
       "      <th>Position_clean</th>\n",
       "      <td>0.432615</td>\n",
       "      <td>1.000000</td>\n",
       "    </tr>\n",
       "  </tbody>\n",
       "</table>\n",
       "</div>"
      ],
      "text/plain": [
       "                  salary  Position_clean\n",
       "salary          1.000000        0.432615\n",
       "Position_clean  0.432615        1.000000"
      ]
     },
     "execution_count": 97,
     "metadata": {},
     "output_type": "execute_result"
    }
   ],
   "source": [
    "pos_ranks = [1,1,3,4,5]\n",
    "mapped_df = position_map(pos_ranks,df)\n",
    "mapped_df.corr()"
   ]
  },
  {
   "cell_type": "code",
   "execution_count": 102,
   "metadata": {},
   "outputs": [
    {
     "data": {
      "text/html": [
       "<div>\n",
       "<style scoped>\n",
       "    .dataframe tbody tr th:only-of-type {\n",
       "        vertical-align: middle;\n",
       "    }\n",
       "\n",
       "    .dataframe tbody tr th {\n",
       "        vertical-align: top;\n",
       "    }\n",
       "\n",
       "    .dataframe thead th {\n",
       "        text-align: right;\n",
       "    }\n",
       "</style>\n",
       "<table border=\"1\" class=\"dataframe\">\n",
       "  <thead>\n",
       "    <tr style=\"text-align: right;\">\n",
       "      <th></th>\n",
       "      <th>salary</th>\n",
       "      <th>Position_clean</th>\n",
       "    </tr>\n",
       "  </thead>\n",
       "  <tbody>\n",
       "    <tr>\n",
       "      <th>salary</th>\n",
       "      <td>1.000000</td>\n",
       "      <td>0.437561</td>\n",
       "    </tr>\n",
       "    <tr>\n",
       "      <th>Position_clean</th>\n",
       "      <td>0.437561</td>\n",
       "      <td>1.000000</td>\n",
       "    </tr>\n",
       "  </tbody>\n",
       "</table>\n",
       "</div>"
      ],
      "text/plain": [
       "                  salary  Position_clean\n",
       "salary          1.000000        0.437561\n",
       "Position_clean  0.437561        1.000000"
      ]
     },
     "execution_count": 102,
     "metadata": {},
     "output_type": "execute_result"
    }
   ],
   "source": [
    "sum_means = dsi_mean_sal+jds_mean_sal+ds_mean_sal+sds_mean_sal+lds_mean_sal\n",
    "\n",
    "pos_ranks = [dsi_mean_sal/sum_means,\n",
    "             jds_mean_sal/sum_means,\n",
    "             ds_mean_sal/sum_means,\n",
    "             sds_mean_sal/sum_means,\n",
    "             lds_mean_sal/sum_means]\n",
    "\n",
    "mapped_df = position_map(pos_ranks,df)\n",
    "mapped_df.corr()"
   ]
  },
  {
   "cell_type": "code",
   "execution_count": 104,
   "metadata": {},
   "outputs": [
    {
     "data": {
      "text/plain": [
       "[0.13817498174891568,\n",
       " 0.1592765587525753,\n",
       " 0.19722997691331484,\n",
       " 0.23931850271410038,\n",
       " 0.2659999798710939]"
      ]
     },
     "execution_count": 104,
     "metadata": {},
     "output_type": "execute_result"
    }
   ],
   "source": [
    "pos_ranks"
   ]
  },
  {
   "cell_type": "code",
   "execution_count": null,
   "metadata": {},
   "outputs": [],
   "source": []
  }
 ],
 "metadata": {
  "kernelspec": {
   "display_name": "Python 3",
   "language": "python",
   "name": "python3"
  },
  "language_info": {
   "codemirror_mode": {
    "name": "ipython",
    "version": 3
   },
   "file_extension": ".py",
   "mimetype": "text/x-python",
   "name": "python",
   "nbconvert_exporter": "python",
   "pygments_lexer": "ipython3",
   "version": "3.5.6"
  }
 },
 "nbformat": 4,
 "nbformat_minor": 4
}
