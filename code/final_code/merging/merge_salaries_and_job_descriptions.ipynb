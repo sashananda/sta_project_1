{
 "cells": [
  {
   "cell_type": "code",
   "execution_count": 1,
   "metadata": {
    "collapsed": true
   },
   "outputs": [],
   "source": [
    "import pandas as pd\n",
    "import numpy as np\n",
    "import math"
   ]
  },
  {
   "cell_type": "code",
   "execution_count": 8,
   "metadata": {
    "collapsed": true
   },
   "outputs": [],
   "source": [
    "df_salaries_ca = pd.read_csv('../../../data/clean_data/salaries_ca2.csv', index_col=0)\n",
    "df_salaries_us = pd.read_csv('../../../data/clean_data/salaries_us2.csv', index_col=0)\n",
    "df_salaries_uk = pd.read_csv('../../../data/clean_data/salaries_uk3.csv', index_col=0)"
   ]
  },
  {
   "cell_type": "code",
   "execution_count": 9,
   "metadata": {
    "collapsed": false
   },
   "outputs": [],
   "source": [
    "df_salaries = pd.read_csv('../../../data/clean_data/salaries_all.csv', index_col=0)\n",
    "df_job_desc_ca = pd.read_csv('../../../data/clean_data/job_desc_ca.csv', index_col=0)\n",
    "df_job_desc_us = pd.read_csv('../../../data/clean_data/job_desc_us.csv', index_col=0)\n",
    "df_job_desc_uk = pd.read_csv('../../../data/clean_data/job_desc_uk.csv', index_col=0)"
   ]
  },
  {
   "cell_type": "code",
   "execution_count": 13,
   "metadata": {
    "collapsed": false
   },
   "outputs": [
    {
     "data": {
      "text/plain": [
       "Index(['company', 'salary', 'lower_bound_salary', 'upper_bound_salary',\n",
       "       'base_pay', 'bonus_pay', 'cash_bonus', 'stock_bonus', 'Position_clean'],\n",
       "      dtype='object')"
      ]
     },
     "execution_count": 13,
     "metadata": {},
     "output_type": "execute_result"
    }
   ],
   "source": [
    "df_salaries_ca.columns"
   ]
  },
  {
   "cell_type": "code",
   "execution_count": 12,
   "metadata": {
    "collapsed": false
   },
   "outputs": [
    {
     "data": {
      "text/plain": [
       "Index(['company', 'Description', 'Glassdoor Salary Estimate',\n",
       "       'company_location', 'company_rating', 'company_year_founded',\n",
       "       'Position_clean', 'company_industry_Advertising & Marketing',\n",
       "       'company_industry_Aerospace & Defense',\n",
       "       'company_industry_Banks & Credit Unions',\n",
       "       ...\n",
       "       'company_type_Contract', 'company_type_Government',\n",
       "       'company_type_Hospital', 'company_type_Nonprofit Organization',\n",
       "       'company_type_Private Practice / Firm',\n",
       "       'company_type_Subsidiary or Business Segment', 'Self-employed',\n",
       "       'School / School District', 'Franchise', 'Other Organization'],\n",
       "      dtype='object', length=165)"
      ]
     },
     "execution_count": 12,
     "metadata": {},
     "output_type": "execute_result"
    }
   ],
   "source": [
    "df_job_desc_ca.columns"
   ]
  },
  {
   "cell_type": "code",
   "execution_count": 34,
   "metadata": {
    "collapsed": false
   },
   "outputs": [],
   "source": [
    "df_merged_ca = df_salaries_ca.merge(df_job_desc_ca, on=['company', 'Position_clean'])"
   ]
  },
  {
   "cell_type": "code",
   "execution_count": 20,
   "metadata": {
    "collapsed": false
   },
   "outputs": [
    {
     "data": {
      "text/plain": [
       "Index(['company', 'salary', 'lower_bound_salary', 'upper_bound_salary',\n",
       "       'base_pay', 'bonus_pay', 'cash_bonus', 'stock_bonus', 'Position_clean'],\n",
       "      dtype='object')"
      ]
     },
     "execution_count": 20,
     "metadata": {},
     "output_type": "execute_result"
    }
   ],
   "source": [
    "df_salaries_us.columns"
   ]
  },
  {
   "cell_type": "code",
   "execution_count": 21,
   "metadata": {
    "collapsed": false
   },
   "outputs": [
    {
     "data": {
      "text/plain": [
       "Index(['Description', 'company', 'company_location',\n",
       "       'Glassdoor Salary Estimate', 'company_rating', 'company_year_founded',\n",
       "       'Position_clean', 'company_industry_Accounting',\n",
       "       'company_industry_Advertising & Marketing',\n",
       "       'company_industry_Aerospace & Defense',\n",
       "       ...\n",
       "       'company_type_Contract', 'company_type_Government',\n",
       "       'company_type_Nonprofit Organization',\n",
       "       'company_type_Other Organization',\n",
       "       'company_type_Private Practice / Firm',\n",
       "       'company_type_Subsidiary or Business Segment', 'Self-employed',\n",
       "       'Hospital', 'School / School District', 'Franchise'],\n",
       "      dtype='object', length=165)"
      ]
     },
     "execution_count": 21,
     "metadata": {},
     "output_type": "execute_result"
    }
   ],
   "source": [
    "df_job_desc_us.columns"
   ]
  },
  {
   "cell_type": "code",
   "execution_count": 32,
   "metadata": {
    "collapsed": false
   },
   "outputs": [],
   "source": [
    "df_merged_uk = df_salaries_uk.merge(df_job_desc_uk, left_on=['company', 'Position_clean'], right_on=['Company', 'Position_clean'])"
   ]
  },
  {
   "cell_type": "code",
   "execution_count": 26,
   "metadata": {
    "collapsed": false
   },
   "outputs": [],
   "source": [
    "df_merged_us = df_salaries_us.merge(df_job_desc_us, on=['company', 'Position_clean'])"
   ]
  },
  {
   "cell_type": "code",
   "execution_count": 31,
   "metadata": {
    "collapsed": false
   },
   "outputs": [
    {
     "name": "stdout",
     "output_type": "stream",
     "text": [
      "173\n"
     ]
    }
   ],
   "source": [
    "#[print(x) for x in df_merged_us['company'].unique() ]\n",
    "print(len(df_merged_us['company'].unique()))"
   ]
  },
  {
   "cell_type": "code",
   "execution_count": 33,
   "metadata": {
    "collapsed": false
   },
   "outputs": [
    {
     "name": "stdout",
     "output_type": "stream",
     "text": [
      "26\n"
     ]
    }
   ],
   "source": [
    "#[print(x) for x in df_merged_us['company'].unique() ]\n",
    "print(len(df_merged_uk['company'].unique()))"
   ]
  },
  {
   "cell_type": "code",
   "execution_count": 35,
   "metadata": {
    "collapsed": false
   },
   "outputs": [
    {
     "name": "stdout",
     "output_type": "stream",
     "text": [
      "8\n"
     ]
    }
   ],
   "source": [
    "#[print(x) for x in df_merged_us['company'].unique() ]\n",
    "print(len(df_merged_ca['company'].unique()))"
   ]
  },
  {
   "cell_type": "code",
   "execution_count": null,
   "metadata": {
    "collapsed": true
   },
   "outputs": [],
   "source": []
  }
 ],
 "metadata": {
  "kernelspec": {
   "display_name": "Python 3",
   "language": "python",
   "name": "python3"
  },
  "language_info": {
   "codemirror_mode": {
    "name": "ipython",
    "version": 3
   },
   "file_extension": ".py",
   "mimetype": "text/x-python",
   "name": "python",
   "nbconvert_exporter": "python",
   "pygments_lexer": "ipython3",
   "version": "3.6.8"
  }
 },
 "nbformat": 4,
 "nbformat_minor": 2
}
