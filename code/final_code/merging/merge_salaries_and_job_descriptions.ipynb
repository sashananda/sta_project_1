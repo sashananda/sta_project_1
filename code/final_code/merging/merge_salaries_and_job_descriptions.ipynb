{
 "cells": [
  {
   "cell_type": "code",
   "execution_count": 2,
   "metadata": {},
   "outputs": [],
   "source": [
    "import pandas as pd\n",
    "import numpy as np\n",
    "import math"
   ]
  },
  {
   "cell_type": "code",
   "execution_count": 3,
   "metadata": {},
   "outputs": [],
   "source": [
    "df_salaries_ca = pd.read_csv('../../../data/clean_data/salaries_ca_finished.csv', index_col=0)\n",
    "df_salaries_us = pd.read_csv('../../../data/clean_data/salaries_us_finished.csv', index_col=0)\n",
    "df_salaries_uk = pd.read_csv('../../../data/clean_data/salaries_uk_finished.csv', index_col=0)"
   ]
  },
  {
   "cell_type": "code",
   "execution_count": 4,
   "metadata": {},
   "outputs": [],
   "source": [
    "df_salaries = pd.read_csv('../../../data/clean_data/salaries_all.csv', index_col=0)\n",
    "df_job_desc_ca = pd.read_csv('../../../data/clean_data/job_desc_ca.csv', index_col=0)\n",
    "df_job_desc_us = pd.read_csv('../../../data/clean_data/job_desc_us.csv', index_col=0)\n",
    "df_job_desc_uk = pd.read_csv('../../../data/clean_data/job_desc_uk.csv', index_col=0)"
   ]
  },
  {
   "cell_type": "code",
   "execution_count": 5,
   "metadata": {},
   "outputs": [
    {
     "data": {
      "text/plain": [
       "Index(['Unnamed: 0.1', 'company', 'salary', 'lower_bound_salary',\n",
       "       'upper_bound_salary', 'base_pay', 'bonus_pay', 'cash_bonus',\n",
       "       'stock_bonus', 'Position_clean', 'Country'],\n",
       "      dtype='object')"
      ]
     },
     "execution_count": 5,
     "metadata": {},
     "output_type": "execute_result"
    }
   ],
   "source": [
    "df_salaries_ca.columns"
   ]
  },
  {
   "cell_type": "code",
   "execution_count": 6,
   "metadata": {},
   "outputs": [
    {
     "data": {
      "text/plain": [
       "Index(['company', 'Description', 'Glassdoor Salary Estimate',\n",
       "       'company_location', 'company_rating', 'company_year_founded',\n",
       "       'Position_clean', 'company_industry_Advertising & Marketing',\n",
       "       'company_industry_Aerospace & Defense',\n",
       "       'company_industry_Banks & Credit Unions',\n",
       "       ...\n",
       "       'company_type_Contract', 'company_type_Government',\n",
       "       'company_type_Hospital', 'company_type_Nonprofit Organization',\n",
       "       'company_type_Private Practice / Firm',\n",
       "       'company_type_Subsidiary or Business Segment',\n",
       "       'School / School District', 'Other Organization', 'Self-employed',\n",
       "       'Franchise'],\n",
       "      dtype='object', length=165)"
      ]
     },
     "execution_count": 6,
     "metadata": {},
     "output_type": "execute_result"
    }
   ],
   "source": [
    "df_job_desc_ca.columns"
   ]
  },
  {
   "cell_type": "code",
   "execution_count": 7,
   "metadata": {},
   "outputs": [],
   "source": [
    "df_merged_ca = df_salaries_ca.merge(df_job_desc_ca, on=['company', 'Position_clean'])"
   ]
  },
  {
   "cell_type": "code",
   "execution_count": 12,
   "metadata": {},
   "outputs": [
    {
     "data": {
      "text/plain": [
       "(22, 174)"
      ]
     },
     "execution_count": 12,
     "metadata": {},
     "output_type": "execute_result"
    }
   ],
   "source": [
    "df_merged_ca.shape"
   ]
  },
  {
   "cell_type": "code",
   "execution_count": 13,
   "metadata": {},
   "outputs": [
    {
     "data": {
      "text/plain": [
       "Index(['Unnamed: 0.1', 'company', 'salary', 'lower_bound_salary',\n",
       "       'upper_bound_salary', 'base_pay', 'bonus_pay', 'cash_bonus',\n",
       "       'stock_bonus', 'Position_clean', 'Country'],\n",
       "      dtype='object')"
      ]
     },
     "execution_count": 13,
     "metadata": {},
     "output_type": "execute_result"
    }
   ],
   "source": [
    "df_salaries_us.columns"
   ]
  },
  {
   "cell_type": "code",
   "execution_count": 14,
   "metadata": {},
   "outputs": [
    {
     "data": {
      "text/plain": [
       "Index(['Description', 'company', 'company_location',\n",
       "       'Glassdoor Salary Estimate', 'company_rating', 'company_year_founded',\n",
       "       'Position_clean', 'company_industry_Accounting',\n",
       "       'company_industry_Advertising & Marketing',\n",
       "       'company_industry_Aerospace & Defense',\n",
       "       ...\n",
       "       'company_type_Contract', 'company_type_Government',\n",
       "       'company_type_Nonprofit Organization',\n",
       "       'company_type_Other Organization',\n",
       "       'company_type_Private Practice / Firm',\n",
       "       'company_type_Subsidiary or Business Segment',\n",
       "       'School / School District', 'Franchise', 'Self-employed', 'Hospital'],\n",
       "      dtype='object', length=165)"
      ]
     },
     "execution_count": 14,
     "metadata": {},
     "output_type": "execute_result"
    }
   ],
   "source": [
    "df_job_desc_us.columns"
   ]
  },
  {
   "cell_type": "code",
   "execution_count": 15,
   "metadata": {},
   "outputs": [],
   "source": [
    "df_merged_us = df_salaries_us.merge(df_job_desc_us, on=['company', 'Position_clean'])"
   ]
  },
  {
   "cell_type": "code",
   "execution_count": 16,
   "metadata": {},
   "outputs": [
    {
     "data": {
      "text/plain": [
       "(732, 174)"
      ]
     },
     "execution_count": 16,
     "metadata": {},
     "output_type": "execute_result"
    }
   ],
   "source": [
    "df_merged_us.shape"
   ]
  },
  {
   "cell_type": "code",
   "execution_count": 17,
   "metadata": {},
   "outputs": [
    {
     "data": {
      "text/plain": [
       "Index(['Unnamed: 0.1', 'company', 'salary', 'lower_bound_salary',\n",
       "       'upper_bound_salary', 'base_pay', 'bonus_pay', 'cash_bonus',\n",
       "       'stock_bonus', 'Position_clean', 'Country'],\n",
       "      dtype='object')"
      ]
     },
     "execution_count": 17,
     "metadata": {},
     "output_type": "execute_result"
    }
   ],
   "source": [
    "df_salaries_uk.columns"
   ]
  },
  {
   "cell_type": "code",
   "execution_count": 18,
   "metadata": {},
   "outputs": [
    {
     "data": {
      "text/plain": [
       "Index(['company', 'Description', 'Glassdoor Salary Estimate',\n",
       "       'company_location', 'company_rating', 'company_year_founded',\n",
       "       'Position_clean', 'company_industry_Accounting',\n",
       "       'company_industry_Advertising & Marketing',\n",
       "       'company_industry_Aerospace & Defense',\n",
       "       ...\n",
       "       'company_type_Government', 'company_type_Nonprofit Organization',\n",
       "       'company_type_Subsidiary or Business Segment', 'Contract',\n",
       "       'School / School District', 'Private Practice / Firm', 'Hospital',\n",
       "       'Self-employed', 'Other Organization', 'Franchise'],\n",
       "      dtype='object', length=165)"
      ]
     },
     "execution_count": 18,
     "metadata": {},
     "output_type": "execute_result"
    }
   ],
   "source": [
    "df_job_desc_uk.columns"
   ]
  },
  {
   "cell_type": "code",
   "execution_count": 19,
   "metadata": {},
   "outputs": [],
   "source": [
    "df_merged_uk = df_salaries_uk.merge(df_job_desc_uk, on=['company', 'Position_clean'])"
   ]
  },
  {
   "cell_type": "code",
   "execution_count": 20,
   "metadata": {},
   "outputs": [
    {
     "data": {
      "text/plain": [
       "(100, 174)"
      ]
     },
     "execution_count": 20,
     "metadata": {},
     "output_type": "execute_result"
    }
   ],
   "source": [
    "df_merged_uk.shape"
   ]
  },
  {
   "cell_type": "code",
   "execution_count": 21,
   "metadata": {},
   "outputs": [
    {
     "name": "stdout",
     "output_type": "stream",
     "text": [
      "172\n"
     ]
    }
   ],
   "source": [
    "#[print(x) for x in df_merged_us['company'].unique() ]\n",
    "print(len(df_merged_us['company'].unique()))"
   ]
  },
  {
   "cell_type": "code",
   "execution_count": 22,
   "metadata": {},
   "outputs": [
    {
     "name": "stdout",
     "output_type": "stream",
     "text": [
      "26\n"
     ]
    }
   ],
   "source": [
    "#[print(x) for x in df_merged_us['company'].unique() ]\n",
    "print(len(df_merged_uk['company'].unique()))"
   ]
  },
  {
   "cell_type": "code",
   "execution_count": 23,
   "metadata": {},
   "outputs": [
    {
     "name": "stdout",
     "output_type": "stream",
     "text": [
      "8\n"
     ]
    }
   ],
   "source": [
    "#[print(x) for x in df_merged_us['company'].unique() ]\n",
    "print(len(df_merged_ca['company'].unique()))"
   ]
  },
  {
   "cell_type": "code",
   "execution_count": 24,
   "metadata": {},
   "outputs": [
    {
     "name": "stderr",
     "output_type": "stream",
     "text": [
      "C:\\Users\\Jack Ellis\\anaconda3\\envs\\jackDopl\\lib\\site-packages\\ipykernel_launcher.py:1: FutureWarning: Sorting because non-concatenation axis is not aligned. A future version\n",
      "of pandas will change to not sort by default.\n",
      "\n",
      "To accept the future behavior, pass 'sort=False'.\n",
      "\n",
      "To retain the current behavior and silence the warning, pass 'sort=True'.\n",
      "\n",
      "  \"\"\"Entry point for launching an IPython kernel.\n"
     ]
    }
   ],
   "source": [
    "all_merged = pd.concat([df_merged_us,df_merged_uk,df_merged_ca])"
   ]
  },
  {
   "cell_type": "code",
   "execution_count": 29,
   "metadata": {},
   "outputs": [
    {
     "data": {
      "text/plain": [
       "Accounting                                          832\n",
       "Airlines                                            100\n",
       "Animal Production                                     0\n",
       "Architectural & Engineering Services                832\n",
       "Auctions & Galleries                                  0\n",
       "Audiovisual                                           0\n",
       "Auto Repair & Maintenance                             0\n",
       "Automotive Parts & Accessories Stores                 0\n",
       "Beauty & Personal Accessories Stores                732\n",
       "Brokerage Services                                  832\n",
       "Building & Personnel Services                       732\n",
       "Bus Transportation Services                          22\n",
       "Business Service Centers & Copy Shops                 0\n",
       "Car Rental                                            0\n",
       "Casual Restaurants                                  732\n",
       "Catering & Food Service Contractors                   0\n",
       "Chemical Manufacturing                              732\n",
       "Commercial Equipment Rental                          22\n",
       "Commercial Printing                                 100\n",
       "Construction                                        832\n",
       "Consumer Electronics & Appliances Stores            732\n",
       "Consumer Product Rental                              22\n",
       "Consumer Products Manufacturing                     754\n",
       "Contract                                            754\n",
       "Country                                               0\n",
       "Cruise Ships                                        732\n",
       "Description                                           0\n",
       "Drug & Health Stores                                100\n",
       "Education Training Services                         754\n",
       "Electrical & Electronic Manufacturing               832\n",
       "                                                   ... \n",
       "company_revenue_$100 to $500 million (USD)            0\n",
       "company_revenue_$2 to $5 billion (USD)                0\n",
       "company_revenue_$25 to $50 million (USD)              0\n",
       "company_revenue_$5 to $10 billion (USD)               0\n",
       "company_revenue_$5 to $10 million (USD)               0\n",
       "company_revenue_$50 to $100 million (USD)             0\n",
       "company_revenue_$500 million to $1 billion (USD)      0\n",
       "company_revenue_Less than $1 million (USD)            0\n",
       "company_size_1 to 50 Employees                        0\n",
       "company_size_10000+ Employees                         0\n",
       "company_size_1001 to 5000 Employees                   0\n",
       "company_size_201 to 500 Employees                     0\n",
       "company_size_5001 to 10000 Employees                  0\n",
       "company_size_501 to 1000 Employees                    0\n",
       "company_size_51 to 200 Employees                      0\n",
       "company_type_College / University                     0\n",
       "company_type_Company - Private                        0\n",
       "company_type_Company - Public                         0\n",
       "company_type_Contract                               100\n",
       "company_type_Government                               0\n",
       "company_type_Hospital                               832\n",
       "company_type_Nonprofit Organization                   0\n",
       "company_type_Other Organization                     122\n",
       "company_type_Private Practice / Firm                100\n",
       "company_type_Subsidiary or Business Segment           0\n",
       "company_year_founded                                 19\n",
       "lower_bound_salary                                    0\n",
       "salary                                                0\n",
       "stock_bonus                                         618\n",
       "upper_bound_salary                                    0\n",
       "Length: 240, dtype: int64"
      ]
     },
     "execution_count": 29,
     "metadata": {},
     "output_type": "execute_result"
    }
   ],
   "source": [
    "all_merged.isnull().sum()"
   ]
  },
  {
   "cell_type": "code",
   "execution_count": 28,
   "metadata": {},
   "outputs": [],
   "source": [
    "all_merged.to_csv('../../../data/clean_data/salaries_and_descriptions.csv')"
   ]
  },
  {
   "cell_type": "code",
   "execution_count": 40,
   "metadata": {},
   "outputs": [],
   "source": [
    "columns = all_merged.columns\n",
    "toDrop = []\n",
    "\n",
    "for column in columns:\n",
    "    if all_merged[column].dtype == np.float64 or all_merged[column].dtype == np.int64: \n",
    "        count = 0\n",
    "        for index,row in all_merged.iterrows():\n",
    "            if row[column] == 0 or math.isnan(row[column]):\n",
    "                pass\n",
    "            else:\n",
    "                count += 1\n",
    "        if count == 0:\n",
    "            toDrop.append(column)"
   ]
  },
  {
   "cell_type": "code",
   "execution_count": 44,
   "metadata": {},
   "outputs": [],
   "source": [
    "final = all_merged.drop(toDrop,axis = 1)"
   ]
  },
  {
   "cell_type": "code",
   "execution_count": 47,
   "metadata": {},
   "outputs": [
    {
     "data": {
      "text/html": [
       "<div>\n",
       "<style scoped>\n",
       "    .dataframe tbody tr th:only-of-type {\n",
       "        vertical-align: middle;\n",
       "    }\n",
       "\n",
       "    .dataframe tbody tr th {\n",
       "        vertical-align: top;\n",
       "    }\n",
       "\n",
       "    .dataframe thead th {\n",
       "        text-align: right;\n",
       "    }\n",
       "</style>\n",
       "<table border=\"1\" class=\"dataframe\">\n",
       "  <thead>\n",
       "    <tr style=\"text-align: right;\">\n",
       "      <th></th>\n",
       "      <th>Country</th>\n",
       "      <th>Description</th>\n",
       "      <th>Glassdoor Salary Estimate</th>\n",
       "      <th>Position_clean</th>\n",
       "      <th>Unnamed: 0.1</th>\n",
       "      <th>base_pay</th>\n",
       "      <th>bonus_pay</th>\n",
       "      <th>cash_bonus</th>\n",
       "      <th>company</th>\n",
       "      <th>company_industry_Accounting</th>\n",
       "      <th>...</th>\n",
       "      <th>company_type_Company - Private</th>\n",
       "      <th>company_type_Company - Public</th>\n",
       "      <th>company_type_Government</th>\n",
       "      <th>company_type_Nonprofit Organization</th>\n",
       "      <th>company_type_Subsidiary or Business Segment</th>\n",
       "      <th>company_year_founded</th>\n",
       "      <th>lower_bound_salary</th>\n",
       "      <th>salary</th>\n",
       "      <th>stock_bonus</th>\n",
       "      <th>upper_bound_salary</th>\n",
       "    </tr>\n",
       "  </thead>\n",
       "  <tbody>\n",
       "    <tr>\n",
       "      <th>0</th>\n",
       "      <td>US</td>\n",
       "      <td>Facebook's mission is to give people the power...</td>\n",
       "      <td>193225.0</td>\n",
       "      <td>Data Scientist</td>\n",
       "      <td>1</td>\n",
       "      <td>198153.22</td>\n",
       "      <td>19650.0</td>\n",
       "      <td>19650.0</td>\n",
       "      <td>Facebook</td>\n",
       "      <td>0.0</td>\n",
       "      <td>...</td>\n",
       "      <td>0</td>\n",
       "      <td>1</td>\n",
       "      <td>0</td>\n",
       "      <td>0</td>\n",
       "      <td>0</td>\n",
       "      <td>2004.0</td>\n",
       "      <td>131000.0</td>\n",
       "      <td>198153.22</td>\n",
       "      <td>33267.45</td>\n",
       "      <td>286890.0</td>\n",
       "    </tr>\n",
       "    <tr>\n",
       "      <th>1</th>\n",
       "      <td>US</td>\n",
       "      <td>Facebook's mission is to give people the power...</td>\n",
       "      <td>193225.0</td>\n",
       "      <td>Data Scientist</td>\n",
       "      <td>1</td>\n",
       "      <td>198153.22</td>\n",
       "      <td>19650.0</td>\n",
       "      <td>19650.0</td>\n",
       "      <td>Facebook</td>\n",
       "      <td>0.0</td>\n",
       "      <td>...</td>\n",
       "      <td>0</td>\n",
       "      <td>1</td>\n",
       "      <td>0</td>\n",
       "      <td>0</td>\n",
       "      <td>0</td>\n",
       "      <td>2004.0</td>\n",
       "      <td>131000.0</td>\n",
       "      <td>198153.22</td>\n",
       "      <td>33267.45</td>\n",
       "      <td>286890.0</td>\n",
       "    </tr>\n",
       "    <tr>\n",
       "      <th>2</th>\n",
       "      <td>US</td>\n",
       "      <td>Facebook's mission is to give people the power...</td>\n",
       "      <td>184055.0</td>\n",
       "      <td>Data Scientist</td>\n",
       "      <td>1</td>\n",
       "      <td>198153.22</td>\n",
       "      <td>19650.0</td>\n",
       "      <td>19650.0</td>\n",
       "      <td>Facebook</td>\n",
       "      <td>0.0</td>\n",
       "      <td>...</td>\n",
       "      <td>0</td>\n",
       "      <td>1</td>\n",
       "      <td>0</td>\n",
       "      <td>0</td>\n",
       "      <td>0</td>\n",
       "      <td>2004.0</td>\n",
       "      <td>131000.0</td>\n",
       "      <td>198153.22</td>\n",
       "      <td>33267.45</td>\n",
       "      <td>286890.0</td>\n",
       "    </tr>\n",
       "    <tr>\n",
       "      <th>3</th>\n",
       "      <td>US</td>\n",
       "      <td>Facebook's mission is to give people the power...</td>\n",
       "      <td>184055.0</td>\n",
       "      <td>Data Scientist</td>\n",
       "      <td>1</td>\n",
       "      <td>198153.22</td>\n",
       "      <td>19650.0</td>\n",
       "      <td>19650.0</td>\n",
       "      <td>Facebook</td>\n",
       "      <td>0.0</td>\n",
       "      <td>...</td>\n",
       "      <td>0</td>\n",
       "      <td>1</td>\n",
       "      <td>0</td>\n",
       "      <td>0</td>\n",
       "      <td>0</td>\n",
       "      <td>2004.0</td>\n",
       "      <td>131000.0</td>\n",
       "      <td>198153.22</td>\n",
       "      <td>33267.45</td>\n",
       "      <td>286890.0</td>\n",
       "    </tr>\n",
       "    <tr>\n",
       "      <th>4</th>\n",
       "      <td>US</td>\n",
       "      <td>Facebook's mission is to give people the power...</td>\n",
       "      <td>184055.0</td>\n",
       "      <td>Data Scientist</td>\n",
       "      <td>1</td>\n",
       "      <td>198153.22</td>\n",
       "      <td>19650.0</td>\n",
       "      <td>19650.0</td>\n",
       "      <td>Facebook</td>\n",
       "      <td>0.0</td>\n",
       "      <td>...</td>\n",
       "      <td>0</td>\n",
       "      <td>1</td>\n",
       "      <td>0</td>\n",
       "      <td>0</td>\n",
       "      <td>0</td>\n",
       "      <td>2004.0</td>\n",
       "      <td>131000.0</td>\n",
       "      <td>198153.22</td>\n",
       "      <td>33267.45</td>\n",
       "      <td>286890.0</td>\n",
       "    </tr>\n",
       "  </tbody>\n",
       "</table>\n",
       "<p>5 rows × 85 columns</p>\n",
       "</div>"
      ],
      "text/plain": [
       "  Country                                        Description  \\\n",
       "0      US  Facebook's mission is to give people the power...   \n",
       "1      US  Facebook's mission is to give people the power...   \n",
       "2      US  Facebook's mission is to give people the power...   \n",
       "3      US  Facebook's mission is to give people the power...   \n",
       "4      US  Facebook's mission is to give people the power...   \n",
       "\n",
       "   Glassdoor Salary Estimate  Position_clean  Unnamed: 0.1   base_pay  \\\n",
       "0                   193225.0  Data Scientist             1  198153.22   \n",
       "1                   193225.0  Data Scientist             1  198153.22   \n",
       "2                   184055.0  Data Scientist             1  198153.22   \n",
       "3                   184055.0  Data Scientist             1  198153.22   \n",
       "4                   184055.0  Data Scientist             1  198153.22   \n",
       "\n",
       "   bonus_pay  cash_bonus   company  company_industry_Accounting  \\\n",
       "0    19650.0     19650.0  Facebook                          0.0   \n",
       "1    19650.0     19650.0  Facebook                          0.0   \n",
       "2    19650.0     19650.0  Facebook                          0.0   \n",
       "3    19650.0     19650.0  Facebook                          0.0   \n",
       "4    19650.0     19650.0  Facebook                          0.0   \n",
       "\n",
       "          ...          company_type_Company - Private  \\\n",
       "0         ...                                       0   \n",
       "1         ...                                       0   \n",
       "2         ...                                       0   \n",
       "3         ...                                       0   \n",
       "4         ...                                       0   \n",
       "\n",
       "   company_type_Company - Public  company_type_Government  \\\n",
       "0                              1                        0   \n",
       "1                              1                        0   \n",
       "2                              1                        0   \n",
       "3                              1                        0   \n",
       "4                              1                        0   \n",
       "\n",
       "   company_type_Nonprofit Organization  \\\n",
       "0                                    0   \n",
       "1                                    0   \n",
       "2                                    0   \n",
       "3                                    0   \n",
       "4                                    0   \n",
       "\n",
       "   company_type_Subsidiary or Business Segment  company_year_founded  \\\n",
       "0                                            0                2004.0   \n",
       "1                                            0                2004.0   \n",
       "2                                            0                2004.0   \n",
       "3                                            0                2004.0   \n",
       "4                                            0                2004.0   \n",
       "\n",
       "   lower_bound_salary     salary  stock_bonus  upper_bound_salary  \n",
       "0            131000.0  198153.22     33267.45            286890.0  \n",
       "1            131000.0  198153.22     33267.45            286890.0  \n",
       "2            131000.0  198153.22     33267.45            286890.0  \n",
       "3            131000.0  198153.22     33267.45            286890.0  \n",
       "4            131000.0  198153.22     33267.45            286890.0  \n",
       "\n",
       "[5 rows x 85 columns]"
      ]
     },
     "execution_count": 47,
     "metadata": {},
     "output_type": "execute_result"
    }
   ],
   "source": [
    "final.head()"
   ]
  },
  {
   "cell_type": "code",
   "execution_count": 49,
   "metadata": {},
   "outputs": [],
   "source": [
    "final.to_csv('../../../data/clean_data/salaries_and_descriptions.csv')"
   ]
  },
  {
   "cell_type": "code",
   "execution_count": null,
   "metadata": {},
   "outputs": [],
   "source": []
  }
 ],
 "metadata": {
  "kernelspec": {
   "display_name": "Python 3",
   "language": "python",
   "name": "python3"
  },
  "language_info": {
   "codemirror_mode": {
    "name": "ipython",
    "version": 3
   },
   "file_extension": ".py",
   "mimetype": "text/x-python",
   "name": "python",
   "nbconvert_exporter": "python",
   "pygments_lexer": "ipython3",
   "version": "3.7.3"
  }
 },
 "nbformat": 4,
 "nbformat_minor": 2
}
