{
 "cells": [
  {
   "cell_type": "code",
   "execution_count": 3,
   "metadata": {},
   "outputs": [],
   "source": [
    "import pandas as pd"
   ]
  },
  {
   "cell_type": "code",
   "execution_count": 4,
   "metadata": {},
   "outputs": [],
   "source": [
    "df = pd.read_csv('../../data/clean_data/salaries_and_descriptions.csv', index_col = 0)\n",
    "fd = pd.read_csv('../../data/clean_data/salaries_and_descriptions_and_gramcounts.csv', index_col = 0)"
   ]
  },
  {
   "cell_type": "code",
   "execution_count": 5,
   "metadata": {
    "scrolled": true
   },
   "outputs": [
    {
     "data": {
      "text/plain": [
       "'upper_bound_salary'"
      ]
     },
     "execution_count": 5,
     "metadata": {},
     "output_type": "execute_result"
    }
   ],
   "source": [
    "df.columns[84]"
   ]
  },
  {
   "cell_type": "code",
   "execution_count": 6,
   "metadata": {
    "scrolled": true
   },
   "outputs": [
    {
     "data": {
      "text/plain": [
       "Country                                                       0\n",
       "Description                                                   0\n",
       "Glassdoor Salary Estimate                                   212\n",
       "Position_clean                                                0\n",
       "Unnamed: 0.1                                                  0\n",
       "base_pay                                                     61\n",
       "bonus_pay                                                   209\n",
       "cash_bonus                                                  516\n",
       "company                                                       0\n",
       "company_industry_Accounting                                  22\n",
       "company_industry_Advertising & Marketing                      0\n",
       "company_industry_Aerospace & Defense                          0\n",
       "company_industry_Airlines                                   754\n",
       "company_industry_Architectural & Engineering Services        22\n",
       "company_industry_Banks & Credit Unions                        0\n",
       "company_industry_Beauty & Personal Accessories Stores       122\n",
       "company_industry_Biotech & Pharmaceuticals                    0\n",
       "company_industry_Brokerage Services                          22\n",
       "company_industry_Building & Personnel Services              122\n",
       "company_industry_Cable, Internet & Telephone Providers        0\n",
       "company_industry_Chemical Manufacturing                     122\n",
       "company_industry_Colleges & Universities                      0\n",
       "company_industry_Computer Hardware & Software                 0\n",
       "company_industry_Consulting                                   0\n",
       "company_industry_Department, Clothing, & Shoe Stores          0\n",
       "company_industry_Education Training Services                100\n",
       "company_industry_Electrical & Electronic Manufacturing       22\n",
       "company_industry_Energy                                     100\n",
       "company_industry_Enterprise Software & Network Solutions      0\n",
       "company_industry_Federal Agencies                             0\n",
       "                                                           ... \n",
       "company_revenue_$1 to $2 billion (USD)                        0\n",
       "company_revenue_$1 to $5 million (USD)                        0\n",
       "company_revenue_$10 to $25 million (USD)                      0\n",
       "company_revenue_$10+ billion (USD)                            0\n",
       "company_revenue_$100 to $500 million (USD)                    0\n",
       "company_revenue_$2 to $5 billion (USD)                        0\n",
       "company_revenue_$25 to $50 million (USD)                      0\n",
       "company_revenue_$5 to $10 billion (USD)                       0\n",
       "company_revenue_$5 to $10 million (USD)                       0\n",
       "company_revenue_$50 to $100 million (USD)                     0\n",
       "company_revenue_$500 million to $1 billion (USD)              0\n",
       "company_revenue_Less than $1 million (USD)                    0\n",
       "company_size_1 to 50 Employees                                0\n",
       "company_size_10000+ Employees                                 0\n",
       "company_size_1001 to 5000 Employees                           0\n",
       "company_size_201 to 500 Employees                             0\n",
       "company_size_5001 to 10000 Employees                          0\n",
       "company_size_501 to 1000 Employees                            0\n",
       "company_size_51 to 200 Employees                              0\n",
       "company_type_College / University                             0\n",
       "company_type_Company - Private                                0\n",
       "company_type_Company - Public                                 0\n",
       "company_type_Government                                       0\n",
       "company_type_Nonprofit Organization                           0\n",
       "company_type_Subsidiary or Business Segment                   0\n",
       "company_year_founded                                         19\n",
       "lower_bound_salary                                            0\n",
       "salary                                                        0\n",
       "stock_bonus                                                 618\n",
       "upper_bound_salary                                            0\n",
       "Length: 85, dtype: int64"
      ]
     },
     "execution_count": 6,
     "metadata": {},
     "output_type": "execute_result"
    }
   ],
   "source": [
    "df.isnull().sum()"
   ]
  },
  {
   "cell_type": "code",
   "execution_count": 7,
   "metadata": {
    "scrolled": true
   },
   "outputs": [
    {
     "data": {
      "text/plain": [
       "Index(['Country', 'Description', 'Glassdoor Salary Estimate', 'Position_clean',\n",
       "       'Unnamed: 0.1', 'base_pay', 'bonus_pay', 'cash_bonus', 'company',\n",
       "       'company_industry_Accounting',\n",
       "       'company_industry_Advertising & Marketing',\n",
       "       'company_industry_Aerospace & Defense', 'company_industry_Airlines',\n",
       "       'company_industry_Architectural & Engineering Services',\n",
       "       'company_industry_Banks & Credit Unions',\n",
       "       'company_industry_Beauty & Personal Accessories Stores',\n",
       "       'company_industry_Biotech & Pharmaceuticals',\n",
       "       'company_industry_Brokerage Services',\n",
       "       'company_industry_Building & Personnel Services',\n",
       "       'company_industry_Cable, Internet & Telephone Providers',\n",
       "       'company_industry_Chemical Manufacturing',\n",
       "       'company_industry_Colleges & Universities',\n",
       "       'company_industry_Computer Hardware & Software',\n",
       "       'company_industry_Consulting',\n",
       "       'company_industry_Department, Clothing, & Shoe Stores',\n",
       "       'company_industry_Education Training Services',\n",
       "       'company_industry_Electrical & Electronic Manufacturing',\n",
       "       'company_industry_Energy',\n",
       "       'company_industry_Enterprise Software & Network Solutions',\n",
       "       'company_industry_Federal Agencies',\n",
       "       'company_industry_Financial Analytics & Research',\n",
       "       'company_industry_Food & Beverage Manufacturing',\n",
       "       'company_industry_Food & Beverage Stores',\n",
       "       'company_industry_Grocery Stores & Supermarkets',\n",
       "       'company_industry_Health Care Products Manufacturing',\n",
       "       'company_industry_Health Care Services & Hospitals',\n",
       "       'company_industry_IT Services',\n",
       "       'company_industry_Insurance Agencies & Brokerages',\n",
       "       'company_industry_Insurance Carriers', 'company_industry_Internet',\n",
       "       'company_industry_Investment Banking & Asset Management',\n",
       "       'company_industry_Lending', 'company_industry_Other Retail Stores',\n",
       "       'company_industry_Publishing', 'company_industry_Real Estate',\n",
       "       'company_industry_Research & Development',\n",
       "       'company_industry_Staffing & Outsourcing',\n",
       "       'company_industry_TV Broadcast & Cable Networks',\n",
       "       'company_industry_Telecommunications Services',\n",
       "       'company_industry_Transportation Equipment Manufacturing',\n",
       "       'company_industry_Transportation Management',\n",
       "       'company_industry_Trucking', 'company_industry_Utilities',\n",
       "       'company_location', 'company_rating',\n",
       "       'company_revenue_$1 to $2 billion (USD)',\n",
       "       'company_revenue_$1 to $5 million (USD)',\n",
       "       'company_revenue_$10 to $25 million (USD)',\n",
       "       'company_revenue_$10+ billion (USD)',\n",
       "       'company_revenue_$100 to $500 million (USD)',\n",
       "       'company_revenue_$2 to $5 billion (USD)',\n",
       "       'company_revenue_$25 to $50 million (USD)',\n",
       "       'company_revenue_$5 to $10 billion (USD)',\n",
       "       'company_revenue_$5 to $10 million (USD)',\n",
       "       'company_revenue_$50 to $100 million (USD)',\n",
       "       'company_revenue_$500 million to $1 billion (USD)',\n",
       "       'company_revenue_Less than $1 million (USD)',\n",
       "       'company_size_1 to 50 Employees', 'company_size_10000+ Employees',\n",
       "       'company_size_1001 to 5000 Employees',\n",
       "       'company_size_201 to 500 Employees',\n",
       "       'company_size_5001 to 10000 Employees',\n",
       "       'company_size_501 to 1000 Employees',\n",
       "       'company_size_51 to 200 Employees', 'company_type_College / University',\n",
       "       'company_type_Company - Private', 'company_type_Company - Public',\n",
       "       'company_type_Government', 'company_type_Nonprofit Organization',\n",
       "       'company_type_Subsidiary or Business Segment', 'company_year_founded',\n",
       "       'lower_bound_salary', 'salary', 'stock_bonus', 'upper_bound_salary'],\n",
       "      dtype='object')"
      ]
     },
     "execution_count": 7,
     "metadata": {},
     "output_type": "execute_result"
    }
   ],
   "source": [
    "df.columns"
   ]
  },
  {
   "cell_type": "code",
   "execution_count": 8,
   "metadata": {},
   "outputs": [],
   "source": [
    "df = df.drop(['Unnamed: 0.1'], axis = 1)"
   ]
  },
  {
   "cell_type": "code",
   "execution_count": 9,
   "metadata": {
    "scrolled": true
   },
   "outputs": [
    {
     "data": {
      "text/plain": [
       "(376, 84)"
      ]
     },
     "execution_count": 9,
     "metadata": {},
     "output_type": "execute_result"
    }
   ],
   "source": [
    "df[df.base_pay == df.salary].shape # ~44% of samples have 'base pay' == 'salary'"
   ]
  },
  {
   "cell_type": "markdown",
   "metadata": {},
   "source": [
    "## continuous/numerical variables - feature selection (base pay, bonus pay, cash bonus, stock bonus, lower bound, upper bound) w SALARY "
   ]
  },
  {
   "cell_type": "markdown",
   "metadata": {},
   "source": [
    "Use Pearson correlation / Spearman correlation, which are for *continuous/numerical variables only*.\n",
    "Note that Pearson examines *linear* association bw variables, but Spearman examines *monotonic* (increasing or decreasing, but not necessarily linear) relationship."
   ]
  },
  {
   "cell_type": "code",
   "execution_count": 10,
   "metadata": {},
   "outputs": [],
   "source": [
    "import matplotlib.pyplot as plt\n",
    "import seaborn as sns\n",
    "%matplotlib inline"
   ]
  },
  {
   "cell_type": "code",
   "execution_count": 11,
   "metadata": {},
   "outputs": [],
   "source": [
    "# subset out continuous variables\n",
    "cont_var = ['base_pay', 'bonus_pay', 'cash_bonus', 'lower_bound_salary', 'stock_bonus', 'upper_bound_salary', 'salary', 'company_rating' ]\n",
    "df_cont = df[cont_var]"
   ]
  },
  {
   "cell_type": "code",
   "execution_count": 13,
   "metadata": {
    "scrolled": true
   },
   "outputs": [
    {
     "data": {
      "image/png": "[encoded data removed]",
      "text/plain": [
       "<Figure size 864x720 with 2 Axes>"
      ]
     },
     "metadata": {
      "needs_background": "light"
     },
     "output_type": "display_data"
    }
   ],
   "source": [
    "plt.figure(figsize=(12,10))\n",
    "cor_pearson = df_cont.corr()\n",
    "sns.heatmap(cor_pearson, annot=True, cmap=plt.cm.Reds)\n",
    "plt.show()"
   ]
  },
  {
   "cell_type": "markdown",
   "metadata": {},
   "source": [
    "Use threshold of 0.5 (between continuous predictor and target 'salary) as criterion. \n",
    "So only correlation > 0.5 gets selected. Here that means 'cash bonus' gets dropped."
   ]
  },
  {
   "cell_type": "code",
   "execution_count": 14,
   "metadata": {},
   "outputs": [],
   "source": [
    "cor_y = cor_pearson['salary'] # correlation bw 'salary' and all other continuous predictors"
   ]
  },
  {
   "cell_type": "code",
   "execution_count": 15,
   "metadata": {},
   "outputs": [
    {
     "data": {
      "text/plain": [
       "base_pay              0.918254\n",
       "bonus_pay             0.507505\n",
       "lower_bound_salary    0.883234\n",
       "stock_bonus           0.606371\n",
       "upper_bound_salary    0.856422\n",
       "salary                1.000000\n",
       "Name: salary, dtype: float64"
      ]
     },
     "execution_count": 15,
     "metadata": {},
     "output_type": "execute_result"
    }
   ],
   "source": [
    "feat_to_select = cor_y[cor_y > 0.5]\n",
    "feat_to_select"
   ]
  },
  {
   "cell_type": "code",
   "execution_count": 16,
   "metadata": {},
   "outputs": [
    {
     "data": {
      "text/plain": [
       "cash_bonus        0.254959\n",
       "company_rating   -0.049637\n",
       "Name: salary, dtype: float64"
      ]
     },
     "execution_count": 16,
     "metadata": {},
     "output_type": "execute_result"
    }
   ],
   "source": [
    "feat_to_drop = cor_y[cor_y <= 0.5]\n",
    "feat_to_drop"
   ]
  }
 ],
 "metadata": {
  "kernelspec": {
   "display_name": "Python 3",
   "language": "python",
   "name": "python3"
  },
  "language_info": {
   "codemirror_mode": {
    "name": "ipython",
    "version": 3
   },
   "file_extension": ".py",
   "mimetype": "text/x-python",
   "name": "python",
   "nbconvert_exporter": "python",
   "pygments_lexer": "ipython3",
   "version": "3.7.3"
  }
 },
 "nbformat": 4,
 "nbformat_minor": 2
}
